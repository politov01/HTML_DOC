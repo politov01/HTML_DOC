{
 "cells": [
  {
   "cell_type": "markdown",
   "metadata": {},
   "source": [
    "# Manipulating matrices-creating, filling, accessing elements, and ROIs\n",
    "\n",
    "This recipe covers the creation and initialization of matrices, access to its elements, pixels, and also how we can work with part of a matrix.\n"
   ]
  },
  {
   "cell_type": "code",
   "execution_count": 1,
   "metadata": {},
   "outputs": [
    {
     "name": "stdout",
     "output_type": "stream",
     "text": [
      "[[inf inf]\n",
      " [inf inf]]\n",
      "[[10 10]\n",
      " [10 10]]\n"
     ]
    }
   ],
   "source": [
    "# We'll start by importing OpenCV and Numpy\n",
    "\n",
    "# OpenCV is a library of programming functions \n",
    "# mainly aimed at real-time computer vision\n",
    "import cv2\n",
    "\n",
    "# NumPy is the fundamental package for scientific computing with Python. \n",
    "# It contains among other things: a powerful N-dimensional array object\n",
    "import numpy as np\n",
    "# numpy.full(shape, fill_value, dtype=None, order='C')[source]\n",
    "#       Return a new array of given shape and type, filled with fill_value.\n",
    "# Parameters:\n",
    "#       shape : int or sequence of ints\n",
    "#               Shape of the new array, e.g., (2, 3) or 2.\n",
    "#       fill_value : scalar\n",
    "#                    Fill value.\n",
    "#       dtype : data-type, optional\n",
    "#               The desired data-type for the array The default, None, means\n",
    "#               np.array(fill_value).dtype.\n",
    "#       order : {‘C’, ‘F’}, optional\n",
    "#               Whether to store multidimensional data in C- or Fortran-contiguous (row- or column-wise) order in memory.\n",
    "# Returns:\n",
    "#       out : ndarray\n",
    "#             Array of fill_value with the given shape, dtype, and order.\n",
    "print(np.full((2, 2), np.inf))\n",
    "print(np.full((2, 2), 10))"
   ]
  },
  {
   "cell_type": "code",
   "execution_count": 2,
   "metadata": {},
   "outputs": [
    {
     "name": "stdout",
     "output_type": "stream",
     "text": [
      "Using matplotlib backend: TkAgg\n",
      "Populating the interactive namespace from numpy and matplotlib\n",
      "D:\\HTML_DOC\\Program\\opencv\\Packt\\S02\\env\n",
      "C:\\Program Files\\Python38\\python38.zip\n",
      "C:\\Program Files\\Python38\\DLLs\n",
      "C:\\Program Files\\Python38\\lib\n",
      "C:\\Program Files\\Python38\n",
      "d:\\html_doc\\program\\opencv\\packt\\s02\\env\n",
      "\n",
      "d:\\html_doc\\program\\opencv\\packt\\s02\\env\\lib\\site-packages\n",
      "d:\\html_doc\\program\\opencv\\packt\\s02\\env\\lib\\site-packages\\pip-20.0.2-py3.8.egg\n",
      "d:\\html_doc\\program\\opencv\\packt\\s02\\env\\lib\\site-packages\\win32\n",
      "d:\\html_doc\\program\\opencv\\packt\\s02\\env\\lib\\site-packages\\win32\\lib\n",
      "d:\\html_doc\\program\\opencv\\packt\\s02\\env\\lib\\site-packages\\Pythonwin\n",
      "d:\\html_doc\\program\\opencv\\packt\\s02\\env\\lib\\site-packages\\IPython\\extensions\n",
      "C:\\Users\\polit\\.ipython\n"
     ]
    }
   ],
   "source": [
    "import matplotlib.pyplot as plt\n",
    "import numpy as np\n",
    "\n",
    "%matplotlib auto\n",
    "%pylab inline\n",
    "\n",
    "\n",
    "def print_image(header,name,np_arr,start_First=0, end_First=1, start_Second=0, end_Second=2):\n",
    "    print(header)\n",
    "    print('  Shape:', np_arr.shape, '  Data type:', np_arr.dtype)\n",
    "    shapes = np_arr.shape #print(shapes)\n",
    "    if shapes[0] < end_First:\n",
    "        end_First = shapes[0]\n",
    "    if shapes[1] < end_Second:\n",
    "        end_Second = shapes[1]\n",
    "    if len(shapes)==3:\n",
    "        for i in range (start_First,end_First):\n",
    "            print(\"[\", end=\" \")\n",
    "            for k in range (start_Second,end_Second):\n",
    "                print(np_arr[i,k], end=\" \")\n",
    "            if i == end_First-1:\n",
    "                print(']  {}:'.format(name), np_arr.dtype)\n",
    "            else:\n",
    "                 print(\"]\")\n",
    "    if len(shapes)==2:\n",
    "        for i in range (start_First,end_First):\n",
    "            print(\"[\", end=\" \")\n",
    "            for k in range (start_Second,end_Second):\n",
    "                print(np_arr[i,k], end=\" \")\n",
    "            if i == end_First-1:\n",
    "                print(']  {}:'.format(name), np_arr.dtype)\n",
    "            else:\n",
    "                print(\"]\")\n",
    "\n",
    "def plt_view_image(plt,list_images):\n",
    "    #%pylab inline\n",
    "    plt.figure(figsize=(15,6))\n",
    "    n = len(list_images)  #; print(n)\n",
    "    plot_number = 1\n",
    "    for name, img in list_images:\n",
    "        plt.subplot(1,n,plot_number)\n",
    "        plt.axis('off')\n",
    "        plt.title(name)\n",
    "        plt.imshow(img,cmap='gray' )\n",
    "        plot_number = plot_number + 1\n",
    "    plt.show()\n",
    "#help(\"modules\")   \n",
    "import sys             \n",
    "print('\\n'.join(sys.path))\n",
    "#pip list\""
   ]
  },
  {
   "cell_type": "code",
   "execution_count": 3,
   "metadata": {},
   "outputs": [
    {
     "name": "stdout",
     "output_type": "stream",
     "text": [
      "image_white\n",
      "  Shape: (480, 640, 3)   Data type: uint8\n",
      "[ [255 255 255] [255 255 255] [255 255 255] [255 255 255] [255 255 255] [255 255 255] [255 255 255] [255 255 255] [255 255 255] [255 255 255] ]  image_white: uint8\n"
     ]
    },
    {
     "data": {
      "text/plain": [
       "<Figure size 216x216 with 0 Axes>"
      ]
     },
     "metadata": {},
     "output_type": "display_data"
    },
    {
     "data": {
      "image/png": "[encoded data removed]",
      "text/plain": [
       "<Figure size 1080x432 with 1 Axes>"
      ]
     },
     "metadata": {
      "needs_background": "light"
     },
     "output_type": "display_data"
    }
   ],
   "source": [
    "# np.full() Return a new array of given shape and type, filled with (b,g,r)\n",
    "image_white = np.full((480, 640, 3), (255,255,255), np.uint8)\n",
    "\n",
    "\n",
    "#############################################################\n",
    "print_image('image_white', 'image_white',  image_white,0,1,0,10)\n",
    "\n",
    "plt.figure(figsize=(3,3))\n",
    "plt_view_image(plt,[[\"image_white\",image_white]  ])\n",
    "\n",
    "# Now let's see how our white image looks\n",
    "cv2.imshow('image_white', image_white)\n",
    "cv2.waitKey()\n",
    "cv2.destroyAllWindows()"
   ]
  },
  {
   "cell_type": "code",
   "execution_count": 4,
   "metadata": {},
   "outputs": [
    {
     "name": "stdout",
     "output_type": "stream",
     "text": [
      "image_white\n",
      "  Shape: (480, 640, 3)   Data type: uint8\n",
      "[ [255 255 255] [255 255 255] [255 255 255] [255 255 255] [255 255 255] [255 255 255] [255 255 255] [255 255 255] [255 255 255] [255 255 255] ]  image_white: uint8\n",
      "image_red\n",
      "  Shape: (480, 640, 3)   Data type: uint8\n",
      "[ [  0   0 255] [  0   0 255] [  0   0 255] [  0   0 255] [  0   0 255] [  0   0 255] [  0   0 255] [  0   0 255] [  0   0 255] [  0   0 255] ]  image_red: uint8\n"
     ]
    },
    {
     "data": {
      "text/plain": [
       "<Figure size 360x360 with 0 Axes>"
      ]
     },
     "metadata": {},
     "output_type": "display_data"
    },
    {
     "data": {
      "image/png": "[encoded data removed]",
      "text/plain": [
       "<Figure size 1080x432 with 3 Axes>"
      ]
     },
     "metadata": {
      "needs_background": "light"
     },
     "output_type": "display_data"
    }
   ],
   "source": [
    "# This time we'll fill the image with RED (Blue, Green, Red) where Red=255\n",
    "image_red = np.full((480, 640, 3), (0, 0, 255), np.uint8)\n",
    "\n",
    "\n",
    "#############################################################\n",
    "print_image('image_white', 'image_white',  image_white,0,1,0,10)\n",
    "print_image('image_red',   'image_red',    image_red,0,1,0,10)\n",
    "\n",
    "plt.figure(figsize=(5,5))\n",
    "plt_view_image(plt,[[\"image_white\",image_white], [\"image_red\",image_red],[\"image_red [2,1,0]\",image_red[:,:,[2,1,0]]]   ])\n",
    "\n",
    "# Now let's see how it looks\n",
    "cv2.imshow('image_white, image_red', np.hstack([image_white, image_red]))\n",
    "cv2.waitKey()\n",
    "cv2.destroyAllWindows()"
   ]
  },
  {
   "cell_type": "code",
   "execution_count": 5,
   "metadata": {},
   "outputs": [
    {
     "name": "stdout",
     "output_type": "stream",
     "text": [
      "image_black\n",
      "  Shape: (480, 640, 3)   Data type: uint8\n",
      "[ [255 255 255] [255 255 255] [255 255 255] [255 255 255] [255 255 255] [255 255 255] [255 255 255] [255 255 255] [255 255 255] [255 255 255] ]  image_black: uint8\n"
     ]
    },
    {
     "data": {
      "text/plain": [
       "<Figure size 216x216 with 0 Axes>"
      ]
     },
     "metadata": {},
     "output_type": "display_data"
    },
    {
     "data": {
      "image/png": "[encoded data removed]",
      "text/plain": [
       "<Figure size 1080x432 with 2 Axes>"
      ]
     },
     "metadata": {
      "needs_background": "light"
     },
     "output_type": "display_data"
    },
    {
     "name": "stdout",
     "output_type": "stream",
     "text": [
      "image_white\n",
      "  Shape: (480, 640, 3)   Data type: uint8\n",
      "[ [255 255 255] [255 255 255] [255 255 255] [255 255 255] ]\n",
      "[ [255 255 255] [255 255 255] [255 255 255] [255 255 255] ]  image_white: uint8\n",
      "image_red\n",
      "  Shape: (480, 640, 3)   Data type: uint8\n",
      "[ [  0   0 255] [  0   0 255] [  0   0 255] [  0   0 255] ]\n",
      "[ [  0   0 255] [  0   0 255] [  0   0 255] [  0   0 255] ]  image_red: uint8\n",
      "image_black\n",
      "  Shape: (480, 640, 3)   Data type: uint8\n",
      "[ [0 0 0] [0 0 0] [0 0 0] [0 0 0] ]\n",
      "[ [0 0 0] [0 0 0] [0 0 0] [0 0 0] ]  image_black: uint8\n"
     ]
    },
    {
     "data": {
      "text/plain": [
       "<Figure size 576x576 with 0 Axes>"
      ]
     },
     "metadata": {},
     "output_type": "display_data"
    },
    {
     "data": {
      "image/png": "[encoded data removed]",
      "text/plain": [
       "<Figure size 1080x432 with 4 Axes>"
      ]
     },
     "metadata": {
      "needs_background": "light"
     },
     "output_type": "display_data"
    }
   ],
   "source": [
    "image_black = np.copy(image_white)\n",
    "\n",
    "#############################################################\n",
    "print_image('image_black', 'image_black',  image_black,0,1,0,10)\n",
    "plt.figure(figsize=(3,3))\n",
    "plt_view_image(plt,[[\"image_white\",image_white], [\"image_black\",image_black] ])\n",
    "\n",
    "\n",
    "# Let's fill the image with ZEROS\n",
    "# 0 Means black pixels\n",
    "image_black.fill(0)\n",
    "\n",
    "#############################################################\n",
    "print_image('image_white', 'image_white',  image_white,240,242,319,323)\n",
    "print_image('image_red',   'image_red',    image_red,  240,242,319,323)\n",
    "print_image('image_black', 'image_black',  image_black,240,242,319,323)\n",
    "\n",
    "plt.figure(figsize=(8,8))\n",
    "plt_view_image(plt,[[\"image_white\",image_white], [\"image_black\",image_black], \n",
    "                    [\"image_red\",image_red],[\"image_red [2,1,0]\",image_red[:,:,[2,1,0]]]   ])\n",
    "\n",
    "# Now let's see how it looks\n",
    "cv2.imshow('image_white, image_red,image_black', np.hstack([image_white, image_red,image_black]))\n",
    "cv2.waitKey()\n",
    "cv2.destroyAllWindows()"
   ]
  },
  {
   "cell_type": "code",
   "execution_count": 6,
   "metadata": {},
   "outputs": [
    {
     "name": "stdout",
     "output_type": "stream",
     "text": [
      "image_black\n",
      "  Shape: (480, 640, 3)   Data type: uint8\n",
      "[ [0 0 0] [0 0 0] [0 0 0] [0 0 0] ]\n",
      "[ [0 0 0] [0 0 0] [0 0 0] [0 0 0] ]  image_black: uint8\n",
      "image_black\n",
      "  Shape: (480, 640, 3)   Data type: uint8\n",
      "[ [0 0 0] [255 255 255] [0 0 0] [0 0 0] ]\n",
      "[ [0 0 0] [0 0 0] [0 0 0] [0 0 0] ]  image_black: uint8\n"
     ]
    },
    {
     "data": {
      "text/plain": [
       "<Figure size 576x576 with 0 Axes>"
      ]
     },
     "metadata": {},
     "output_type": "display_data"
    },
    {
     "data": {
      "image/png": "[encoded data removed]",
      "text/plain": [
       "<Figure size 1080x432 with 4 Axes>"
      ]
     },
     "metadata": {
      "needs_background": "light"
     },
     "output_type": "display_data"
    }
   ],
   "source": [
    "print_image('image_black', 'image_black',  image_black,240,242,319,323)\n",
    "\n",
    "# We'll create a white pixel\n",
    "white_pixel = (255, 255, 255)\n",
    "\n",
    "# We'll choose three pixel locations\n",
    "# (240, 160), (240, 320) and (240, 480)\n",
    "# and set their values to white_pixel values\n",
    "image_black[240, 160] = white_pixel\n",
    "image_black[240, 320] = white_pixel\n",
    "image_black[240, 480] = white_pixel\n",
    "\n",
    "\n",
    "#############################################################\n",
    "print_image('image_black', 'image_black',  image_black,240,242,319,323)\n",
    "\n",
    "plt.figure(figsize=(8,8))\n",
    "plt_view_image(plt,[[\"image_white\",image_white], [\"image_black\",image_black], \n",
    "                    [\"image_red\",image_red],[\"image_red [2,1,0]\",image_red[:,:,[2,1,0]]]   ])\n",
    "\n",
    "#Let's see If we can see the white dots\n",
    "cv2.imshow('black with white pixels', np.hstack([image_black, image_red]))\n",
    "cv2.waitKey()\n",
    "cv2.destroyAllWindows()"
   ]
  },
  {
   "cell_type": "code",
   "execution_count": 7,
   "metadata": {},
   "outputs": [
    {
     "name": "stdout",
     "output_type": "stream",
     "text": [
      "image_black\n",
      "  Shape: (480, 640, 3)   Data type: uint8\n",
      "[ [255   0   0] [255 255 255] [255   0   0] [255   0   0] ]\n",
      "[ [255   0   0] [255   0   0] [255   0   0] [255   0   0] ]  image_black: uint8\n"
     ]
    },
    {
     "data": {
      "text/plain": [
       "<Figure size 576x576 with 0 Axes>"
      ]
     },
     "metadata": {},
     "output_type": "display_data"
    },
    {
     "data": {
      "image/png": "[encoded data removed]",
      "text/plain": [
       "<Figure size 1080x432 with 4 Axes>"
      ]
     },
     "metadata": {
      "needs_background": "light"
     },
     "output_type": "display_data"
    }
   ],
   "source": [
    "# Here the last dimension refers to the channel\n",
    "# We're selecting the first channel i.e B: Blue\n",
    "# and setting all the pixels in the blue channel\n",
    "# to max value i.e 255\n",
    "\n",
    "image_black[:, :, 0] = 255\n",
    "\n",
    "#############################################################\n",
    "print_image('image_black', 'image_black',  image_black,240,242,319,323)\n",
    "\n",
    "plt.figure(figsize=(8,8))\n",
    "plt_view_image(plt,[[\"image_white\",image_white], [\"image_was_black\",image_black], \n",
    "                    [\"image_red\",image_red],[\"image_red [2,1,0]\",image_red[:,:,[2,1,0]]]   ])\n",
    "\n",
    "cv2.imshow('blue with white pixels', np.hstack([image_black, image_red]))\n",
    "cv2.waitKey()\n",
    "cv2.destroyAllWindows()"
   ]
  },
  {
   "cell_type": "code",
   "execution_count": 8,
   "metadata": {},
   "outputs": [
    {
     "name": "stdout",
     "output_type": "stream",
     "text": [
      "image_black\n",
      "  Shape: (480, 640, 3)   Data type: uint8\n",
      "[ [255   0   0] [255 255 255] [255   0   0] [255   0   0] ]\n",
      "[ [255   0   0] [255 255 255] [255   0   0] [255   0   0] ]  image_black: uint8\n"
     ]
    },
    {
     "data": {
      "text/plain": [
       "<Figure size 576x576 with 0 Axes>"
      ]
     },
     "metadata": {},
     "output_type": "display_data"
    },
    {
     "data": {
      "image/png": "[encoded data removed]",
      "text/plain": [
       "<Figure size 1080x432 with 4 Axes>"
      ]
     },
     "metadata": {
      "needs_background": "light"
     },
     "output_type": "display_data"
    }
   ],
   "source": [
    "# Let's say image has rows and colums\n",
    "# and each intersection is a pixel\n",
    "\n",
    "# Now, we're selecting all the rows\n",
    "# but only where the y=320 \n",
    "# we'll set the pixels to white 255\n",
    "\n",
    "image_black[:, 320, :] = 255\n",
    "\n",
    "\n",
    "#############################################################\n",
    "print_image('image_black', 'image_black',  image_black,240,242,319,323)\n",
    "\n",
    "plt.figure(figsize=(8,8))\n",
    "plt_view_image(plt,[[\"image_white\",image_white], [\"image_was_black\",image_black[:,:,[2,1,0]]], \n",
    "                    [\"image_red\",image_red],[\"image_red [2,1,0]\",image_red[:,:,[2,1,0]]]   ])\n",
    "\n",
    "cv2.imshow('blue with white line', np.hstack([image_black, image_red]))\n",
    "cv2.waitKey()\n",
    "cv2.destroyAllWindows()"
   ]
  },
  {
   "cell_type": "code",
   "execution_count": 9,
   "metadata": {},
   "outputs": [
    {
     "name": "stdout",
     "output_type": "stream",
     "text": [
      "image_black\n",
      "  Shape: (480, 640, 3)   Data type: uint8\n",
      "[ [255   0   0] [255   0   0] [255   0   0] [255   0   0] [255   0   0] [255   0   0] [255   0   0] [255   0   0] [255   0   0] [255   0   0] ]\n",
      "[ [255   0   0] [255   0 255] [255   0 255] [255   0 255] [255   0 255] [255   0 255] [255   0 255] [255   0 255] [255   0 255] [255   0 255] ]  image_black: uint8\n"
     ]
    },
    {
     "data": {
      "text/plain": [
       "<Figure size 576x576 with 0 Axes>"
      ]
     },
     "metadata": {},
     "output_type": "display_data"
    },
    {
     "data": {
      "image/png": "[encoded data removed]",
      "text/plain": [
       "<Figure size 1080x432 with 4 Axes>"
      ]
     },
     "metadata": {
      "needs_background": "light"
     },
     "output_type": "display_data"
    }
   ],
   "source": [
    "image_black[100:400, 100:200, 2] = 255\n",
    "\n",
    "\n",
    "#############################################################\n",
    "print_image('image_black', 'image_black',  image_black,99,101,99,109)\n",
    "\n",
    "plt.figure(figsize=(8,8))\n",
    "plt_view_image(plt,[[\"image_white\",image_white], [\"image_was_black\",image_black[:,:,[2,1,0]]], \n",
    "                    [\"image_red\",image_red],[\"image_red [2,1,0]\",image_red[:,:,[2,1,0]]]   ])\n",
    "\n",
    "\n",
    "cv2.imshow('blue with white line', np.hstack([image_black, image_red]))\n",
    "cv2.waitKey()\n",
    "cv2.destroyAllWindows()"
   ]
  },
  {
   "cell_type": "code",
   "execution_count": null,
   "metadata": {},
   "outputs": [],
   "source": []
  }
 ],
 "metadata": {
  "kernelspec": {
   "display_name": "env",
   "language": "python",
   "name": "env"
  },
  "language_info": {
   "codemirror_mode": {
    "name": "ipython",
    "version": 3
   },
   "file_extension": ".py",
   "mimetype": "text/x-python",
   "name": "python",
   "nbconvert_exporter": "python",
   "pygments_lexer": "ipython3",
   "version": "3.8.1"
  }
 },
 "nbformat": 4,
 "nbformat_minor": 2
}
