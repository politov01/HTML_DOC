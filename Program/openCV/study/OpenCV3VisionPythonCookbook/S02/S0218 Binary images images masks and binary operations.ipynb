{
 "cells": [
  {
   "cell_type": "markdown",
   "metadata": {},
   "source": [
    "# Image masks and binary operations\n",
    "\n",
    "It's convenient to represent binary images—images containing only black and white pixels—using `np.uint8` arrays with only `0` and `255` values correspondingly. Both OpenCV and NumPy support all usual binary operators: `NOT`, `AND`, `OR`, `XOR`. They are available through aliases, such as `~`, `&`, `|`, `^`, as well as through functions such as `cv2.bitwise_not/np.bitwise_not` and `cv2.bitwise_and/np.bitwise_and`."
   ]
  },
  {
   "cell_type": "code",
   "execution_count": 1,
   "metadata": {},
   "outputs": [
    {
     "name": "stdout",
     "output_type": "stream",
     "text": [
      "Using matplotlib backend: TkAgg\n",
      "Populating the interactive namespace from numpy and matplotlib\n"
     ]
    }
   ],
   "source": [
    "import cv2\n",
    "import numpy as np\n",
    "import matplotlib.pyplot as plt\n",
    "\n",
    "%matplotlib auto\n",
    "%pylab inline"
   ]
  },
  {
   "cell_type": "code",
   "execution_count": 2,
   "metadata": {},
   "outputs": [],
   "source": [
    "# Create a binary image with a circle mask\n",
    "\n",
    "circle_image = np.zeros((500, 500), np.uint8)\n",
    "cv2.circle(circle_image, (250, 250), 100, 255, -1)\n",
    "\n",
    "cv2.imshow('Image with Circle Mask', circle_image)\n",
    "cv2.waitKey()\n",
    "cv2.destroyAllWindows()"
   ]
  },
  {
   "cell_type": "code",
   "execution_count": 3,
   "metadata": {},
   "outputs": [],
   "source": [
    "# Create a binary image with a rectangle mask\n",
    "\n",
    "rect_image = np.zeros((500, 500), np.uint8)\n",
    "cv2.rectangle(rect_image, (100, 100), (400, 250), 255, -1)\n",
    "\n",
    "cv2.imshow('Image with Rectangle Mask', rect_image)\n",
    "cv2.waitKey()\n",
    "cv2.destroyAllWindows()"
   ]
  },
  {
   "cell_type": "code",
   "execution_count": 4,
   "metadata": {},
   "outputs": [],
   "source": [
    "# Combine the circle and rectangle masks using a bitwise AND operator\n",
    "\n",
    "circle_and_rect_image = circle_image & rect_image"
   ]
  },
  {
   "cell_type": "code",
   "execution_count": 5,
   "metadata": {},
   "outputs": [],
   "source": [
    "# Combine the circle and rectangle masks using a bitwise OR operator\n",
    "\n",
    "circle_or_rect_image = circle_image | rect_image"
   ]
  },
  {
   "cell_type": "code",
   "execution_count": 6,
   "metadata": {},
   "outputs": [
    {
     "name": "stdout",
     "output_type": "stream",
     "text": [
      "Populating the interactive namespace from numpy and matplotlib\n"
     ]
    },
    {
     "data": {
      "image/png": "[encoded data removed]",
      "text/plain": [
       "<Figure size 720x720 with 4 Axes>"
      ]
     },
     "metadata": {
      "needs_background": "light"
     },
     "output_type": "display_data"
    }
   ],
   "source": [
    "# Visualize the results:\n",
    "\n",
    "%pylab inline\n",
    "plt.figure(figsize=(10,10))\n",
    "plt.subplot(221)\n",
    "plt.axis('off')\n",
    "plt.title('circle')\n",
    "plt.imshow(circle_image, cmap='gray')\n",
    "plt.subplot(222)\n",
    "plt.axis('off')\n",
    "plt.title('rectangle')\n",
    "plt.imshow(rect_image, cmap='gray')\n",
    "plt.subplot(223)\n",
    "plt.axis('off')\n",
    "plt.title('circle & rectangle')\n",
    "plt.imshow(circle_and_rect_image, cmap='gray')\n",
    "plt.subplot(224)\n",
    "plt.axis('off')\n",
    "plt.title('circle | rectangle')\n",
    "plt.imshow(circle_or_rect_image, cmap='gray')\n",
    "plt.tight_layout(True)\n",
    "plt.show()"
   ]
  },
  {
   "cell_type": "code",
   "execution_count": null,
   "metadata": {},
   "outputs": [],
   "source": []
  }
 ],
 "metadata": {
  "kernelspec": {
   "display_name": "env",
   "language": "python",
   "name": "env"
  },
  "language_info": {
   "codemirror_mode": {
    "name": "ipython",
    "version": 3
   },
   "file_extension": ".py",
   "mimetype": "text/x-python",
   "name": "python",
   "nbconvert_exporter": "python",
   "pygments_lexer": "ipython3",
   "version": "3.8.1"
  }
 },
 "nbformat": 4,
 "nbformat_minor": 2
}
