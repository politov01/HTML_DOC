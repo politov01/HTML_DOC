{
 "cells": [
  {
   "cell_type": "markdown",
   "metadata": {},
   "source": [
    "# Calculating image moments\n",
    "\n",
    "Image moments are statistical values computed from an image. They allow us to analyze the image as a whole. Note that it's often useful to extract contours first, and only then compute and work with each component moment, independently. In this recipe, you will learn how to compute moments for binary/grayscale images.\n",
    "\n",
    "For binary or grayscale images, image moments are computed using the OpenCV function `cv2.moments`. It returns a dict of the calculated moments, with their respective names.\n",
    "\n",
    "# [Моменты изображения](https://ru.wikipedia.org/wiki/Моменты_изображения)\n",
    "\n",
    "__Моменты изображения__ (англ. *image moments*) в [компьютерном зрении](https://ru.wikipedia.org/wiki/Компьютерное_зрение), [обработке изображений](https://ru.wikipedia.org/wiki/Обработка_изображений) и смежных областях — некоторые частные средневзвешенные (момент) интенсивностей [пикселей](https://ru.wikipedia.org/wiki/Пиксель) изображения, или функция таких моментов. Как правило, выбираются моменты, имеющие полезные свойства или интерпретации.\n",
    "\n",
    "В самом общем смысле момент функции — это некая скалярная величина, которая характеризует эту функцию и может быть использована для артикуляции её важных свойств. С математической точки зрения набор моментов является в некотором смысле «проекцией» функции на [полиномиальный](https://ru.wikipedia.org/wiki/Многочлен) базис. Он аналогичен [преобразованию Фурье](https://ru.wikipedia.org/wiki/Преобразование_Фурье), которое представляет из себя проекцию функции на базис из гармонических функций.\n",
    "\n",
    "Моменты изображения полезны для описания объектов после [сегментации](https://ru.wikipedia.org/wiki/Сегментация_(обработка_изображений)). Простые свойства изображения, которые можно найти с помощью моментов, включают в себя площадь (или суммарную интенсивность), геометрический центр и информацию об ориентации. Кроме них в математической статистике давно применяются моменты более высоких порядков, например [коэффициент асимметрии](https://ru.wikipedia.org/wiki/Коэффициент_асимметрии) и [коэффициент эксцесса](https://ru.wikipedia.org/wiki/Коэффициент_эксцесса)."
   ]
  },
  {
   "cell_type": "code",
   "execution_count": 1,
   "metadata": {},
   "outputs": [
    {
     "name": "stdout",
     "output_type": "stream",
     "text": [
      "Using matplotlib backend: TkAgg\n",
      "Populating the interactive namespace from numpy and matplotlib\n",
      "D:\\HTML_DOC\\Program\\opencv\\Packt\\S03\\env\n",
      "C:\\Program Files\\Python38\\python38.zip\n",
      "C:\\Program Files\\Python38\\DLLs\n",
      "C:\\Program Files\\Python38\\lib\n",
      "C:\\Program Files\\Python38\n",
      "d:\\html_doc\\program\\opencv\\packt\\s03\\env\n",
      "\n",
      "d:\\html_doc\\program\\opencv\\packt\\s03\\env\\lib\\site-packages\n",
      "d:\\html_doc\\program\\opencv\\packt\\s03\\env\\lib\\site-packages\\pip-20.0.2-py3.8.egg\n",
      "d:\\html_doc\\program\\opencv\\packt\\s03\\env\\lib\\site-packages\\win32\n",
      "d:\\html_doc\\program\\opencv\\packt\\s03\\env\\lib\\site-packages\\win32\\lib\n",
      "d:\\html_doc\\program\\opencv\\packt\\s03\\env\\lib\\site-packages\\Pythonwin\n",
      "d:\\html_doc\\program\\opencv\\packt\\s03\\env\\lib\\site-packages\\IPython\\extensions\n",
      "C:\\Users\\polit\\.ipython\n"
     ]
    }
   ],
   "source": [
    "import cv2\n",
    "import matplotlib.pyplot as plt\n",
    "import numpy as np\n",
    "\n",
    "%matplotlib auto\n",
    "%pylab inline\n",
    "\n",
    "\n",
    "def print_image(header,name,np_arr,start_First=0, end_First=1, start_Second=0, end_Second=2):\n",
    "    print(\"------  {0:-<25}    Shape{1} {2}: {3:}\".format(header, np_arr.shape, name, str(np_arr.dtype)) )\n",
    "    shapes = np_arr.shape #print(shapes)\n",
    "    if shapes[0] < end_First:\n",
    "        end_First = shapes[0]\n",
    "    if shapes[1] < end_Second:\n",
    "        end_Second = shapes[1]\n",
    "    if len(shapes)==3:\n",
    "        for i in range (start_First,end_First):\n",
    "            print(\"[\", end=\" \")\n",
    "            for k in range (start_Second,end_Second):\n",
    "                print(np_arr[i,k], end=\" \")\n",
    "            print(']')\n",
    "    if len(shapes)==2:\n",
    "        for i in range (start_First,end_First):\n",
    "            print(\"[\", end=\" \")\n",
    "            for k in range (start_Second,end_Second):\n",
    "                print(np_arr[i,k], end=\" \")\n",
    "            print(']')\n",
    "def plt_view_image(plt,list_images,figsize=(15,6), axis=\"off\", cmap='gray'):\n",
    "    #%pylab inline\n",
    "    plt.figure(figsize=figsize)\n",
    "    n = len(list_images)  #; print(n)\n",
    "    plot_number = 1\n",
    "    for name, img in list_images:\n",
    "        plt.subplot(1,n,plot_number)\n",
    "        plt.axis(axis)\n",
    "        plt.title(name)\n",
    "        if cmap =='gray':\n",
    "            plt.imshow(img,cmap='gray' )\n",
    "        else:\n",
    "            plt.imshow(img )\n",
    "        plot_number = plot_number + 1\n",
    "    plt.show()\n",
    "#help(\"modules\")   \n",
    "import sys             \n",
    "print('\\n'.join(sys.path))\n",
    "#pip list\""
   ]
  },
  {
   "cell_type": "code",
   "execution_count": 2,
   "metadata": {},
   "outputs": [
    {
     "data": {
      "text/plain": [
       "array([[0, 0, 0, ..., 0, 0, 0],\n",
       "       [0, 0, 0, ..., 0, 0, 0],\n",
       "       [0, 0, 0, ..., 0, 0, 0],\n",
       "       ...,\n",
       "       [0, 0, 0, ..., 0, 0, 0],\n",
       "       [0, 0, 0, ..., 0, 0, 0],\n",
       "       [0, 0, 0, ..., 0, 0, 0]], dtype=uint8)"
      ]
     },
     "execution_count": 2,
     "metadata": {},
     "output_type": "execute_result"
    }
   ],
   "source": [
    "image = np.zeros((480, 640), np.uint8)\n",
    "cv2.ellipse(image, (320, 240), (200, 100), 0, 0, 360, 255, -1)"
   ]
  },
  {
   "cell_type": "code",
   "execution_count": 3,
   "metadata": {},
   "outputs": [
    {
     "data": {
      "image/png": "[encoded data removed]",
      "text/plain": [
       "<Figure size 432x432 with 1 Axes>"
      ]
     },
     "metadata": {
      "needs_background": "light"
     },
     "output_type": "display_data"
    }
   ],
   "source": [
    "plt_view_image(plt,[[\"Fit ellipse\",image]], figsize=(6,6), axis='on', cmap='gray')"
   ]
  },
  {
   "cell_type": "code",
   "execution_count": 4,
   "metadata": {},
   "outputs": [
    {
     "name": "stdout",
     "output_type": "stream",
     "text": [
      "m00 \t 16119315.0\n",
      "m10 \t 5158101240.0\n",
      "m01 \t 3868620810.0\n",
      "m20 \t 1812142855350.0\n",
      "m11 \t 1237939564800.0\n",
      "m02 \t 969157708320.0\n",
      "m30 \t 683285449618080.0\n",
      "m21 \t 434912202354750.0\n",
      "m12 \t 310125260718570.0\n",
      "m03 \t 252129278267070.0\n",
      "mu20 \t 161575917357.3161\n",
      "mu11 \t -72.99898365715876\n",
      "mu02 \t 40692263506.429634\n",
      "mu30 \t 1687957749.1273296\n",
      "mu21 \t -420182048.74010897\n",
      "mu12 \t -422443285.191627\n",
      "mu03 \t 105694127.70601428\n",
      "nu20 \t 0.0006218468887998856\n",
      "nu11 \t -2.809465148965929e-13\n",
      "nu02 \t 0.00015660970937729057\n",
      "nu30 \t 1.6180618413372907e-09\n",
      "nu21 \t -4.027829131581005e-10\n",
      "nu12 \t -4.049505150535472e-10\n",
      "nu03 \t 1.0131748557269813e-10\n"
     ]
    }
   ],
   "source": [
    "#Момент изображения — это суммарная характеристика цветового пятна, представляющая собой сумму всех точек (пикселей) этого пятна.\n",
    "#При этом, имеется множество подвидов моментов, характеризующие разные свойства изображения. Например, \n",
    "#   m00 момент нулевого порядка — это количество всех точек, составляющих пятно. \n",
    "#   m10 Момент первого порядка  представляет собой сумму X координат точек, а \n",
    "#   m01 — сумму Y координат. Имеются также моменты \n",
    "# m11, m20, m02, m22 и т.д. \n",
    "\n",
    "m = cv2.moments(image)\n",
    "\n",
    "for name, val in m.items():\n",
    "    print(name, '\\t', val)"
   ]
  },
  {
   "cell_type": "code",
   "execution_count": 5,
   "metadata": {},
   "outputs": [
    {
     "name": "stdout",
     "output_type": "stream",
     "text": [
      "Center X estimated: 319.9950643063927\n",
      "Center Y estimated: 239.999082467214\n"
     ]
    }
   ],
   "source": [
    "# вычисляем моменты изображения\n",
    "sum_y = m['m01']\n",
    "sum_x = m['m10']\n",
    "sum_pixel = m['m00'] \n",
    "\n",
    "\n",
    "print('Center X estimated:', m['m10'] / m['m00'])\n",
    "print('Center Y estimated:', m['m01'] / m['m00'])"
   ]
  },
  {
   "cell_type": "code",
   "execution_count": null,
   "metadata": {},
   "outputs": [],
   "source": []
  }
 ],
 "metadata": {
  "kernelspec": {
   "display_name": "env",
   "language": "python",
   "name": "env"
  },
  "language_info": {
   "codemirror_mode": {
    "name": "ipython",
    "version": 3
   },
   "file_extension": ".py",
   "mimetype": "text/x-python",
   "name": "python",
   "nbconvert_exporter": "python",
   "pygments_lexer": "ipython3",
   "version": "3.8.1"
  }
 },
 "nbformat": 4,
 "nbformat_minor": 2
}
