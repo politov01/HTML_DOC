{
 "cells": [
  {
   "cell_type": "markdown",
   "metadata": {},
   "source": [
    "# Finding external and internal contours in a binary image\n",
    "\n",
    "Having contours extracted from a binary image gives you an alternative image representation and allows you to apply contour-specific image analysis methods. In this recipe, you will learn how to find contours in a binary image.\n",
    "\n",
    "Contours are extracted using the OpenCV function `cv2.findContours`. It supports different contour extraction modes:\n",
    "\n",
    "* `cv2.RETR_EXTERNAL`: For extracting only external contours \n",
    "* `cv2.RETR_CCOMP`: For extracting both internal and external contours, and organizing them into a two-level hierarchy \n",
    "* `cv2.RETR_TREE`: For extracting both internal and external contours, and organizing them into a tree graph \n",
    "* `cv2.RETR_LIST`: For extracting all contours without establishing any relationships\n",
    "\n",
    "Also, you can specify whether contour compression is required (use `cv2.CHAIN_APPROX_SIMPLE` for collapsing vertical and horizontal parts of contours into their respective end points) or not (`cv2.CHAIN_APPROX_NONE`).\n",
    "\n",
    "The function returns a tuple of three elements, modified image, list of contours, and list of contour hierarchy attributes. The hierarchy attributes describe the image contour topology, each list element is a four-element tuple containing zero-based indices of the next and previous contours at the same hierarchy level, then the first child and the first parent contours, respectively. If there's no contour, the corresponding index is `-1`."
   ]
  },
  {
   "cell_type": "code",
   "execution_count": 1,
   "metadata": {},
   "outputs": [
    {
     "name": "stdout",
     "output_type": "stream",
     "text": [
      "Using matplotlib backend: TkAgg\n",
      "Populating the interactive namespace from numpy and matplotlib\n",
      "D:\\HTML_DOC\\Program\\opencv\\Packt\\S03\\env\n",
      "C:\\Program Files\\Python38\\python38.zip\n",
      "C:\\Program Files\\Python38\\DLLs\n",
      "C:\\Program Files\\Python38\\lib\n",
      "C:\\Program Files\\Python38\n",
      "d:\\html_doc\\program\\opencv\\packt\\s03\\env\n",
      "\n",
      "d:\\html_doc\\program\\opencv\\packt\\s03\\env\\lib\\site-packages\n",
      "d:\\html_doc\\program\\opencv\\packt\\s03\\env\\lib\\site-packages\\pip-20.0.2-py3.8.egg\n",
      "d:\\html_doc\\program\\opencv\\packt\\s03\\env\\lib\\site-packages\\win32\n",
      "d:\\html_doc\\program\\opencv\\packt\\s03\\env\\lib\\site-packages\\win32\\lib\n",
      "d:\\html_doc\\program\\opencv\\packt\\s03\\env\\lib\\site-packages\\Pythonwin\n",
      "d:\\html_doc\\program\\opencv\\packt\\s03\\env\\lib\\site-packages\\IPython\\extensions\n",
      "C:\\Users\\polit\\.ipython\n"
     ]
    }
   ],
   "source": [
    "import cv2\n",
    "import matplotlib.pyplot as plt\n",
    "import numpy as np\n",
    "\n",
    "%matplotlib auto\n",
    "%pylab inline\n",
    "\n",
    "\n",
    "def print_image(header,name,np_arr,start_First=0, end_First=1, start_Second=0, end_Second=2):\n",
    "    print(\"------  {0:-<25}    Shape{1} {2}: {3:}\".format(header, np_arr.shape, name, str(np_arr.dtype)) )\n",
    "    shapes = np_arr.shape #print(shapes)\n",
    "    if shapes[0] < end_First:\n",
    "        end_First = shapes[0]\n",
    "    if shapes[1] < end_Second:\n",
    "        end_Second = shapes[1]\n",
    "    if len(shapes)==3:\n",
    "        for i in range (start_First,end_First):\n",
    "            print(\"[\", end=\" \")\n",
    "            for k in range (start_Second,end_Second):\n",
    "                print(np_arr[i,k], end=\" \")\n",
    "            print(']')\n",
    "    if len(shapes)==2:\n",
    "        for i in range (start_First,end_First):\n",
    "            print(\"[\", end=\" \")\n",
    "            for k in range (start_Second,end_Second):\n",
    "                print(np_arr[i,k], end=\" \")\n",
    "            print(']')\n",
    "def plt_view_image(plt,list_images):\n",
    "    #%pylab inline\n",
    "    plt.figure(figsize=(15,6))\n",
    "    n = len(list_images)  #; print(n)\n",
    "    plot_number = 1\n",
    "    for name, img in list_images:\n",
    "        plt.subplot(1,n,plot_number)\n",
    "        plt.axis('off')\n",
    "        plt.title(name)\n",
    "        plt.imshow(img,cmap='gray' )\n",
    "        plot_number = plot_number + 1\n",
    "    plt.show()\n",
    "#help(\"modules\")   \n",
    "import sys             \n",
    "print('\\n'.join(sys.path))\n",
    "#pip list\""
   ]
  },
  {
   "cell_type": "code",
   "execution_count": 2,
   "metadata": {},
   "outputs": [
    {
     "name": "stdout",
     "output_type": "stream",
     "text": [
      "------  Original-----------------    Shape(480, 640) image: uint8\n",
      "[ 0 0 0 0 0 0 0 0 0 0 0 0 0 0 0 ]\n",
      "[ 0 0 0 0 0 0 0 0 0 0 0 0 0 0 0 ]\n",
      "Populating the interactive namespace from numpy and matplotlib\n"
     ]
    },
    {
     "data": {
      "text/plain": [
       "<Figure size 720x432 with 0 Axes>"
      ]
     },
     "metadata": {},
     "output_type": "display_data"
    },
    {
     "data": {
      "image/png": "[encoded data removed]",
      "text/plain": [
       "<Figure size 1080x432 with 1 Axes>"
      ]
     },
     "metadata": {
      "needs_background": "light"
     },
     "output_type": "display_data"
    }
   ],
   "source": [
    "image = cv2.imread('data/BnW.png', 0)\n",
    "\n",
    "\n",
    "##############################################\n",
    "print_image('Original','image',image,0,2,0,15)\n",
    "%pylab inline\n",
    "plt.figure(figsize=(10,6))\n",
    "plt_view_image(plt,[[\"image\",image]   ])"
   ]
  },
  {
   "cell_type": "code",
   "execution_count": 3,
   "metadata": {},
   "outputs": [
    {
     "name": "stdout",
     "output_type": "stream",
     "text": [
      "contour.shape = (4, 1, 2) <class 'numpy.ndarray'>\n",
      "[[ 65 186]][[ 65 421]][[181 421]][[181 186]]\n",
      "contour.shape = (464, 1, 2) <class 'numpy.ndarray'>\n",
      "[[396  93]][[395  94]][[387  94]][[386  95]][[380  95]][[379  96]][[374  96]][[373  97]][[370  97]][[369  98]][[365  98]][[364  99]][[361  99]][[360 100]][[358 100]][[357 101]][[354 101]][[353 102]][[351 102]][[350 103]][[348 103]][[347 104]][[345 104]][[344 105]][[342 105]][[341 106]]\n",
      "contour.shape = (132, 1, 2) <class 'numpy.ndarray'>\n",
      "[[392 268]][[393 267]][[432 267]][[433 268]][[441 268]][[442 269]][[452 269]][[453 270]][[456 270]][[457 271]][[459 271]][[460 272]][[466 272]][[467 273]][[468 273]][[469 274]][[473 274]][[474 275]][[476 275]][[478 277]][[479 277]][[480 278]][[484 278]][[485 279]][[485 280]][[486 280]]\n",
      "contour.shape = (96, 1, 2) <class 'numpy.ndarray'>\n",
      "[[339 165]][[340 164]][[357 164]][[358 165]][[361 165]][[362 166]][[363 166]][[364 167]][[366 167]][[367 168]][[368 168]][[370 170]][[371 170]][[375 174]][[376 174]][[377 175]][[377 176]][[381 180]][[381 181]][[382 182]][[382 183]][[383 184]][[383 185]][[384 186]][[384 188]][[385 189]]\n",
      "contour.shape = (96, 1, 2) <class 'numpy.ndarray'>\n",
      "[[465 163]][[466 162]][[483 162]][[484 163]][[487 163]][[488 164]][[489 164]][[490 165]][[492 165]][[493 166]][[494 166]][[496 168]][[497 168]][[501 172]][[502 172]][[503 173]][[503 174]][[507 178]][[507 179]][[508 180]][[508 181]][[509 182]][[509 183]][[510 184]][[510 186]][[511 187]]\n",
      "hierarchy \n",
      " [[[ 1 -1 -1 -1]\n",
      "  [-1  0  2 -1]\n",
      "  [ 3 -1 -1  1]\n",
      "  [ 4  2 -1  1]\n",
      "  [-1  3 -1  1]]]\n"
     ]
    }
   ],
   "source": [
    "#https://robotclass.ru/tutorials/opencv-python-find-contours/\n",
    "#Функция OpenCV для поиска контуров findContours() \n",
    "#findContours( кадр, режим_группировки, метод_упаковки [, контуры[, иерархия[, сдвиг]]])\n",
    "#  кадр - должным образом подготовленная для анализа картинка. Это должно быть 8-битное изображение. Поиск контуров \n",
    "#         использует для работы монохромное изображение, так что все пиксели картинки с ненулевым цветом будут \n",
    "#         интерпретироваться как 1, а все нулевые останутся нулями.\n",
    "#  режим_группировки — один из четырех режимов группировки найденных контуров: \n",
    "#                      CV_RETR_LIST — выдаёт все контуры без группировки; \n",
    "#                      CV_RETR_EXTERNAL — выдаёт только крайние внешние контуры; \n",
    "#                      CV_RETR_CCOMP — группирует контуры в двухуровневую иерархию. \n",
    "#                                      На верхнем уровне — внешние контуры объекта. \n",
    "#                                      На втором уровне — контуры отверстий, если таковые имеются. \n",
    "#                                      Все остальные контуры попадают на верхний уровень; \n",
    "#                      CV_RETR_TREE — группирует контуры в многоуровневую иерархию.\n",
    "#  метод_упаковки - один из трёх методов упаковки контуров: \n",
    "#                   CV_CHAIN_APPROX_NONE — упаковка отсутствует и все контуры хранятся в виде отрезков, состоящих из двух пикселей; \n",
    "#                   CV_CHAIN_APPROX_SIMPLE — склеивает все горизонтальные, вертикальные и диагональные контуры; \n",
    "#                   CV_CHAIN_APPROX_TC89_L1,CV_CHAIN_APPROX_TC89_KCOS — применяет к контурам метод упаковки (аппроксимации) Teh-Chin.\n",
    "#  контуры — список всех найденных контуров, представленных в виде векторов; \n",
    "#  иерархия — информация о топологии контуров. \n",
    "#             Каждый элемент иерархии представляет собой сборку из четырех индексов, которая соответствует контуру[i]:\n",
    "#  иерархия[i][0] — индекс следующего контура на текущем слое;\n",
    "#             [i][1] — индекс предыдущего контура на текущем слое:\n",
    "#                [i][2] — индекс первого контура на вложенном слое;\n",
    "#                   [i][3] — индекс родительского контура.\n",
    "#  сдвиг — величина смещения точек контура.\n",
    "\n",
    "#По состоянию на 2019 год у нас есть три версии OpenCV (OpenCV2, OpenCV3 и OpenCV4).\n",
    "#OpenCV4 и OpenCV2 имеют похожее поведение (возвращют два значения из cv2.findContours()). \n",
    "#Тогда как OpenCV3 возвращает три значения.\n",
    "#imgs, contours, hierarchy = cv2.findContours(image, cv2.RETR_CCOMP, cv2.CHAIN_APPROX_SIMPLE)\n",
    "contours, hierarchy = cv2.findContours(image, cv2.RETR_CCOMP, cv2.CHAIN_APPROX_SIMPLE)\n",
    "\n",
    "\n",
    "\n",
    "#############################################\n",
    "for each in contours:\n",
    "    print(\"contour.shape =\",each.shape, type(each))\n",
    "    for i in range (0,26):\n",
    "        if i<each.shape[0]:\n",
    "            print(each[i],end=\"\")\n",
    "    print()\n",
    "print(\"hierarchy \\n\",hierarchy)\n",
    "\n",
    "#контуры — список всех найденных контуров, представленных в виде векторов; \n",
    "#иерархия — информация о топологии контуров. \n",
    "#Каждый элемент иерархии представляет собой сборку из четырех индексов, которая соответствует контуру[i]:\n",
    "#иерархия[i][0] — индекс следующего контура на текущем слое;\n",
    "#           [i][1] — индекс предыдущего контура на текущем слое:\n",
    "#              [i][2] — индекс первого контура на вложенном слое;\n",
    "#                 [i][3] — индекс родительского контура."
   ]
  },
  {
   "cell_type": "code",
   "execution_count": 4,
   "metadata": {},
   "outputs": [
    {
     "name": "stdout",
     "output_type": "stream",
     "text": [
      "[ 1 -1 -1 -1]\n",
      "[-1  0  2 -1]\n"
     ]
    }
   ],
   "source": [
    "#https://robotclass.ru/tutorials/opencv-python-find-contours/\n",
    "# Функция для отображения контуров  \n",
    "#drawContours( кадр, контуры, индекс, цвет[, толщина[, тип_линии[, иерархия[, макс_слой[, сдвиг]]]]])\n",
    "#  контуры — те самые контуры, найденные функцией findContours() ;\n",
    "#  индекс — индекс контура, который следует отобразить. -1 — если нужно отобразить все контуры;\n",
    "#  цвет — цвет контура;\n",
    "#  толщина — толщина линии контура;\n",
    "#  тип_линии — тип соединения точек вектора;\n",
    "#              LINE_8 (or omitted) — 8-connected line.\n",
    "#              LINE_4 — 4-connected line.\n",
    "#              LINE_AA — antialiased line.\n",
    "#  иерархия — информация об иерархии контуров;  иерархия — информация о топологии контуров. \n",
    "#             Каждый элемент иерархии представляет собой сборку из четырех индексов, которая соответствует контуру[i] ;\n",
    "#  макс_слой — индекс слоя, который следует отображать. \n",
    "#              Если параметр равен 0, то будет отображен только выбранный контур. \n",
    "#              Если параметр равен 1, то отобразится выбранный контур и все его дочерние контуры. \n",
    "#              Если параметр равен 2, то отобразится выбранный контур, все его дочерние и дочерние дочерних!\n",
    "#  сдвиг — величина смещения точек контура.\n",
    "\n",
    "image_external = np.zeros(image.shape, image.dtype)\n",
    "\n",
    "\n",
    "\n",
    "#############################################\n",
    "for i in range(len(contours)):\n",
    "    if hierarchy[0][i][3] == -1:\n",
    "        cv2.drawContours(image_external, contours, i, 255, -1)\n",
    "        print(hierarchy[0][i])\n",
    "#контуры — список всех найденных контуров, представленных в виде векторов; \n",
    "#иерархия — информация о топологии контуров. \n",
    "#Каждый элемент иерархии представляет собой сборку из четырех индексов, которая соответствует контуру[i]:\n",
    "#иерархия[i][0] — индекс следующего контура на текущем слое;\n",
    "#           [i][1] — индекс предыдущего контура на текущем слое:\n",
    "#              [i][2] — индекс первого контура на вложенном слое;\n",
    "#                 [i][3] — индекс родительского контура."
   ]
  },
  {
   "cell_type": "code",
   "execution_count": 5,
   "metadata": {},
   "outputs": [
    {
     "name": "stdout",
     "output_type": "stream",
     "text": [
      "[ 3 -1 -1  1]\n",
      "[ 4  2 -1  1]\n",
      "[-1  3 -1  1]\n"
     ]
    }
   ],
   "source": [
    "image_internal = np.zeros(image.shape, image.dtype)\n",
    "\n",
    "\n",
    "\n",
    "#############################################\n",
    "for i in range(len(contours)):\n",
    "    if hierarchy[0][i][3] != -1:\n",
    "        cv2.drawContours(image_internal, contours, i, 255, -1)\n",
    "        print(hierarchy[0][i])"
   ]
  },
  {
   "cell_type": "code",
   "execution_count": 6,
   "metadata": {},
   "outputs": [
    {
     "data": {
      "text/plain": [
       "<Figure size 720x216 with 0 Axes>"
      ]
     },
     "metadata": {},
     "output_type": "display_data"
    },
    {
     "data": {
      "image/png": "[encoded data removed]",
      "text/plain": [
       "<Figure size 1080x432 with 3 Axes>"
      ]
     },
     "metadata": {
      "needs_background": "light"
     },
     "output_type": "display_data"
    }
   ],
   "source": [
    "plt.figure(figsize=(10,3))\n",
    "plt_view_image(plt,[[\"image\",image], [\"image_external\",image_external],[\"internal\",image_internal] ])"
   ]
  },
  {
   "cell_type": "code",
   "execution_count": null,
   "metadata": {},
   "outputs": [],
   "source": []
  },
  {
   "cell_type": "code",
   "execution_count": null,
   "metadata": {},
   "outputs": [],
   "source": []
  }
 ],
 "metadata": {
  "kernelspec": {
   "display_name": "env",
   "language": "python",
   "name": "env"
  },
  "language_info": {
   "codemirror_mode": {
    "name": "ipython",
    "version": 3
   },
   "file_extension": ".py",
   "mimetype": "text/x-python",
   "name": "python",
   "nbconvert_exporter": "python",
   "pygments_lexer": "ipython3",
   "version": "3.8.1"
  }
 },
 "nbformat": 4,
 "nbformat_minor": 2
}
