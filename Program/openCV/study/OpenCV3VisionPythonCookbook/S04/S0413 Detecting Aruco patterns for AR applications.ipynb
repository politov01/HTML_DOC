{
 "cells": [
  {
   "cell_type": "markdown",
   "metadata": {},
   "source": [
    "# Detecting AruCo patterns for AR applications\n",
    "\n",
    "Understanding a camera's position in a surrounding 3D space is a very challenging and hard-to-solve task. Specifically designed patterns, named AruCo markers, are called up to solve this issue. Each marker has enough information to determine the camera position, and also contains information about itself; so it's possible to distinguish between different markers, and, through that, understand the scene. In this recipe, we will review how to create and detect AruCo markers with OpenCV.\n",
    "\n",
    "As has been mentioned, AruCo markers have special designs and encode an identifier in black and white squares inside. So, to create the proper marker, it's necessary to follow the rules, and to also set parameters, such as the marker size and identifier. All of this can be done with the `cv2.aruco.drawMarker` function. It accepts a dictionary of the markers, an identifier of the marker, and image size. The dictionary determines the correspondence between the marker's appearance and the marker's ID, and returns the image with a drawn marker. OpenCV includes predefined dictionaries, which can be retrieved with the `cv2.aruco.getPredefinedDictionary` function (which takes the dictionary name as an argument). In the preceding code, `cv2.aruco.DICT_6X6_250` is used, and this dictionary's name means that the dictionary consists of $6\\times6$ markers (the size of the inside grid of black and white squares), and includes identifiers from `0` to `249`.\n",
    "\n",
    "To detect AruCo markers in the image, you need to use the `cv2.aruco.detectMarkers` routine. This function takes an input image and a dictionary from which it is necessary to find markers. The result of this function's work is a list with four corners for all of the found markers, a list of markers IDs (the order corresponds to the list of the corners), and list of rejected corners, which can be useful for debug purposes.\n",
    "\n",
    "To easily and quickly draw the results of the detection, it's reasonable to use `cv2.aruco.drawDetectedMarkers`. It accepts an image to draw a list of detected corners and a list of identifiers on.\n",
    "\n"
   ]
  },
  {
   "cell_type": "code",
   "execution_count": 1,
   "metadata": {},
   "outputs": [
    {
     "name": "stdout",
     "output_type": "stream",
     "text": [
      "Using matplotlib backend: TkAgg\n",
      "Populating the interactive namespace from numpy and matplotlib\n",
      "D:\\HTML_DOC\\Program\\opencv\\Packt\\S04\\env\n",
      "C:\\Program Files\\Python38\\python38.zip\n",
      "C:\\Program Files\\Python38\\DLLs\n",
      "C:\\Program Files\\Python38\\lib\n",
      "C:\\Program Files\\Python38\n",
      "d:\\html_doc\\program\\opencv\\packt\\s04\\env\n",
      "\n",
      "d:\\html_doc\\program\\opencv\\packt\\s04\\env\\lib\\site-packages\n",
      "d:\\html_doc\\program\\opencv\\packt\\s04\\env\\lib\\site-packages\\pip-20.0.2-py3.8.egg\n",
      "d:\\html_doc\\program\\opencv\\packt\\s04\\env\\lib\\site-packages\\win32\n",
      "d:\\html_doc\\program\\opencv\\packt\\s04\\env\\lib\\site-packages\\win32\\lib\n",
      "d:\\html_doc\\program\\opencv\\packt\\s04\\env\\lib\\site-packages\\Pythonwin\n",
      "d:\\html_doc\\program\\opencv\\packt\\s04\\env\\lib\\site-packages\\IPython\\extensions\n",
      "C:\\Users\\polit\\.ipython\n"
     ]
    }
   ],
   "source": [
    "# Import all of the necessary modules\n",
    "import cv2\n",
    "import matplotlib.pyplot as plt\n",
    "import numpy as np\n",
    "\n",
    "%matplotlib auto\n",
    "%pylab inline\n",
    "\n",
    "\n",
    "def print_image(header,name,np_arr,start_First=0, end_First=1, start_Second=0, end_Second=2):\n",
    "    print(\"------  {0:-<25}    Shape{1} {2}: {3:}\".format(header, np_arr.shape, name, str(np_arr.dtype)) )\n",
    "    shapes = np_arr.shape #print(shapes)\n",
    "    if shapes[0] < end_First:\n",
    "        end_First = shapes[0]\n",
    "    if shapes[1] < end_Second:\n",
    "        end_Second = shapes[1]\n",
    "    if len(shapes)==3:\n",
    "        for i in range (start_First,end_First):\n",
    "            print(\"[\", end=\" \")\n",
    "            for k in range (start_Second,end_Second):\n",
    "                print(np_arr[i,k], end=\" \")\n",
    "            print(']')\n",
    "    if len(shapes)==2:\n",
    "        for i in range (start_First,end_First):\n",
    "            print(\"[\", end=\" \")\n",
    "            for k in range (start_Second,end_Second):\n",
    "                print(np_arr[i,k], end=\" \")\n",
    "            print(']')\n",
    "def plt_view_image(plt,list_images,figsize=(15,6), axis=\"off\", cmap='gray'):\n",
    "    #%pylab inline\n",
    "    plt.figure(figsize=figsize)\n",
    "    n = len(list_images)  #; print(n)\n",
    "    plot_number = 1\n",
    "    for name, img in list_images:\n",
    "        plt.subplot(1,n,plot_number)\n",
    "        plt.axis(axis)\n",
    "        plt.title(name)\n",
    "        if cmap =='gray':\n",
    "            plt.imshow(img,cmap='gray' )\n",
    "        else:\n",
    "            plt.imshow(img )\n",
    "        plot_number = plot_number + 1\n",
    "    plt.show()\n",
    "#help(\"modules\")   \n",
    "import sys             \n",
    "print('\\n'.join(sys.path))\n",
    "#pip list\""
   ]
  },
  {
   "cell_type": "code",
   "execution_count": null,
   "metadata": {},
   "outputs": [
    {
     "name": "stdout",
     "output_type": "stream",
     "text": [
      "------  img----------------------    Shape(700, 700) img: uint8\n",
      "[ 0 0 0 0 0 0 0 0 0 0 0 0 0 0 0 0 0 0 0 0 0 0 0 0 0 0 0 0 0 0 ]\n",
      "[ 0 0 0 0 0 0 0 0 0 0 0 0 0 0 0 0 0 0 0 0 0 0 0 0 0 0 0 0 0 0 ]\n",
      "[ 0 0 0 0 0 0 0 0 0 0 0 0 0 0 0 0 0 0 0 0 0 0 0 0 0 0 0 0 0 0 ]\n",
      "[ 0 0 0 0 0 0 0 0 0 0 0 0 0 0 0 0 0 0 0 0 0 0 0 0 0 0 0 0 0 0 ]\n",
      "[ 0 0 0 0 0 0 0 0 0 0 0 0 0 0 0 0 0 0 0 0 0 0 0 0 0 0 0 0 0 0 ]\n",
      "[ 0 0 0 0 0 0 0 0 0 0 0 0 0 0 0 0 0 0 0 0 0 0 0 0 0 0 0 0 0 0 ]\n",
      "[ 0 0 0 0 0 0 0 0 0 0 0 0 0 0 0 0 0 0 0 0 0 0 0 0 0 0 0 0 0 0 ]\n",
      "[ 0 0 0 0 0 0 0 0 0 0 255 255 255 255 255 255 255 255 255 255 255 255 255 255 255 255 255 255 255 255 ]\n",
      "[ 0 0 0 0 0 0 0 0 0 0 255 255 255 255 255 255 255 255 255 255 255 255 255 255 255 255 255 255 255 255 ]\n",
      "[ 0 0 0 0 0 0 0 0 0 0 255 255 255 255 255 255 255 255 255 255 255 255 255 255 255 255 255 255 255 255 ]\n"
     ]
    },
    {
     "data": {
      "image/png": "[encoded data removed]",
      "text/plain": [
       "<Figure size 576x576 with 1 Axes>"
      ]
     },
     "metadata": {
      "needs_background": "light"
     },
     "output_type": "display_data"
    },
    {
     "data": {
      "image/png": "[encoded data removed]",
      "text/plain": [
       "<Figure size 1080x576 with 4 Axes>"
      ]
     },
     "metadata": {
      "needs_background": "light"
     },
     "output_type": "display_data"
    }
   ],
   "source": [
    "import cv2.aruco as aruco\n",
    "\n",
    "aruco_dict = aruco.getPredefinedDictionary(aruco.DICT_6X6_250)\n",
    "\n",
    "img = np.full((700, 700), 255, np.uint8)\n",
    "\n",
    "img[100:300, 100:300] = aruco.drawMarker(aruco_dict, 2, 200)\n",
    "img[100:300, 400:600] = aruco.drawMarker(aruco_dict, 76, 200)\n",
    "img[400:600, 100:300] = aruco.drawMarker(aruco_dict, 42, 200)\n",
    "img[400:600, 400:600] = aruco.drawMarker(aruco_dict, 123, 200)\n",
    "\n",
    "\n",
    "\n",
    "###########################################################\n",
    "print_image('img','img',img,118,128,190,220)\n",
    "plt_view_image(plt,[[\"img\",img]],figsize=(8,8), axis='on', cmap='gray')\n",
    "plt_view_image(plt,[[\"aruco_dict, 2, 200\" ,aruco.drawMarker(aruco_dict, 2, 200)],\n",
    "                    [\"aruco_dict, 76, 200\",aruco.drawMarker(aruco_dict, 76, 200)],\n",
    "                    [\"aruco_dict, 42, 200\",aruco.drawMarker(aruco_dict, 42, 200)],\n",
    "                    [\"aruco_dict, 123, 200\",aruco.drawMarker(aruco_dict, 123, 200)]],\n",
    "               figsize=(15,8), axis='on', cmap='gray')\n",
    "\n",
    "# Display digits image\n",
    "cv2.imshow('img', img)\n",
    "cv2.waitKey()\n",
    "cv2.destroyAllWindows()"
   ]
  },
  {
   "cell_type": "code",
   "execution_count": null,
   "metadata": {},
   "outputs": [],
   "source": [
    "image_GaussianBlur = cv2.GaussianBlur(img, (11, 11), 0)\n",
    "\n",
    "\n",
    "\n",
    "###########################################################\n",
    "print_image('img','img',img,118,128,190,220)\n",
    "print_image('image_GaussianBlur','image_GaussianBlur',image_GaussianBlur,118,128,190,220)\n",
    "plt_view_image(plt,[[\"img\",img],\n",
    "                    [\"image GaussianBlur\",image_GaussianBlur]\n",
    "                   ],\n",
    "               figsize=(15,8), axis='on', cmap='gray')\n",
    "\n",
    "# Display digits image\n",
    "cv2.imshow('Created AruCo markers, image_GaussianBlur', np.hstack([img, image_GaussianBlur]))\n",
    "cv2.waitKey()\n",
    "cv2.destroyAllWindows()"
   ]
  },
  {
   "cell_type": "code",
   "execution_count": null,
   "metadata": {},
   "outputs": [],
   "source": [
    "aruco_dict = aruco.getPredefinedDictionary(aruco.DICT_6X6_250)\n",
    "\n",
    "corners, ids, _ = aruco.detectMarkers(image_GaussianBlur, aruco_dict)\n",
    "\n",
    "image_color = cv2.cvtColor(image_GaussianBlur, cv2.COLOR_GRAY2BGR)\n",
    "aruco.drawDetectedMarkers(image_color, corners, ids)\n",
    "\n",
    "\n",
    "###########################################################\n",
    "print_image('img','img',img,96,110,96,110)\n",
    "print_image('image_GaussianBlur','image_GaussianBlur',image_GaussianBlur,96,110,96,110)\n",
    "print_image('image_color','image_color',image_color,99,113,99,106)\n",
    "plt_view_image(plt,[[\"img\",img],\n",
    "                    [\"image GaussianBlur\",image_color],\n",
    "                    [\"image GaussianBlur\",image_color[94:108,96:110,[2,1,0]]],\n",
    "                    [\"image drawDetectedMarkers\",image_GaussianBlur]\n",
    "                   ],\n",
    "               figsize=(15,8), axis='on', cmap='gray')\n",
    "\n",
    "# Display digits image\n",
    "cv2.imshow('Detected AruCo markers', np.hstack([image_color]))\n",
    "cv2.waitKey()\n",
    "cv2.destroyAllWindows()"
   ]
  },
  {
   "cell_type": "code",
   "execution_count": null,
   "metadata": {},
   "outputs": [],
   "source": []
  }
 ],
 "metadata": {
  "kernelspec": {
   "display_name": "env",
   "language": "python",
   "name": "env"
  },
  "language_info": {
   "codemirror_mode": {
    "name": "ipython",
    "version": 3
   },
   "file_extension": ".py",
   "mimetype": "text/x-python",
   "name": "python",
   "nbconvert_exporter": "python",
   "pygments_lexer": "ipython3",
   "version": "3.8.1"
  }
 },
 "nbformat": 4,
 "nbformat_minor": 2
}
