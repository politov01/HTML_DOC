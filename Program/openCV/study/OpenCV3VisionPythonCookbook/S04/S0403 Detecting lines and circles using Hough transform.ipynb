{
 "cells": [
  {
   "cell_type": "markdown",
   "metadata": {},
   "source": [
    "# Detecting lines and circles using the Hough transform\n",
    "\n",
    "In this recipe, you will learn how to apply the Hough transform for the detection of lines and circles. This is a helpful technique when you need to perform basic image analysis and find primitives in images.\n",
    "\n",
    "The Hough transform is a technique for the detection of any shapes parametrized and represented in a convenient mathematical form. Basically, for every pixel in a source image, the Hough transform finds a set of model parameters that satisfy the observation and stores them in table. Each pixel votes for a subset of possible models. Output detections are obtained via a voting procedure.\n",
    "\n",
    "The detection of lines is implemented in the function `cv2.HoughLineP`. In fact, it does not implement the original Hough transform, but its optimized, probabilistic version. The function takes parameters such as the source image, voting space spatial resolution, voting space angular resolution, minimum votes threshold, minimum line length, and maximum allowed gap between points on the same line to link them, and returns a list of detected lines represented in a `start_point`, `end_point` form.\n",
    "\n",
    "The detection of circles is implemented in the function `cv2.HoughCircles`. It takes the input source image, detection method (only `cv2.HOUGH_GRADIENT` is supported, for now), inverse voting space resolution, minimum distance between the centers of detected circles, and two optional parameters: the first is the higher threshold for the Canny edge detection procedure, and the second is the votes count threshold.\n",
    "\n"
   ]
  },
  {
   "cell_type": "code",
   "execution_count": 1,
   "metadata": {},
   "outputs": [
    {
     "name": "stdout",
     "output_type": "stream",
     "text": [
      "Using matplotlib backend: TkAgg\n",
      "Populating the interactive namespace from numpy and matplotlib\n",
      "D:\\HTML_DOC\\Program\\opencv\\Packt\\S04\\env\n",
      "C:\\Program Files\\Python38\\python38.zip\n",
      "C:\\Program Files\\Python38\\DLLs\n",
      "C:\\Program Files\\Python38\\lib\n",
      "C:\\Program Files\\Python38\n",
      "d:\\html_doc\\program\\opencv\\packt\\s04\\env\n",
      "\n",
      "d:\\html_doc\\program\\opencv\\packt\\s04\\env\\lib\\site-packages\n",
      "d:\\html_doc\\program\\opencv\\packt\\s04\\env\\lib\\site-packages\\pip-20.0.2-py3.8.egg\n",
      "d:\\html_doc\\program\\opencv\\packt\\s04\\env\\lib\\site-packages\\win32\n",
      "d:\\html_doc\\program\\opencv\\packt\\s04\\env\\lib\\site-packages\\win32\\lib\n",
      "d:\\html_doc\\program\\opencv\\packt\\s04\\env\\lib\\site-packages\\Pythonwin\n",
      "d:\\html_doc\\program\\opencv\\packt\\s04\\env\\lib\\site-packages\\IPython\\extensions\n",
      "C:\\Users\\polit\\.ipython\n"
     ]
    }
   ],
   "source": [
    "import cv2\n",
    "import matplotlib.pyplot as plt\n",
    "import numpy as np\n",
    "\n",
    "%matplotlib auto\n",
    "%pylab inline\n",
    "\n",
    "\n",
    "def print_image(header,name,np_arr,start_First=0, end_First=1, start_Second=0, end_Second=2):\n",
    "    print(\"------  {0:-<25}    Shape{1} {2}: {3:}\".format(header, np_arr.shape, name, str(np_arr.dtype)) )\n",
    "    shapes = np_arr.shape #print(shapes)\n",
    "    if shapes[0] < end_First:\n",
    "        end_First = shapes[0]\n",
    "    if shapes[1] < end_Second:\n",
    "        end_Second = shapes[1]\n",
    "    if len(shapes)==3:\n",
    "        for i in range (start_First,end_First):\n",
    "            print(\"[\", end=\" \")\n",
    "            for k in range (start_Second,end_Second):\n",
    "                print(np_arr[i,k], end=\" \")\n",
    "            print(']')\n",
    "    if len(shapes)==2:\n",
    "        for i in range (start_First,end_First):\n",
    "            print(\"[\", end=\" \")\n",
    "            for k in range (start_Second,end_Second):\n",
    "                print(np_arr[i,k], end=\" \")\n",
    "            print(']')\n",
    "def plt_view_image(plt,list_images,figsize=(15,6), axis=\"off\", cmap='gray'):\n",
    "    #%pylab inline\n",
    "    plt.figure(figsize=figsize)\n",
    "    n = len(list_images)  #; print(n)\n",
    "    plot_number = 1\n",
    "    for name, img in list_images:\n",
    "        plt.subplot(1,n,plot_number)\n",
    "        plt.axis(axis)\n",
    "        plt.title(name)\n",
    "        if cmap =='gray':\n",
    "            plt.imshow(img,cmap='gray' )\n",
    "        else:\n",
    "            plt.imshow(img )\n",
    "        plot_number = plot_number + 1\n",
    "    plt.show()\n",
    "#help(\"modules\")   \n",
    "import sys             \n",
    "print('\\n'.join(sys.path))\n",
    "#pip list\""
   ]
  },
  {
   "cell_type": "markdown",
   "metadata": {},
   "source": [
    "# [Преобразование Хафа](https://ru.wikipedia.org/wiki/%D0%9F%D1%80%D0%B5%D0%BE%D0%B1%D1%80%D0%B0%D0%B7%D0%BE%D0%B2%D0%B0%D0%BD%D0%B8%D0%B5_%D0%A5%D0%B0%D1%84%D0%B0)\n",
    "\n",
    "При автоматизированном анализе цифровых изображений очень часто возникает проблема идентификации простых фигур, таких как прямые, круги или эллипсы. Во многих случаях используется алгоритм поиска границ в качестве предобработки для получения точек, находящихся на кривой в изображении. Однако, либо из-за зашумлённости изображения, либо из-за несовершенства алгоритма обнаружения границ, могут появиться «потерянные» точки на кривой, также как и небольшие отклонения от идеальной формы прямой, круга или эллипса. По этим причинам часто довольно сложно приписать найденные границы соответствующим прямым, кругам и эллипсам в изображении. Назначение преобразования Хафа — разрешить проблему группировки граничных точек путём применения определённой процедуры голосования к набору параметризованных объектов изображения."
   ]
  },
  {
   "cell_type": "code",
   "execution_count": 2,
   "metadata": {},
   "outputs": [
    {
     "name": "stdout",
     "output_type": "stream",
     "text": [
      "------  img----------------------    Shape(500, 500) img: uint8\n",
      "[ 0 0 0 0 0 0 0 0 0 0 0 0 0 0 0 0 255 255 255 255 255 255 255 0 0 0 0 0 0 0 0 0 0 0 0 0 0 0 0 0 0 ]\n"
     ]
    }
   ],
   "source": [
    "# Draw a test image\n",
    "img = np.zeros((500, 500), np.uint8)\n",
    "cv2.circle(img, (200, 200), 50, 255, 6)\n",
    "cv2.line(img, (100, 400), (400, 350), 255, 6)\n",
    "\n",
    "print_image('img','img',img,200,201,231,272)"
   ]
  },
  {
   "cell_type": "markdown",
   "metadata": {},
   "source": [
    "# [Реализация поиска печатей на OpenCV без нейронок, регистрации и смс](https://habr.com/ru/company/directum/blog/486476/)\n",
    "\n",
    "Если вы думаете, что этого может быть достаточно, то я скажу вам, что нет. Хотя для большинства случаев этого будет более чем хватать. Но если вы хотите больше точности — устройтесь поудобней, у меня есть еще один метод.\n",
    "\n",
    "В данном методе на помощь нам приходит щепотка “математической магии”, а именно перевод из одной системы координат в другую, конкретно в логарифмическую-полярную систему. Я могу понять удивление некоторых “чем это вообще может помочь”? С помощью этого мы “выворачиваем” печать. Но зачем? Это легко позволяет понять, является ли что-то на объекте круглым."
   ]
  },
  {
   "cell_type": "code",
   "execution_count": 3,
   "metadata": {},
   "outputs": [
    {
     "name": "stdout",
     "output_type": "stream",
     "text": [
      "[[198.5 203.5  49.8]]\n"
     ]
    }
   ],
   "source": [
    "#https://habr.com/ru/company/directum/blog/486476/\n",
    "\n",
    "# Detect circles using the Hough transform\n",
    "#cv2.HoughCircles(image, method, dp, minDist[, circles[, param1[, param2[, minRadius[, maxRadius]]]]]) -> circles\n",
    "# image - маска, полученная после сегментации;\n",
    "# method - метод поиска окружностей (в OpenCV реализован только Gradient);\n",
    "# dp - разрешение, используемое для детектирования центров кругов (1 — одинаково с исходным изображением, 2 — половина высоты/ширины и т.д. Чем ниже это значение (т.е. выше разрешение), тем больше “голосов” нужно отдать какому-либо объекту, чтобы принять его за круг. Это повышает точность, но плохо “пропечатанные” окружности могут не найтись);\n",
    "# minDist - минимальное расстояние между окружностями (мы брали % от ширины изображения);\n",
    "# param1 - верхнее пороговое значение, передаваемое детектору границ Кенни (нижнее пороговое значение будет в 2 раза меньше);\n",
    "# param2 - суммирующее пороговое значение детектированя центров;\n",
    "# minRadius - минимальный радиус круга;\n",
    "# maxRadius - максимальный радиус круга;\n",
    "circles = cv2.HoughCircles(img, cv2.HOUGH_GRADIENT, 1, 15, param1=200, param2=30)[0]\n",
    "print(circles)"
   ]
  },
  {
   "cell_type": "code",
   "execution_count": 4,
   "metadata": {},
   "outputs": [
    {
     "name": "stdout",
     "output_type": "stream",
     "text": [
      "[[ 98 401 400 347]]\n"
     ]
    }
   ],
   "source": [
    "# Detect lines using the probabilistic Hough transform\n",
    "#cv2.HoughLinesP(image, rho, theta, threshold[, lines[, minLineLength[, maxLineGap]]]) -> lines\n",
    "# rho — разрешение по дистанции\n",
    "# theta — разрешение по углу (в радианах)\n",
    "# threshold — пороговый параметр. Линия возвращается, если аккумулирующий параметр больше порогового значения.\n",
    "# minLineLength – Minimum line length. Line segments shorter than that are rejected.\n",
    "# maxLineGap – Maximum allowed gap between points on the same line to link them.\n",
    "# param1 — первый параметр (в зависимости от метода трансфрмации:\n",
    "# CV_HOUGH_STANDARD — 0 — не используется\n",
    "# CV_HOUGH_PROBABILISTIC — минимальная длина линии\n",
    "# CV_HOUGH_MULTI_SCALE — делитель разрешения по дистанции (rho/param1))\n",
    "# param2 — второй параметр (в зависимости от метода трансфрмации:\n",
    "# CV_HOUGH_STANDARD — 0 — не используется\n",
    "# CV_HOUGH_PROBABILISTIC — максимальный промежуток между сегментами линии, лежащими на одной линии, чтобы считать их одним сегментом (объединить их вместе)\n",
    "# CV_HOUGH_MULTI_SCALE — делитель разрешения по углу (theta/param1))\n",
    "lines = cv2.HoughLinesP(img, 1, np.pi/180, 100, 100, 10)[0]\n",
    "print(lines)"
   ]
  },
  {
   "cell_type": "code",
   "execution_count": 5,
   "metadata": {},
   "outputs": [
    {
     "name": "stdout",
     "output_type": "stream",
     "text": [
      "Detected line: (98 401) (400 347)\n",
      "Detected circle: center=(198.5 203.5), radius=49.79999923706055\n"
     ]
    },
    {
     "name": "stderr",
     "output_type": "stream",
     "text": [
      "<ipython-input-5-33144470443d>:14: DeprecationWarning: an integer is required (got type numpy.float32).  Implicit conversion to integers using __int__ is deprecated, and may be removed in a future version of Python.\n",
      "  cv2.circle(dbg_img, (c[0], c[1]), c[2], (0, 255, 0), 2)\n"
     ]
    }
   ],
   "source": [
    "# Draw the detected lines and circles\n",
    "dbg_img = np.zeros((img.shape[0], img.shape[1], 3), np.uint8)    \n",
    "\n",
    "cv2.circle(dbg_img, (200, 200), 50, (255,255,255), 10)\n",
    "cv2.line(dbg_img, (100, 400), (400, 350), (255,255,255), 10);\n",
    "\n",
    "\n",
    "for x1, y1, x2, y2 in lines:\n",
    "    print('Detected line: ({} {}) ({} {})'.format(x1, y1, x2, y2))\n",
    "    cv2.line(dbg_img, (x1, y1), (x2, y2), (0, 255, 0), 2)    \n",
    "\n",
    "for c in circles:\n",
    "    print('Detected circle: center=({} {}), radius={}'.format(c[0], c[1], c[2]))\n",
    "    cv2.circle(dbg_img, (c[0], c[1]), c[2], (0, 255, 0), 2)"
   ]
  },
  {
   "cell_type": "code",
   "execution_count": 6,
   "metadata": {},
   "outputs": [
    {
     "name": "stdout",
     "output_type": "stream",
     "text": [
      "------  img----------------------    Shape(500, 500) img: uint8\n",
      "[ 0 0 255 255 255 255 255 255 255 0 0 0 0 0 ]\n",
      "------  dbg_img------------------    Shape(500, 500, 3) dbg_img: uint8\n",
      "[ [255 255 255] [  0 255   0] [  0 255   0] [  0 255   0] [255 255 255] [255 255 255] [255 255 255] [255 255 255] [255 255 255] [255 255 255] [255 255 255] [0 0 0] [0 0 0] [0 0 0] ]\n"
     ]
    },
    {
     "data": {
      "image/png": "[encoded data removed]",
      "text/plain": [
       "<Figure size 1080x1080 with 2 Axes>"
      ]
     },
     "metadata": {
      "needs_background": "light"
     },
     "output_type": "display_data"
    }
   ],
   "source": [
    "print_image('img','img',img,200,201,245,259)\n",
    "print_image('dbg_img','dbg_img',dbg_img,200,201,245,259)\n",
    "\n",
    "# Visualize the results\n",
    "plt_view_image(plt,[[\"img\",img],\n",
    "                    [\"dbg_img\",dbg_img]\n",
    "                   ],\n",
    "               figsize=(15,15), axis='on', cmap='gray'\n",
    "              )\n",
    "\n",
    "\n",
    "cv2.imshow('img',img)\n",
    "cv2.imshow('dbg_img',dbg_img)\n",
    "cv2.waitKey()\n",
    "cv2.destroyAllWindows()"
   ]
  },
  {
   "cell_type": "code",
   "execution_count": null,
   "metadata": {},
   "outputs": [],
   "source": []
  }
 ],
 "metadata": {
  "kernelspec": {
   "display_name": "env",
   "language": "python",
   "name": "env"
  },
  "language_info": {
   "codemirror_mode": {
    "name": "ipython",
    "version": 3
   },
   "file_extension": ".py",
   "mimetype": "text/x-python",
   "name": "python",
   "nbconvert_exporter": "python",
   "pygments_lexer": "ipython3",
   "version": "3.8.1"
  }
 },
 "nbformat": 4,
 "nbformat_minor": 2
}
