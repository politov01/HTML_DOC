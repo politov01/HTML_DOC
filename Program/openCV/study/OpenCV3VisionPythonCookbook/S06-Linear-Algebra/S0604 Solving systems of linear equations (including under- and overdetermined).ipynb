{
 "cells": [
  {
   "cell_type": "markdown",
   "metadata": {},
   "source": [
    "# Solving systems of linear equations (including under- and over-determined)\n",
    "\n",
    "In this recipe, you will learn how to solve systems of linear equations using OpenCV. This functionality is a key building block of many computer vision and machine learning algorithms.\n",
    "\n",
    "1. **A.** Systems of linear equations can be solved using OpenCV's `cv2.solve` function. It accepts a coefficients matrix, the right-hand side of the system, and optional flags, then returns a solution (the success indicator and solution vector, to be exact). As you can see in the first example, it can be used to solve systems with unique solutions.\n",
    "\n",
    "2. **B.** You can specify the `cv2.DECOMP_NORMAL` flag, in which case an internally normalized system of linear equations will be constructed. This can be used to solve over-determined systems with one or no solutions, in the latter case, the least squares problem's solution is returned.\n",
    "\n",
    "3. **C.** An under-determined system of linear equations has either no or multiple solutions. In the preceding code, we constructed a system that has multiple solutions. The solution with minimal norm can be found using the MoorePenrose inverse (`A_pinv` in the code). As there are multiple solutions, the one we find might have more errors, relative to the solution we used to generate the right-hand side of the system."
   ]
  },
  {
   "cell_type": "code",
   "execution_count": 1,
   "metadata": {},
   "outputs": [
    {
     "name": "stdout",
     "output_type": "stream",
     "text": [
      "Using matplotlib backend: TkAgg\n",
      "Populating the interactive namespace from numpy and matplotlib\n",
      "D:\\HTML_DOC\\Program\\opencv\\Packt\\S06\\env\n",
      "C:\\Program Files\\Python38\\python38.zip\n",
      "C:\\Program Files\\Python38\\DLLs\n",
      "C:\\Program Files\\Python38\\lib\n",
      "C:\\Program Files\\Python38\n",
      "d:\\html_doc\\program\\opencv\\packt\\s06\\env\n",
      "\n",
      "d:\\html_doc\\program\\opencv\\packt\\s06\\env\\lib\\site-packages\n",
      "d:\\html_doc\\program\\opencv\\packt\\s06\\env\\lib\\site-packages\\pip-20.0.2-py3.8.egg\n",
      "d:\\html_doc\\program\\opencv\\packt\\s06\\env\\lib\\site-packages\\win32\n",
      "d:\\html_doc\\program\\opencv\\packt\\s06\\env\\lib\\site-packages\\win32\\lib\n",
      "d:\\html_doc\\program\\opencv\\packt\\s06\\env\\lib\\site-packages\\Pythonwin\n",
      "d:\\html_doc\\program\\opencv\\packt\\s06\\env\\lib\\site-packages\\IPython\\extensions\n",
      "C:\\Users\\polit\\.ipython\n",
      "current folder == D:\\HTML_DOC\\Program\\opencv\\Packt\\S06\\env\n"
     ]
    }
   ],
   "source": [
    "# Import all of the necessary modules\n",
    "import cv2\n",
    "import matplotlib.pyplot as plt\n",
    "import numpy as np\n",
    "import os\n",
    "\n",
    "%matplotlib auto\n",
    "%pylab inline\n",
    "\n",
    "\n",
    "def print_image(header,name,np_arr,start_First=0, end_First=1, start_Second=0, end_Second=2,start_3=0, end_3=5):\n",
    "    print(\"------  {0:-<25}    Shape{1} {2}: {3:}\".format(header, np_arr.shape, name, str(np_arr.dtype)) )\n",
    "    shapes = np_arr.shape #print(shapes)\n",
    "    if shapes[0] < end_First:\n",
    "        end_First = shapes[0]\n",
    "    if shapes[1] < end_Second:\n",
    "        end_Second = shapes[1]\n",
    "    if len(shapes)==3:\n",
    "        if shapes[2] < end_3:\n",
    "            end_3 = shapes[2]\n",
    "    if len(shapes)==3:\n",
    "        for i in range (start_First,end_First):\n",
    "            print(\"[\", sep='',end=\"\")\n",
    "            for j in range (start_Second,end_Second):\n",
    "                print(np_arr[i,j,start_3:end_3], sep=' ', end=\" \")\n",
    "            print(']')\n",
    "    if len(shapes)==2:\n",
    "        for i in range (start_First,end_First):\n",
    "            print(\"[\", end=\" \")\n",
    "            #print(np_arr[i,start_Second:end_Second],sep=' ',end=\" \") cutoff sting by<60\n",
    "            for k in range (start_Second,end_Second):\n",
    "                print(np_arr[i,k], end=\" \")\n",
    "            print(']')\n",
    "def plt_view_image(plt,list_images,figsize=(15,6), axis=\"off\", cmap='gray'):\n",
    "    #%pylab inline\n",
    "    plt.figure(figsize=figsize)\n",
    "    n = len(list_images)  #; print(n)\n",
    "    plot_number = 1\n",
    "    for name, img in list_images:\n",
    "        plt.subplot(1,n,plot_number)\n",
    "        plt.axis(axis)\n",
    "        plt.title(name)\n",
    "        if cmap =='gray':\n",
    "            plt.imshow(img,cmap='gray' )\n",
    "        else:\n",
    "            plt.imshow(img )\n",
    "        plot_number = plot_number + 1\n",
    "    plt.show()\n",
    "\n",
    "def plt_view_grid(plt, axis ='off',\n",
    "                  x_min=-10, x_max=10, y_min=-10, y_max=10,\n",
    "                  x_major_size=1, x_minor_size=0.2, y_major_size=1, y_minor_size=0.2,\n",
    "                  major_color='#CCCCCC', major_alpha=0.5,\n",
    "                  minor_color='#CCCCCC', minor_alpha=0.2\n",
    "                 ):\n",
    "    plt.xlim(x_min, x_max)\n",
    "    plt.ylim(y_min, y_max)\n",
    "    ax = plt.gca()\n",
    "    x_major_ticks=np.arange(x_min, x_max, x_major_size)\n",
    "    x_minor_ticks=np.arange(x_min, x_max, x_minor_size)\n",
    "    y_major_ticks=np.arange(y_min, y_max, y_major_size)\n",
    "    y_minor_ticks=np.arange(y_min, y_max, y_minor_size)\n",
    "    ax.set_xticks(x_major_ticks)\n",
    "    ax.xaxis.set_major_locator(MultipleLocator(x_major_size))\n",
    "    ax.set_xticks(x_minor_ticks, minor=True)\n",
    "    ax.set_yticks(y_major_ticks)\n",
    "    ax.yaxis.set_major_locator(MultipleLocator(y_major_size))\n",
    "    ax.set_yticks(y_minor_ticks, minor=True)\n",
    "    plt.grid(which='major', color=major_color, alpha=major_alpha)\n",
    "    plt.grid(which='minor', color=minor_color, alpha=minor_alpha)\n",
    "\n",
    "#help(\"modules\")   \n",
    "import sys             \n",
    "print('\\n'.join(sys.path))\n",
    "print(\"current folder ==\",os.getcwd())\n",
    "#pip list\""
   ]
  },
  {
   "cell_type": "code",
   "execution_count": 2,
   "metadata": {},
   "outputs": [
    {
     "name": "stdout",
     "output_type": "stream",
     "text": [
      "matrix_rank(A) == 10\n",
      "------  A------------------------    Shape(10, 10) A: float64\n",
      "[ 0.4967141530112327 -0.13826430117118466 0.6476885381006925 1.5230298564080254 ]\n",
      "[ -0.46341769281246226 -0.46572975357025687 0.24196227156603412 -1.913280244657798 ]\n",
      "[ 1.465648768921554 -0.22577630048653566 0.06752820468792384 -1.4247481862134568 ]\n",
      "[ -0.6017066122293969 1.8522781845089378 -0.013497224737933921 -1.0577109289559004 ]\n",
      "[ 0.7384665799954104 0.1713682811899705 -0.11564828238824053 -0.3011036955892888 ]\n"
     ]
    },
    {
     "data": {
      "image/png": "[encoded data removed]",
      "text/plain": [
       "<Figure size 432x432 with 1 Axes>"
      ]
     },
     "metadata": {
      "needs_background": "light"
     },
     "output_type": "display_data"
    }
   ],
   "source": [
    "np.random.seed(42)\n",
    "\n",
    "N = 10\n",
    "A = np.random.randn(N,N)\n",
    "\n",
    "print(\"matrix_rank(A) ==\",np.linalg.matrix_rank(A))\n",
    "\n",
    "\n",
    "\n",
    "#######################################\n",
    "print_image('A','A',A,0,5,0,4)\n",
    "\n",
    "plt.figure(figsize=(6,6))\n",
    "plt_view_grid(plt, 'on',-2,2,-2,3,1,0.2,1,0.2,major_color='b')\n",
    "plt.title(' A = np.random.randn(N,N)')\n",
    "plt.plot(A[:,0],A[:,1],'o', color=\"green\")\n",
    "plt.show()"
   ]
  },
  {
   "cell_type": "markdown",
   "metadata": {},
   "source": [
    " ## A. Generate a system of linear equations:"
   ]
  },
  {
   "cell_type": "code",
   "execution_count": 3,
   "metadata": {},
   "outputs": [
    {
     "name": "stdout",
     "output_type": "stream",
     "text": [
      "------  A------------------------    Shape(10, 10) A: float64\n",
      "[ 0.4967141530112327 -0.13826430117118466 0.6476885381006925 1.5230298564080254 ]\n",
      "[ -0.46341769281246226 -0.46572975357025687 0.24196227156603412 -1.913280244657798 ]\n",
      "[ 1.465648768921554 -0.22577630048653566 0.06752820468792384 -1.4247481862134568 ]\n",
      "[ -0.6017066122293969 1.8522781845089378 -0.013497224737933921 -1.0577109289559004 ]\n",
      "[ 0.7384665799954104 0.1713682811899705 -0.11564828238824053 -0.3011036955892888 ]\n"
     ]
    },
    {
     "data": {
      "image/png": "[encoded data removed]",
      "text/plain": [
       "<Figure size 432x432 with 1 Axes>"
      ]
     },
     "metadata": {
      "needs_background": "light"
     },
     "output_type": "display_data"
    }
   ],
   "source": [
    "np.random.seed(42)\n",
    "while np.linalg.matrix_rank(A) < N:\n",
    "    A = np.random.randn(N,N)\n",
    "    \n",
    "\n",
    "    \n",
    "#######################################\n",
    "print_image('A','A',A,0,5,0,4)\n",
    "\n",
    "plt.figure(figsize=(6,6))\n",
    "plt_view_grid(plt, 'on',-2,2,-2,3,1,0.2,1,0.2,major_color='b')\n",
    "plt.title(' A = np.random.randn(N,N)')\n",
    "plt.plot(A[:,0],A[:,1],'o', color=\"green\")\n",
    "plt.show()"
   ]
  },
  {
   "cell_type": "code",
   "execution_count": 4,
   "metadata": {},
   "outputs": [
    {
     "name": "stdout",
     "output_type": "stream",
     "text": [
      "------  X------------------------    Shape(10, 1) X: float64\n",
      "[ 0.4967141530112327 ]\n",
      "[ -0.13826430117118466 ]\n",
      "[ 0.6476885381006925 ]\n",
      "[ 1.5230298564080254 ]\n",
      "[ -0.23415337472333597 ]\n",
      "[ -0.23413695694918055 ]\n",
      "[ 1.5792128155073915 ]\n",
      "[ 0.7674347291529088 ]\n",
      "[ -0.4694743859349521 ]\n",
      "[ 0.5425600435859647 ]\n"
     ]
    }
   ],
   "source": [
    "np.random.seed(42)\n",
    "x = np.random.randn(N,1)\n",
    "\n",
    "\n",
    "#######################################\n",
    "print_image('X','X',x,0,10,0,N+1)"
   ]
  },
  {
   "cell_type": "code",
   "execution_count": 5,
   "metadata": {},
   "outputs": [
    {
     "name": "stdout",
     "output_type": "stream",
     "text": [
      "------  b------------------------    Shape(10, 1) b: float64\n",
      "[ 6.7122570502988195 ]\n",
      "[ -4.085788532659923 ]\n",
      "[ -2.6710905121025057 ]\n",
      "[ -2.5251249853306694 ]\n",
      "[ -0.7096877230530863 ]\n",
      "[ -0.9409035272879298 ]\n",
      "[ -3.1219314405728165 ]\n",
      "[ 1.5341764638969206 ]\n",
      "[ 2.541272355869411 ]\n",
      "[ -0.06668224406075446 ]\n"
     ]
    }
   ],
   "source": [
    "b = A @ x\n",
    "\n",
    "\n",
    "###########################################\n",
    "print_image('b','b',b,0,10,0,N+1)"
   ]
  },
  {
   "cell_type": "markdown",
   "metadata": {},
   "source": [
    "### A. Solve the system of linear equations:\n",
    "\n",
    "**A.** Systems of linear equations can be solved using OpenCV's `cv2.solve` function. It accepts a coefficients matrix, the right-hand side of the system, and optional flags, then returns a solution (the success indicator and solution vector, to be exact). As you can see in the first example, it can be used to solve systems with unique solutions."
   ]
  },
  {
   "cell_type": "code",
   "execution_count": 6,
   "metadata": {},
   "outputs": [
    {
     "name": "stdout",
     "output_type": "stream",
     "text": [
      "Solved: True\n",
      "Residual: 1.9295615482511576e-15\n",
      "Relative error: 1.2067842884489285e-15\n",
      "------  x------------------------    Shape(10, 1) x: float64\n",
      "[ 0.4967141530112327 ]\n",
      "[ -0.13826430117118466 ]\n",
      "[ 0.6476885381006925 ]\n",
      "[ 1.5230298564080254 ]\n",
      "[ -0.23415337472333597 ]\n",
      "[ -0.23413695694918055 ]\n",
      "[ 1.5792128155073915 ]\n",
      "[ 0.7674347291529088 ]\n",
      "[ -0.4694743859349521 ]\n",
      "[ 0.5425600435859647 ]\n",
      "------  x_est--------------------    Shape(10, 1) x_est: float64\n",
      "[ 0.4967141530112337 ]\n",
      "[ -0.13826430117118552 ]\n",
      "[ 0.6476885381006915 ]\n",
      "[ 1.5230298564080247 ]\n",
      "[ -0.2341533747233372 ]\n",
      "[ -0.23413695694918044 ]\n",
      "[ 1.5792128155073928 ]\n",
      "[ 0.7674347291529074 ]\n",
      "[ -0.469474385934951 ]\n",
      "[ 0.5425600435859652 ]\n"
     ]
    }
   ],
   "source": [
    "ok, x_est = cv2.solve(A, b)\n",
    "print('Solved:', ok)\n",
    "if ok: #True\n",
    "    print('Residual:', cv2.norm(b - A @ x_est))\n",
    "    print('Relative error:', cv2.norm(x_est - x) / cv2.norm(x))\n",
    "\n",
    "    \n",
    "\n",
    "    \n",
    "#############################################\n",
    "print_image('x','x',x,0,10,0,N+1)\n",
    "print_image('x_est','x_est',x_est,0,10,0,N+1)"
   ]
  },
  {
   "cell_type": "markdown",
   "metadata": {},
   "source": [
    "## B. Construct an over-determined system of linear equations:"
   ]
  },
  {
   "cell_type": "code",
   "execution_count": 7,
   "metadata": {},
   "outputs": [
    {
     "name": "stdout",
     "output_type": "stream",
     "text": [
      "matrix_rank(A) == 10\n",
      "------  A------------------------    Shape(20, 10) A: float64\n",
      "[ 0.4967141530112327 -0.13826430117118466 0.6476885381006925 1.5230298564080254 ]\n",
      "[ -0.46341769281246226 -0.46572975357025687 0.24196227156603412 -1.913280244657798 ]\n",
      "[ 1.465648768921554 -0.22577630048653566 0.06752820468792384 -1.4247481862134568 ]\n",
      "[ -0.6017066122293969 1.8522781845089378 -0.013497224737933921 -1.0577109289559004 ]\n",
      "[ 0.7384665799954104 0.1713682811899705 -0.11564828238824053 -0.3011036955892888 ]\n"
     ]
    },
    {
     "data": {
      "image/png": "[encoded data removed]",
      "text/plain": [
       "<Figure size 432x432 with 1 Axes>"
      ]
     },
     "metadata": {
      "needs_background": "light"
     },
     "output_type": "display_data"
    }
   ],
   "source": [
    "np.random.seed(42)\n",
    "\n",
    "N = 10\n",
    "A = np.random.randn(N*2,N)\n",
    "\n",
    "print(\"matrix_rank(A) ==\",np.linalg.matrix_rank(A))\n",
    "\n",
    "\n",
    "\n",
    "#######################################\n",
    "print_image('A','A',A,0,5,0,4)\n",
    "\n",
    "plt.figure(figsize=(6,6))\n",
    "plt_view_grid(plt, 'on',-3,3,-2,3,1,0.2,1,0.2,major_color='b')\n",
    "plt.title('A = np.random.randn(N*2,N)')\n",
    "plt.plot(A[:,0],A[:,1],'o', color=\"green\")\n",
    "plt.show()"
   ]
  },
  {
   "cell_type": "code",
   "execution_count": 8,
   "metadata": {},
   "outputs": [
    {
     "name": "stdout",
     "output_type": "stream",
     "text": [
      "matrix_rank(A) == 10\n",
      "------  A------------------------    Shape(20, 10) A: float64\n",
      "[ 0.4967141530112327 -0.13826430117118466 0.6476885381006925 1.5230298564080254 -0.23415337472333597 ]\n",
      "[ -0.46341769281246226 -0.46572975357025687 0.24196227156603412 -1.913280244657798 -1.7249178325130328 ]\n",
      "[ 1.465648768921554 -0.22577630048653566 0.06752820468792384 -1.4247481862134568 -0.5443827245251827 ]\n",
      "[ -0.6017066122293969 1.8522781845089378 -0.013497224737933921 -1.0577109289559004 0.822544912103189 ]\n",
      "[ 0.7384665799954104 0.1713682811899705 -0.11564828238824053 -0.3011036955892888 -1.4785219903674274 ]\n"
     ]
    },
    {
     "data": {
      "image/png": "[encoded data removed]",
      "text/plain": [
       "<Figure size 432x432 with 1 Axes>"
      ]
     },
     "metadata": {
      "needs_background": "light"
     },
     "output_type": "display_data"
    }
   ],
   "source": [
    "np.random.seed(42)\n",
    "\n",
    "while np.linalg.matrix_rank(A) < N:\n",
    "    A = np.random.randn(N*2,N)\n",
    "    \n",
    "print(\"matrix_rank(A) ==\",np.linalg.matrix_rank(A))\n",
    "\n",
    "\n",
    "\n",
    "\n",
    "#######################################\n",
    "print_image('A','A',A,0,5,0,5)\n",
    "\n",
    "plt.figure(figsize=(6,6))\n",
    "plt_view_grid(plt, 'on',-3,3,-2,3,1,0.2,1,0.2,major_color='b')\n",
    "plt.title('A = np.random.randn(N*2,N)')\n",
    "plt.plot(A[:,0],A[:,1],'o', color=\"green\")\n",
    "plt.show()"
   ]
  },
  {
   "cell_type": "code",
   "execution_count": 9,
   "metadata": {},
   "outputs": [
    {
     "name": "stdout",
     "output_type": "stream",
     "text": [
      "------  X------------------------    Shape(10, 1) X: float64\n",
      "[ 0.4967141530112327 ]\n",
      "[ -0.13826430117118466 ]\n",
      "[ 0.6476885381006925 ]\n",
      "[ 1.5230298564080254 ]\n",
      "[ -0.23415337472333597 ]\n",
      "[ -0.23413695694918055 ]\n",
      "[ 1.5792128155073915 ]\n",
      "[ 0.7674347291529088 ]\n",
      "[ -0.4694743859349521 ]\n",
      "[ 0.5425600435859647 ]\n"
     ]
    }
   ],
   "source": [
    "np.random.seed(42)\n",
    "x = np.random.randn(N,1)\n",
    "\n",
    "\n",
    "#######################################\n",
    "print_image('X','X',x,0,10,0,N+1)"
   ]
  },
  {
   "cell_type": "code",
   "execution_count": 10,
   "metadata": {},
   "outputs": [
    {
     "name": "stdout",
     "output_type": "stream",
     "text": [
      "------  b------------------------    Shape(20, 1) b: float64\n",
      "[ 6.7122570502988195 ]\n",
      "[ -4.085788532659923 ]\n",
      "[ -2.6710905121025057 ]\n",
      "[ -2.5251249853306694 ]\n",
      "[ -0.7096877230530863 ]\n",
      "[ -0.9409035272879298 ]\n",
      "[ -3.1219314405728165 ]\n",
      "[ 1.5341764638969206 ]\n",
      "[ 2.5412723558694106 ]\n",
      "[ -0.06668224406075454 ]\n"
     ]
    }
   ],
   "source": [
    "b = A @ x\n",
    "\n",
    "\n",
    "###########################################\n",
    "print_image('b','b',b,0,10,0,N+1)"
   ]
  },
  {
   "cell_type": "markdown",
   "metadata": {},
   "source": [
    "### B. Solve the over-determined system of linear equations:\n",
    "\n",
    "**B.** You can specify the `cv2.DECOMP_NORMAL` flag, in which case an internally normalized system of linear equations will be constructed. This can be used to solve over-determined systems with one or no solutions, in the latter case, the least squares problem's solution is returned."
   ]
  },
  {
   "cell_type": "code",
   "execution_count": 11,
   "metadata": {},
   "outputs": [
    {
     "name": "stdout",
     "output_type": "stream",
     "text": [
      "Solved overdetermined system: True\n",
      "Residual: 3.663841114510703e-15\n",
      "Relative error: 7.808827992072877e-16\n",
      "------  x------------------------    Shape(10, 1) x: float64\n",
      "[ 0.4967141530112327 ]\n",
      "[ -0.13826430117118466 ]\n",
      "[ 0.6476885381006925 ]\n",
      "[ 1.5230298564080254 ]\n",
      "[ -0.23415337472333597 ]\n",
      "[ -0.23413695694918055 ]\n",
      "[ 1.5792128155073915 ]\n",
      "[ 0.7674347291529088 ]\n",
      "[ -0.4694743859349521 ]\n",
      "[ 0.5425600435859647 ]\n",
      "------  x_est--------------------    Shape(10, 1) x_est: float64\n",
      "[ 0.4967141530112324 ]\n",
      "[ -0.13826430117118466 ]\n",
      "[ 0.647688538100693 ]\n",
      "[ 1.5230298564080262 ]\n",
      "[ -0.23415337472333542 ]\n",
      "[ -0.23413695694918046 ]\n",
      "[ 1.5792128155073908 ]\n",
      "[ 0.7674347291529092 ]\n",
      "[ -0.4694743859349533 ]\n",
      "[ 0.5425600435859639 ]\n"
     ]
    }
   ],
   "source": [
    "ok, x_est = cv2.solve(A, b, flags=cv2.DECOMP_NORMAL)\n",
    "print('Solved overdetermined system:', ok)\n",
    "if ok:\n",
    "    print('Residual:', cv2.norm(b - A @ x_est))\n",
    "    print('Relative error:', cv2.norm(x_est - x) / cv2.norm(x))\n",
    "    \n",
    "    \n",
    "    \n",
    "#############################################\n",
    "print_image('x','x',x,0,10,0,N+1)\n",
    "print_image('x_est','x_est',x_est,0,10,0,N+1)    "
   ]
  },
  {
   "cell_type": "markdown",
   "metadata": {},
   "source": [
    "## C. Construct an under-determined system of linear equations that have more than one solution:"
   ]
  },
  {
   "cell_type": "code",
   "execution_count": 12,
   "metadata": {},
   "outputs": [
    {
     "name": "stdout",
     "output_type": "stream",
     "text": [
      "matrix_rank(A) == 10\n",
      "------  A------------------------    Shape(10, 20) A: float64\n",
      "[ 0.4967141530112327 -0.13826430117118466 0.6476885381006925 1.5230298564080254 ]\n",
      "[ 1.465648768921554 -0.22577630048653566 0.06752820468792384 -1.4247481862134568 ]\n",
      "[ 0.7384665799954104 0.1713682811899705 -0.11564828238824053 -0.3011036955892888 ]\n",
      "[ -0.47917423784528995 -0.18565897666381712 -1.1063349740060282 -1.1962066240806708 ]\n",
      "[ -0.21967188783751193 0.3571125715117464 1.477894044741516 -0.5182702182736474 ]\n"
     ]
    },
    {
     "data": {
      "image/png": "[encoded data removed]",
      "text/plain": [
       "<Figure size 432x432 with 1 Axes>"
      ]
     },
     "metadata": {
      "needs_background": "light"
     },
     "output_type": "display_data"
    }
   ],
   "source": [
    "np.random.seed(42)\n",
    "N = 10\n",
    "A = np.random.randn(N,N*2)\n",
    "\n",
    "print(\"matrix_rank(A) ==\",np.linalg.matrix_rank(A))\n",
    "\n",
    "\n",
    "\n",
    "\n",
    "#######################################\n",
    "print_image('A','A',A,0,5,0,4)\n",
    "\n",
    "plt.figure(figsize=(6,6))\n",
    "plt_view_grid(plt, 'on',-3,3,-2,3,1,0.2,1,0.2,major_color='b')\n",
    "plt.title('A = np.random.randn(N*2,N)')\n",
    "plt.plot(A[:,0],A[:,1],'o', color=\"green\")\n",
    "plt.show()"
   ]
  },
  {
   "cell_type": "code",
   "execution_count": 13,
   "metadata": {},
   "outputs": [
    {
     "name": "stdout",
     "output_type": "stream",
     "text": [
      "------  X------------------------    Shape(20, 1) X: float64\n",
      "[ 0.4967141530112327 ]\n",
      "[ -0.13826430117118466 ]\n",
      "[ 0.6476885381006925 ]\n",
      "[ 1.5230298564080254 ]\n",
      "[ -0.23415337472333597 ]\n",
      "[ -0.23413695694918055 ]\n",
      "[ 1.5792128155073915 ]\n",
      "[ 0.7674347291529088 ]\n",
      "[ -0.4694743859349521 ]\n",
      "[ 0.5425600435859647 ]\n"
     ]
    }
   ],
   "source": [
    "np.random.seed(42)\n",
    "x = np.random.randn(N*2,1)\n",
    "\n",
    "\n",
    "#######################################\n",
    "print_image('X','X',x,0,10,0,N+1)"
   ]
  },
  {
   "cell_type": "code",
   "execution_count": 14,
   "metadata": {},
   "outputs": [
    {
     "name": "stdout",
     "output_type": "stream",
     "text": [
      "------  b------------------------    Shape(10, 1) b: float64\n",
      "[ 18.098300772484276 ]\n",
      "[ -1.8662033071712878 ]\n",
      "[ -5.242408801147167 ]\n",
      "[ -0.4096850790224016 ]\n",
      "[ 4.1102490356259835 ]\n",
      "[ -5.260488141955751 ]\n",
      "[ -1.7472291562225337 ]\n",
      "[ -6.69880954423789 ]\n",
      "[ -2.933959094115421 ]\n",
      "[ 4.855574540543193 ]\n"
     ]
    }
   ],
   "source": [
    "b = A @ x\n",
    "\n",
    "\n",
    "###########################################\n",
    "print_image('b','b',b,0,10,0,N+1)"
   ]
  },
  {
   "cell_type": "markdown",
   "metadata": {},
   "source": [
    "### C. Solve the under-determined system of linear equations. Find the solution with minimal norm:\n",
    "\n",
    "**C.** An under-determined system of linear equations has either no or multiple solutions. In the preceding code, we constructed a system that has multiple solutions. The solution with minimal norm can be found using the MoorePenrose inverse (`A_pinv` in the code). As there are multiple solutions, the one we find might have more errors, relative to the solution we used to generate the right-hand side of the system."
   ]
  },
  {
   "cell_type": "code",
   "execution_count": 15,
   "metadata": {},
   "outputs": [
    {
     "name": "stdout",
     "output_type": "stream",
     "text": [
      "------  W------------------------    Shape(10, 1) W: float64\n",
      "[ 6.131054849255195 ]\n",
      "[ 5.872987669336215 ]\n",
      "[ 5.175489592196893 ]\n",
      "[ 4.560854516221951 ]\n",
      "[ 3.8594291551897664 ]\n",
      "[ 3.621803350800451 ]\n",
      "[ 3.2946239735712006 ]\n",
      "[ 2.736658318187761 ]\n",
      "[ 1.9099336418649306 ]\n",
      "[ 1.7737233664079826 ]\n",
      "------  U------------------------    Shape(10, 10) U: float64\n",
      "[ -0.14175818296289544 0.32734783883314666 -0.6638409494946339 -0.00305937441597034 ]\n",
      "[ -0.15024507563329195 0.2872475050002634 0.4047767648235128 0.5554446734125856 ]\n",
      "[ 0.022475870863031343 -0.22846318755949366 0.1317824056362893 0.481574139709742 ]\n",
      "[ 0.5820164350069781 0.336814557574826 0.09680867944548759 -0.3158675014832717 ]\n",
      "[ -0.09853604444218353 0.0436050751001259 -0.17088655663230348 0.07709343747432944 ]\n",
      "[ 0.47708161077408134 -0.3339352192826724 -0.033479945492635665 -0.06126476755973681 ]\n",
      "[ 0.5624087018221976 0.23551765947885162 0.08317301573755038 0.30487888230660043 ]\n",
      "[ -0.20389299953143702 0.005237778298365873 0.5375925187407872 -0.39674358788711755 ]\n",
      "[ 0.14153741520629418 -0.609953716641508 -0.1756535572478237 0.19121903569210524 ]\n",
      "[ 0.0534582171614722 0.3220855741471187 -0.10785026966686483 0.2513321062110158 ]\n",
      "------  v_t----------------------    Shape(20, 20) v_t: float64\n",
      "[ -0.1488344642630658 -0.16293093980893594 0.027049331459846834 -0.31853040591686704 ]\n",
      "[ 0.2894749497589621 -0.17354906596745315 -0.11332374935066007 0.05572767099432501 ]\n",
      "[ 0.13354808794330195 0.10420811312839022 -0.3094511954619526 -0.3000739681730468 ]\n",
      "[ 0.3313248660328671 -0.17349610411718894 0.3249517921998936 -0.239058168019532 ]\n",
      "[ -0.15858769260584452 0.06841168804799885 0.19746908981553402 -0.30040020460522504 ]\n",
      "[ -0.08114167587552827 -0.1961518996485598 -0.42753393587487454 0.17721068769231998 ]\n",
      "[ -0.028287003235171387 0.19172981211563023 -0.37691250227214995 -0.041274058791986645 ]\n",
      "[ -0.03433771578748412 -0.09333795542528191 -0.40422297569661114 0.17647388868085787 ]\n",
      "[ -0.07390065835884697 -0.24523827513646962 0.015624560722282594 -0.12154213521170708 ]\n",
      "[ -0.28617625408148084 -0.19234687770450323 0.09251247312829423 -0.18313007506013426 ]\n"
     ]
    }
   ],
   "source": [
    "w, u, v_t = cv2.SVDecomp(A, flags=cv2.SVD_FULL_UV)\n",
    "\n",
    "\n",
    "\n",
    "###########################################\n",
    "print_image('W','W',w,0,10,0,N+1)\n",
    "print_image('U','U',u,0,10,0,4)\n",
    "print_image('v_t','v_t',v_t,0,10,0,4)"
   ]
  },
  {
   "cell_type": "code",
   "execution_count": 16,
   "metadata": {},
   "outputs": [
    {
     "name": "stdout",
     "output_type": "stream",
     "text": [
      "------  W------------------------    Shape(10, 1) W: float64\n",
      "[ 6.131054849255195 ]\n",
      "[ 5.872987669336215 ]\n",
      "[ 5.175489592196893 ]\n",
      "[ 4.560854516221951 ]\n",
      "[ 3.8594291551897664 ]\n",
      "[ 3.621803350800451 ]\n",
      "[ 3.2946239735712006 ]\n",
      "[ 2.736658318187761 ]\n",
      "[ 1.9099336418649306 ]\n",
      "[ 1.7737233664079826 ]\n",
      "[6.13105485 5.87298767 5.17548959 4.56085452 3.85942916 3.62180335\n",
      " 3.29462397 2.73665832 1.90993364 1.77372337]\n",
      "------  W------------------------    Shape(10, 1) W: float64\n",
      "[ 0.16310407011307046 ]\n",
      "[ 0.17027108795428875 ]\n",
      "[ 0.19321843512306625 ]\n",
      "[ 0.2192571581582401 ]\n",
      "[ 0.2591056759405214 ]\n",
      "[ 0.27610554829791933 ]\n",
      "[ 0.3035247749126442 ]\n",
      "[ 0.3654091536944988 ]\n",
      "[ 0.5235783998356941 ]\n",
      "[ 0.5637857734406061 ]\n",
      "------  w_pinv-------------------    Shape(20, 10) w_pinv: float64\n",
      "[ 0.16310407011307046 0.0 0.0 0.0 0.0 0.0 0.0 0.0 0.0 0.0 ]\n",
      "[ 0.0 0.17027108795428875 0.0 0.0 0.0 0.0 0.0 0.0 0.0 0.0 ]\n",
      "[ 0.0 0.0 0.19321843512306625 0.0 0.0 0.0 0.0 0.0 0.0 0.0 ]\n",
      "[ 0.0 0.0 0.0 0.2192571581582401 0.0 0.0 0.0 0.0 0.0 0.0 ]\n",
      "[ 0.0 0.0 0.0 0.0 0.2591056759405214 0.0 0.0 0.0 0.0 0.0 ]\n",
      "[ 0.0 0.0 0.0 0.0 0.0 0.27610554829791933 0.0 0.0 0.0 0.0 ]\n",
      "[ 0.0 0.0 0.0 0.0 0.0 0.0 0.3035247749126442 0.0 0.0 0.0 ]\n",
      "[ 0.0 0.0 0.0 0.0 0.0 0.0 0.0 0.3654091536944988 0.0 0.0 ]\n",
      "[ 0.0 0.0 0.0 0.0 0.0 0.0 0.0 0.0 0.5235783998356941 0.0 ]\n",
      "[ 0.0 0.0 0.0 0.0 0.0 0.0 0.0 0.0 0.0 0.5637857734406061 ]\n",
      "[ 0.0 0.0 0.0 0.0 0.0 0.0 0.0 0.0 0.0 0.0 ]\n",
      "[ 0.0 0.0 0.0 0.0 0.0 0.0 0.0 0.0 0.0 0.0 ]\n"
     ]
    }
   ],
   "source": [
    "print_image('W','W',w,0,10,0,N+1)\n",
    "#################################\n",
    "\n",
    "\n",
    "mask = w > 1e-6\n",
    "print(w[mask])\n",
    "w[mask] = 1 / w[mask]\n",
    "w_pinv = np.zeros((A.shape[1], A.shape[0]))\n",
    "w_pinv[:N,:N] = np.diag(w[:,0])\n",
    "\n",
    "\n",
    "\n",
    "###########################################\n",
    "print_image('W','W',w,0,10,0,N+1)\n",
    "print_image('w_pinv','w_pinv',w_pinv,0,12,0,20)"
   ]
  },
  {
   "cell_type": "code",
   "execution_count": 17,
   "metadata": {},
   "outputs": [
    {
     "name": "stdout",
     "output_type": "stream",
     "text": [
      "------  A------------------------    Shape(10, 20) A: float64\n",
      "[ 0.4967141530112327 -0.13826430117118466 0.6476885381006925 1.5230298564080254 ]\n",
      "[ 1.465648768921554 -0.22577630048653566 0.06752820468792384 -1.4247481862134568 ]\n",
      "[ 0.7384665799954104 0.1713682811899705 -0.11564828238824053 -0.3011036955892888 ]\n",
      "[ -0.47917423784528995 -0.18565897666381712 -1.1063349740060282 -1.1962066240806708 ]\n",
      "[ -0.21967188783751193 0.3571125715117464 1.477894044741516 -0.5182702182736474 ]\n"
     ]
    },
    {
     "data": {
      "image/png": "[encoded data removed]",
      "text/plain": [
       "<Figure size 864x432 with 2 Axes>"
      ]
     },
     "metadata": {
      "needs_background": "light"
     },
     "output_type": "display_data"
    }
   ],
   "source": [
    "A_pinv = v_t.T @ w_pinv @ u.T\n",
    "\n",
    "\n",
    "#######################################\n",
    "print_image('A','A',A,0,5,0,4)\n",
    "\n",
    "plt.figure(figsize=(12,6))\n",
    "plt.subplot(121)\n",
    "plt_view_grid(plt, 'on',-2,2,-2,2,1,0.2,1,0.2,major_color='b')\n",
    "plt.title('A = np.random.randn(N*2,N)')\n",
    "plt.plot(A[:,0],A[:,1],'o', color=\"green\")\n",
    "\n",
    "plt.subplot(122)\n",
    "plt_view_grid(plt, 'on',-1,1,-1,1,1,0.2,1,0.2,major_color='b')\n",
    "plt.title('A_pinv = v_t.T @ w_pinv @ u.T')\n",
    "plt.plot(A_pinv[:,0],A_pinv[:,1],'o', color=\"green\")\n",
    "plt.show()"
   ]
  },
  {
   "cell_type": "code",
   "execution_count": 18,
   "metadata": {},
   "outputs": [
    {
     "name": "stdout",
     "output_type": "stream",
     "text": [
      "------  A------------------------    Shape(10, 20) A: float64\n",
      "[ 0.4967141530112327 -0.13826430117118466 0.6476885381006925 1.5230298564080254 ]\n",
      "[ 1.465648768921554 -0.22577630048653566 0.06752820468792384 -1.4247481862134568 ]\n",
      "[ 0.7384665799954104 0.1713682811899705 -0.11564828238824053 -0.3011036955892888 ]\n",
      "[ -0.47917423784528995 -0.18565897666381712 -1.1063349740060282 -1.1962066240806708 ]\n",
      "[ -0.21967188783751193 0.3571125715117464 1.477894044741516 -0.5182702182736474 ]\n",
      "------  x------------------------    Shape(20, 1) x: float64\n",
      "[ 0.4967141530112327 ]\n",
      "[ -0.13826430117118466 ]\n",
      "[ 0.6476885381006925 ]\n",
      "[ 1.5230298564080254 ]\n",
      "[ -0.23415337472333597 ]\n",
      "[ -0.23413695694918055 ]\n",
      "[ 1.5792128155073915 ]\n",
      "[ 0.7674347291529088 ]\n",
      "[ -0.4694743859349521 ]\n",
      "[ 0.5425600435859647 ]\n",
      "------  x_est--------------------    Shape(20, 1) x_est: float64\n",
      "[ 0.4967141530112324 ]\n",
      "[ -0.1382643011711856 ]\n",
      "[ 0.6476885381006932 ]\n",
      "[ 1.5230298564080242 ]\n",
      "[ -0.23415337472333408 ]\n",
      "[ -0.23413695694918085 ]\n",
      "[ 1.57921281550739 ]\n",
      "[ 0.7674347291529093 ]\n",
      "[ -0.46947438593495244 ]\n",
      "[ 0.542560043585965 ]\n"
     ]
    }
   ],
   "source": [
    "x_est = A_pinv @ b\n",
    "\n",
    "\n",
    "#######################################\n",
    "print_image('A','A',A,0,5,0,4)\n",
    "print_image('x','x',x,0,10,0,4)\n",
    "print_image('x_est','x_est',x_est,0,10,0,4)"
   ]
  },
  {
   "cell_type": "code",
   "execution_count": 19,
   "metadata": {
    "scrolled": true
   },
   "outputs": [
    {
     "name": "stdout",
     "output_type": "stream",
     "text": [
      "Solved underdetermined system\n",
      "Residual: 9.85537918881547e-15\n",
      "Relative error: 9.716988489122423e-16\n"
     ]
    }
   ],
   "source": [
    "print('Solved underdetermined system')\n",
    "print('Residual:', cv2.norm(b - A @ x_est))\n",
    "print('Relative error:', cv2.norm(x_est - x) / cv2.norm(x))"
   ]
  },
  {
   "cell_type": "code",
   "execution_count": null,
   "metadata": {},
   "outputs": [],
   "source": []
  }
 ],
 "metadata": {
  "kernelspec": {
   "display_name": "Python 3",
   "language": "python",
   "name": "python3"
  },
  "language_info": {
   "codemirror_mode": {
    "name": "ipython",
    "version": 3
   },
   "file_extension": ".py",
   "mimetype": "text/x-python",
   "name": "python",
   "nbconvert_exporter": "python",
   "pygments_lexer": "ipython3",
   "version": "3.8.1"
  }
 },
 "nbformat": 4,
 "nbformat_minor": 2
}
