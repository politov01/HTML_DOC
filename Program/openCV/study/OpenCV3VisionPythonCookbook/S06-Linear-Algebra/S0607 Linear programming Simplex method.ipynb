{
 "cells": [
  {
   "cell_type": "markdown",
   "metadata": {},
   "source": [
    "# Linear programming with the simplex method\n",
    "\n",
    "In this recipe, we consider a special case of optimization problems, problems with linear constraints. These tasks imply that you need to optimize (maximize or minimize) a linear combination of positive variables, taking into account a set of linear constraints. Linear programming doesn't have well-known and direct applications in computer vision, but you may encounter it somewhere down the road. So, let's see how you can deal with linear programming problems using OpenCV \n",
    "\n",
    "`cv2.solveLP` accepts three arguments: a function's weights, a linear constraints matrix, and a NumPy array object to save results. Weights are represented with an ($N,1$) or ($1,N$) vector of float values. The length of this vector also means the number of optimized parameters. The linear constraints matrix is an ($M, N+1$) NumPy array, where the last column contains constant terms for each constraint and each row, except the last element, which contains coefficients for the corresponding parameters. The last argument is intended to store the solution if it exists.\n",
    "\n",
    "In general, there are four possible outcomes for linear programming problems, they may have a single solution, many solutions (in some range), or no determined solutions at all. In this latter case, the problem may be unbounded or unfeasible. For all four of these results, `cv2.solveLP` returns a corresponding value: `cv2.SOLVELP_SINGLE`, `cv2.SOLVELP_MULTI`, `cv2.SOLVELP_UNBOUNDED`, or `cv2.SOLVELP_UNFEASIBLE`."
   ]
  },
  {
   "cell_type": "code",
   "execution_count": 1,
   "metadata": {},
   "outputs": [],
   "source": [
    "import cv2\n",
    "import numpy as np"
   ]
  },
  {
   "cell_type": "code",
   "execution_count": 2,
   "metadata": {},
   "outputs": [
    {
     "name": "stdout",
     "output_type": "stream",
     "text": [
      "[[ 1.55133911  0.07918602  0.17397653 -0.07233657 -2.0043294   0.14467781\n",
      "  -1.50116862  0.21110945 -0.55820506  1.08452906 -0.18628912]\n",
      " [ 0.01466137 -1.07556947  0.64225207 -0.18033671  0.62030025  0.81097433\n",
      "   0.77793587 -0.23748968 -1.89191235 -1.17212179  0.83620697]\n",
      " [ 1.0092734   1.29309936 -0.54933117 -0.98171286  0.91467276  0.87307038\n",
      "   0.02211114 -0.00414358 -1.34912615 -0.20821785  1.32654029]\n",
      " [-0.91626058 -0.47001315 -0.14944252 -0.32526012 -1.80572346 -0.50037019\n",
      "  -0.56478065 -0.31442857 -0.39667724  0.00593311 -0.99713825]\n",
      " [ 1.69109758 -0.31644087  1.46513442  1.46360133  0.12891133 -1.17824286\n",
      "  -2.16650921 -1.52181288 -0.29288776  0.16048827 -0.78285103]\n",
      " [-0.51740221  2.69656891  0.27520385 -1.2115925   0.58724273 -0.98183648\n",
      "  -2.43854975  0.13611748 -0.80758817  0.02008111  1.75986028]\n",
      " [ 0.05289752 -0.89981032  1.58844975 -2.17616164 -1.21721545  1.35446929\n",
      "   1.47722741 -0.3262205  -0.78386877  0.25093104  0.23357219]\n",
      " [ 0.07555501 -0.56786791 -1.39244738 -0.81624908 -0.51137639 -0.50980786\n",
      "  -0.77346088 -0.2485163  -1.90069201  0.79982019  1.27597389]\n",
      " [-0.70099424 -1.47115075  0.26118566  0.45850855 -0.20951675  0.93200405\n",
      "  -0.58697323 -1.1331135   1.48476884 -0.51066281 -0.44821889]\n",
      " [-2.32991332 -0.39343923 -0.6387637  -0.0386074   0.67120293  0.17618155\n",
      "  -1.17429526  1.04048911  0.35972902  0.54311612 -0.08469009]]\n"
     ]
    }
   ],
   "source": [
    "np.random.seed(14)\n",
    "\n",
    "m = 10\n",
    "n = 10\n",
    "constrains_mat = np.random.randn(m, n+1)\n",
    "print(constrains_mat)"
   ]
  },
  {
   "cell_type": "code",
   "execution_count": 3,
   "metadata": {},
   "outputs": [
    {
     "name": "stdout",
     "output_type": "stream",
     "text": [
      "[[ 0.0766011  -1.40515031 -1.55623431 -0.69237706 -0.73621952  0.18231665\n",
      "  -3.37195935 -0.63101853 -0.90044066  1.02800912]]\n"
     ]
    }
   ],
   "source": [
    "weights = np.random.randn(1, n)\n",
    "print(weights)"
   ]
  },
  {
   "cell_type": "code",
   "execution_count": 4,
   "metadata": {},
   "outputs": [],
   "source": [
    "solution = np.array((n, 1), np.float32)"
   ]
  },
  {
   "cell_type": "code",
   "execution_count": 5,
   "metadata": {},
   "outputs": [
    {
     "name": "stdout",
     "output_type": "stream",
     "text": [
      "The problem has the one solution\n",
      "(0, array([[0.39750011],\n",
      "       [0.        ],\n",
      "       [0.        ],\n",
      "       [0.        ],\n",
      "       [0.48672376],\n",
      "       [0.57872191],\n",
      "       [0.08963031],\n",
      "       [0.43450551],\n",
      "       [0.        ],\n",
      "       [0.12143697]])) 0\n"
     ]
    }
   ],
   "source": [
    "res = cv2.solveLP(weights, constrains_mat, solution)\n",
    "\n",
    "if res[0] == cv2.SOLVELP_SINGLE:\n",
    "    print('The problem has the one solution')\n",
    "elif res[0] == cv2.SOLVELP_MULTI:\n",
    "    print('The problem has the multiple solutions')\n",
    "elif res[0] == cv2.SOLVELP_UNBOUNDED:\n",
    "    print('The solution is unbounded')\n",
    "elif res[0] == cv2.SOLVELP_UNFEASIBLE:\n",
    "    print('The problem doesnt\\'t have any solutions')\n",
    "\n",
    "print(res,cv2.SOLVELP_SINGLE)"
   ]
  },
  {
   "cell_type": "code",
   "execution_count": 6,
   "metadata": {},
   "outputs": [
    {
     "name": "stdout",
     "output_type": "stream",
     "text": [
      "1\n",
      "np.random.seed(1)\n",
      "The solution is unbounded\n",
      "4\n",
      "np.random.seed(4)\n",
      "The problem doesnt't have any solutions\n",
      "14\n",
      "The problem has the one solution\n",
      "np.random.seed(14)\n",
      "(0, array([[0.39750011],\n",
      "       [0.        ],\n",
      "       [0.        ],\n",
      "       [0.        ],\n",
      "       [0.48672376],\n",
      "       [0.57872191],\n",
      "       [0.08963031],\n",
      "       [0.43450551],\n",
      "       [0.        ],\n",
      "       [0.12143697]])) 0\n",
      "25\n",
      "The problem has the one solution\n",
      "np.random.seed(25)\n",
      "(0, array([[1.5477677 ],\n",
      "       [0.        ],\n",
      "       [1.38594759],\n",
      "       [1.18527874],\n",
      "       [2.19301925],\n",
      "       [0.        ],\n",
      "       [0.        ],\n",
      "       [0.98356024],\n",
      "       [3.39963587],\n",
      "       [1.15237827]])) 0\n",
      "28\n",
      "The problem has the one solution\n",
      "np.random.seed(28)\n",
      "(0, array([[0.        ],\n",
      "       [0.56232817],\n",
      "       [0.16455931],\n",
      "       [0.21438934],\n",
      "       [0.        ],\n",
      "       [0.        ],\n",
      "       [0.        ],\n",
      "       [0.16918463],\n",
      "       [0.        ],\n",
      "       [0.73966175]])) 0\n",
      "33\n",
      "The problem has the one solution\n",
      "np.random.seed(33)\n",
      "(0, array([[0.        ],\n",
      "       [1.36297875],\n",
      "       [0.        ],\n",
      "       [0.        ],\n",
      "       [0.47853884],\n",
      "       [0.        ],\n",
      "       [0.5941092 ],\n",
      "       [0.        ],\n",
      "       [0.31524121],\n",
      "       [0.32815211]])) 0\n",
      "40\n",
      "The problem has the one solution\n",
      "np.random.seed(40)\n",
      "(0, array([[1.23851834],\n",
      "       [0.        ],\n",
      "       [0.        ],\n",
      "       [0.        ],\n",
      "       [1.28805828],\n",
      "       [2.11057037],\n",
      "       [1.45847174],\n",
      "       [0.        ],\n",
      "       [0.02341713],\n",
      "       [0.67012951]])) 0\n",
      "41\n",
      "The problem has the one solution\n",
      "np.random.seed(41)\n",
      "(0, array([[0.        ],\n",
      "       [1.44714021],\n",
      "       [0.23402197],\n",
      "       [0.        ],\n",
      "       [0.54349213],\n",
      "       [1.04254309],\n",
      "       [0.24384257],\n",
      "       [0.        ],\n",
      "       [0.        ],\n",
      "       [0.31800498]])) 0\n",
      "49\n",
      "The problem has the one solution\n",
      "np.random.seed(49)\n",
      "(0, array([[0.        ],\n",
      "       [1.59168229],\n",
      "       [1.70849323],\n",
      "       [1.81904849],\n",
      "       [1.22016359],\n",
      "       [0.        ],\n",
      "       [0.        ],\n",
      "       [0.        ],\n",
      "       [1.86289751],\n",
      "       [0.        ]])) 0\n"
     ]
    }
   ],
   "source": [
    "def func(i):\n",
    "    constrains_mat = np.random.randn(m, n+1)\n",
    "    weights = np.random.randn(1, n)\n",
    "    solution = np.array((n, 1), np.float32)\n",
    "    res = cv2.solveLP(weights, constrains_mat, solution)\n",
    "    if res[0] == cv2.SOLVELP_SINGLE:\n",
    "        print('The problem has the one solution')\n",
    "        print('np.random.seed({0})'.format(i))\n",
    "        print(res, cv2.SOLVELP_SINGLE)\n",
    "    elif res[0] == cv2.SOLVELP_MULTI:\n",
    "        print('The problem has the multiple solutions')\n",
    "    elif res[0] == cv2.SOLVELP_UNBOUNDED:\n",
    "        if i<50:\n",
    "            print('np.random.seed({0})'.format(i))\n",
    "            print('The solution is unbounded')\n",
    "    elif res[0] == cv2.SOLVELP_UNFEASIBLE:\n",
    "        if i<50:\n",
    "            print('np.random.seed({0})'.format(i))\n",
    "            print('The problem doesnt\\'t have any solutions')\n",
    "\n",
    "    \n",
    "for i in [1,4,14,25,28,33,40,41,49]:  #*range(50,5000) ]:\n",
    "    print(i)\n",
    "    np.random.seed(i)\n",
    "    func(i)"
   ]
  },
  {
   "cell_type": "code",
   "execution_count": null,
   "metadata": {},
   "outputs": [],
   "source": []
  },
  {
   "cell_type": "code",
   "execution_count": null,
   "metadata": {},
   "outputs": [],
   "source": []
  }
 ],
 "metadata": {
  "kernelspec": {
   "display_name": "env",
   "language": "python",
   "name": "env"
  },
  "language_info": {
   "codemirror_mode": {
    "name": "ipython",
    "version": 3
   },
   "file_extension": ".py",
   "mimetype": "text/x-python",
   "name": "python",
   "nbconvert_exporter": "python",
   "pygments_lexer": "ipython3",
   "version": "3.8.1"
  }
 },
 "nbformat": 4,
 "nbformat_minor": 2
}
