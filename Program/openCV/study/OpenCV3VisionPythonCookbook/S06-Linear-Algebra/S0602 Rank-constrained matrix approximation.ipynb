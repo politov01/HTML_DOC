{
 "cells": [
  {
   "cell_type": "markdown",
   "metadata": {},
   "source": [
    "# Rank-constrained matrix approximation\n",
    "\n",
    "In this recipe, you will learn how to compute a rank-considerant matrix approximation. The problem is formulated as an optimization problem. Given an input matrix, the aim is to find its approximation where the fit is measured using the Frobenius norm and the rank of the output matrix should not be greater than the given value. This functionality, among other fields, is used in data compression and machine learning. \n",
    "\n",
    "The **Eckart-Young-Mirsky** theorem states that the problem can be solved through computing the **SVD** (using the `cv2.SVDecomp` function) and constructing an approximation where the smallest singular values are set to zeros, so the approximation rank is not greater than the required value."
   ]
  },
  {
   "cell_type": "code",
   "execution_count": 1,
   "metadata": {},
   "outputs": [],
   "source": [
    "import cv2\n",
    "import numpy as np"
   ]
  },
  {
   "cell_type": "code",
   "execution_count": 2,
   "metadata": {},
   "outputs": [
    {
     "name": "stdout",
     "output_type": "stream",
     "text": [
      "(10, 10)\n",
      " 0.497 -0.138  0.648  1.523 -0.234 -0.234  1.579  0.767 -0.469  0.543 \n",
      "-0.463 -0.466  0.242 -1.913 -1.725 -0.562 -1.013  0.314 -0.908 -1.412 \n",
      " 1.466 -0.226  0.068 -1.425 -0.544  0.111 -1.151  0.376 -0.601 -0.292 \n",
      "-0.602  1.852 -0.013 -1.058  0.823 -1.221  0.209 -1.960 -1.328  0.197 \n",
      " 0.738  0.171 -0.116 -0.301 -1.479 -0.720 -0.461  1.057  0.344 -1.763 \n",
      " 0.324 -0.385 -0.677  0.612  1.031  0.931 -0.839 -0.309  0.331  0.976 \n",
      "-0.479 -0.186 -1.106 -1.196  0.813  1.356 -0.072  1.004  0.362 -0.645 \n",
      " 0.361  1.538 -0.036  1.565 -2.620  0.822  0.087 -0.299  0.092 -1.988 \n",
      "-0.220  0.357  1.478 -0.518 -0.808 -0.502  0.915  0.329 -0.530  0.513 \n",
      " 0.097  0.969 -0.702 -0.328 -0.392 -1.464  0.296  0.261  0.005 -0.235 \n"
     ]
    }
   ],
   "source": [
    "np.random.seed(42)\n",
    "A = np.random.randn(10, 10)\n",
    "\n",
    "print(A.shape)\n",
    "\n",
    "for R in A:\n",
    "    for c in R: print(\"{0:6.3f}\".format(c), end=\" \")\n",
    "    print()"
   ]
  },
  {
   "cell_type": "code",
   "execution_count": 3,
   "metadata": {},
   "outputs": [
    {
     "name": "stdout",
     "output_type": "stream",
     "text": [
      "U = (10, 10) <class 'numpy.ndarray'>\n",
      " 0.062 -0.448  0.197  0.428 -0.099 -0.091  0.346 -0.642  0.054  0.145 \n",
      "-0.495  0.440 -0.081  0.189  0.081  0.323 -0.319 -0.431  0.328  0.115 \n",
      "-0.222  0.307 -0.222  0.143  0.516 -0.309  0.594  0.015 -0.016 -0.268 \n",
      " 0.078  0.445  0.676 -0.384  0.018  0.012  0.241 -0.189 -0.204  0.237 \n",
      "-0.493 -0.019 -0.146  0.077 -0.192 -0.421 -0.073  0.106 -0.459  0.538 \n",
      " 0.301 -0.051 -0.249 -0.253  0.346 -0.160  0.027 -0.010  0.467  0.645 \n",
      " 0.039  0.198 -0.445 -0.189 -0.600  0.301  0.512 -0.047  0.048  0.091 \n",
      "-0.572 -0.512  0.118 -0.514  0.139  0.222  0.187  0.041  0.152 -0.066 \n",
      "-0.099  0.004  0.314  0.493  0.011  0.346  0.252  0.581  0.203  0.292 \n",
      "-0.151  0.098  0.235 -0.034 -0.427 -0.574 -0.010  0.115  0.594 -0.185 \n",
      "V = (10, 10) <class 'numpy.ndarray'>\n",
      "-0.115 -0.165 -0.059  0.148  0.721  0.122  0.127 -0.159  0.076  0.593 \n",
      "-0.128 -0.023 -0.093 -0.831  0.230 -0.232 -0.327 -0.138 -0.227 -0.004 \n",
      "-0.142  0.490  0.261  0.105 -0.071 -0.490  0.361 -0.414 -0.304  0.146 \n",
      " 0.110 -0.459  0.488 -0.167 -0.127 -0.293  0.273  0.485 -0.126  0.287 \n",
      " 0.427 -0.166  0.348  0.130 -0.201  0.182 -0.505 -0.440 -0.242  0.267 \n",
      "-0.605 -0.100  0.363 -0.151 -0.146  0.599  0.180 -0.152 -0.168 -0.075 \n",
      " 0.508  0.440 -0.013 -0.247  0.137  0.453  0.301  0.245 -0.330  0.065 \n",
      " 0.013  0.398  0.350 -0.262 -0.112  0.057 -0.114  0.029  0.738  0.276 \n",
      "-0.245  0.118 -0.470 -0.004 -0.487  0.051 -0.116  0.194 -0.173  0.620 \n",
      "-0.267  0.343  0.292  0.282  0.274 -0.050 -0.518  0.484 -0.254 -0.048 \n"
     ]
    }
   ],
   "source": [
    "w, u, v_t = cv2.SVDecomp(A)\n",
    "\n",
    "print(\"U =\", u.shape, type(u))\n",
    "for R in u:\n",
    "    for c in R: print(\"{0:6.3f}\".format(c), end=\" \")\n",
    "    print()\n",
    "\n",
    "print(\"V =\", v_t.shape, type(v_t))\n",
    "for R in v_t:\n",
    "    for c in R: print(\"{0:6.3f}\".format(c), end=\" \")\n",
    "    print()"
   ]
  },
  {
   "cell_type": "code",
   "execution_count": 4,
   "metadata": {},
   "outputs": [
    {
     "name": "stdout",
     "output_type": "stream",
     "text": [
      "[[5.17872033]\n",
      " [4.24834597]\n",
      " [4.05180868]\n",
      " [3.03012925]\n",
      " [2.16140482]\n",
      " [2.00585042]\n",
      " [1.50885162]\n",
      " [0.87741701]\n",
      " [0.6868477 ]\n",
      " [0.22548745]]\n"
     ]
    }
   ],
   "source": [
    "print(w)"
   ]
  },
  {
   "cell_type": "code",
   "execution_count": 5,
   "metadata": {},
   "outputs": [
    {
     "name": "stdout",
     "output_type": "stream",
     "text": [
      "10\n"
     ]
    }
   ],
   "source": [
    "print(np.linalg.matrix_rank(A))"
   ]
  },
  {
   "cell_type": "code",
   "execution_count": 6,
   "metadata": {},
   "outputs": [],
   "source": [
    "rank = 5"
   ]
  },
  {
   "cell_type": "code",
   "execution_count": 7,
   "metadata": {},
   "outputs": [
    {
     "name": "stdout",
     "output_type": "stream",
     "text": [
      "[[5.17872033]\n",
      " [4.24834597]\n",
      " [4.05180868]\n",
      " [3.03012925]\n",
      " [2.16140482]\n",
      " [0.        ]\n",
      " [0.        ]\n",
      " [0.        ]\n",
      " [0.        ]\n",
      " [0.        ]]\n"
     ]
    }
   ],
   "source": [
    "w[rank:,0] = 0\n",
    "print(w)"
   ]
  },
  {
   "cell_type": "code",
   "execution_count": 8,
   "metadata": {},
   "outputs": [
    {
     "name": "stdout",
     "output_type": "stream",
     "text": [
      "(10, 10)\n",
      " 0.49671 -0.13826  0.64769  1.52303 -0.23415 -0.23414  1.57921  0.76743 -0.46947  0.54256 \n",
      "-0.46342 -0.46573  0.24196 -1.91328 -1.72492 -0.56229 -1.01283  0.31425 -0.90802 -1.41230 \n",
      " 1.46565 -0.22578  0.06753 -1.42475 -0.54438  0.11092 -1.15099  0.37570 -0.60064 -0.29169 \n",
      "-0.60171  1.85228 -0.01350 -1.05771  0.82254 -1.22084  0.20886 -1.95967 -1.32819  0.19686 \n",
      " 0.73847  0.17137 -0.11565 -0.30110 -1.47852 -0.71984 -0.46064  1.05712  0.34362 -1.76304 \n",
      " 0.32408 -0.38508 -0.67692  0.61168  1.03100  0.93128 -0.83922 -0.30921  0.33126  0.97555 \n",
      "-0.47917 -0.18566 -1.10633 -1.19621  0.81253  1.35624 -0.07201  1.00353  0.36164 -0.64512 \n",
      " 0.36140  1.53804 -0.03583  1.56464 -2.61975  0.82190  0.08705 -0.29901  0.09176 -1.98757 \n",
      "-0.21967  0.35711  1.47789 -0.51827 -0.80849 -0.50176  0.91540  0.32875 -0.52976  0.51327 \n",
      " 0.09708  0.96864 -0.70205 -0.32766 -0.39211 -1.46351  0.29612  0.26106  0.00511 -0.23459 \n",
      "(10, 10)\n",
      " 0.14626 -0.17773  0.92526  1.46764 -0.38636 -0.32971  1.41182  0.60529  0.10247  0.62883 \n",
      " 0.24005 -0.07378  0.23111 -2.03997 -1.50447 -0.72044 -0.98755  0.48501 -0.63383 -1.36679 \n",
      " 0.61623 -0.66527  0.31203 -1.27666 -0.74469  0.07281 -1.34078  0.09339 -0.43561 -0.39585 \n",
      "-0.78956  1.75889 -0.04112 -1.02323  0.67486 -1.38134  0.08721 -2.03881 -1.09207  0.31025 \n",
      " 0.23700  0.09327 -0.02589 -0.46704 -1.76304 -0.14751 -0.23910  0.95553  0.07401 -1.64365 \n",
      " 0.22654 -0.51941 -0.44853  0.53116  1.09394  1.09647 -0.68228 -0.50041  0.39032  0.75948 \n",
      "-0.49219 -0.45934 -1.29196 -0.93032  0.80098  0.64623 -0.40363  0.89119  0.75859 -0.65825 \n",
      " 0.50927  1.43719 -0.15356  1.71594 -2.53409  0.41881 -0.06953 -0.31441  0.24697 -2.04800 \n",
      " 0.05201  0.01722  1.09838 -0.20320 -0.65200 -1.12315  0.78412  0.26725 -0.62337  0.31664 \n",
      "-0.50370  0.78589 -0.11609 -0.46560 -0.33632 -0.79602  0.54508  0.02810 -0.20729 -0.60257 \n"
     ]
    }
   ],
   "source": [
    "print(A.shape)\n",
    "for R in A:\n",
    "    for c in R: print(\"{0:8.5f}\".format(c), end=\" \")\n",
    "    print()\n",
    "\n",
    "B = u @ np.diag(w[:,0]) @ v_t\n",
    "\n",
    "print(B.shape)\n",
    "for r in B:\n",
    "    for c in r: print(\"{0:8.5f}\".format(c), end=\" \")\n",
    "    print()"
   ]
  },
  {
   "cell_type": "code",
   "execution_count": 9,
   "metadata": {},
   "outputs": [
    {
     "name": "stdout",
     "output_type": "stream",
     "text": [
      "(10, 10)\n",
      " 0.35046  0.03947 -0.27757  0.05539  0.15221  0.09557  0.16739  0.16215 -0.57194 -0.08627 \n",
      "-0.70347 -0.39195  0.01085  0.12669 -0.22045  0.15815 -0.02528 -0.17077 -0.27420 -0.04552 \n",
      " 0.84942  0.43949 -0.24450 -0.14809  0.20031  0.03811  0.18978  0.28230 -0.16503  0.10415 \n",
      " 0.18785  0.09339  0.02762 -0.03448  0.14769  0.16049  0.12165  0.07914 -0.23612 -0.11339 \n",
      " 0.50146  0.07809 -0.08976  0.16594  0.28452 -0.57234 -0.22154  0.10159  0.26961 -0.11939 \n",
      " 0.09754  0.13433 -0.22839  0.08052 -0.06294 -0.16519 -0.15694  0.19120 -0.05905  0.21606 \n",
      " 0.01302  0.27368  0.18563 -0.26589  0.01155  0.71001  0.33162  0.11235 -0.39695  0.01313 \n",
      "-0.14787  0.10085  0.11773 -0.15130 -0.08566  0.40309  0.15658  0.01540 -0.15520  0.06043 \n",
      "-0.27168  0.33990  0.37952 -0.31507 -0.15649  0.62139  0.13128  0.06150  0.09361  0.19663 \n",
      " 0.60078  0.18276 -0.58596  0.13794 -0.05579 -0.66750 -0.24896  0.23295  0.21240  0.36799 \n",
      "0.14625518126184942\n",
      "0.4967141530112327\n",
      "0.35045897174938323\n",
      "-0.13826430117118466\n",
      "-0.17773057469581505\n",
      "0.03946627352463039\n"
     ]
    }
   ],
   "source": [
    "C = A - B\n",
    "print(C.shape)\n",
    "for r in C:\n",
    "    for c in r: print(\"{0:8.5f}\".format(c), end=\" \")\n",
    "    print()\n",
    "\n",
    "print(B[0,0])\n",
    "print(A[0,0])\n",
    "print(C[0,0])\n",
    "\n",
    "print(A[0,1])\n",
    "print(B[0,1])\n",
    "print(C[0,1])"
   ]
  },
  {
   "cell_type": "markdown",
   "metadata": {},
   "source": [
    "The Eckart-Young-Mirsky theorem states that the problem can be solved through computing the SVD (using the `cv2.SVDecomp` function) and constructing an approximation where the smallest singular values are set to zeros, so the approximation rank is not greater than the required value."
   ]
  },
  {
   "cell_type": "code",
   "execution_count": 10,
   "metadata": {},
   "outputs": [
    {
     "name": "stdout",
     "output_type": "stream",
     "text": [
      "Rank before: 10\n",
      "Rank after: 5\n"
     ]
    }
   ],
   "source": [
    "print('Rank before:', np.linalg.matrix_rank(A))\n",
    "print('Rank after:',  np.linalg.matrix_rank(B))"
   ]
  },
  {
   "cell_type": "code",
   "execution_count": 11,
   "metadata": {},
   "outputs": [
    {
     "name": "stdout",
     "output_type": "stream",
     "text": [
      "Norm before: 9.095637931826113\n",
      "Norm after:  8.668223307729631\n"
     ]
    }
   ],
   "source": [
    "print('Norm before:', cv2.norm(A))\n",
    "print('Norm after: ', cv2.norm(B))"
   ]
  },
  {
   "cell_type": "code",
   "execution_count": null,
   "metadata": {},
   "outputs": [],
   "source": []
  }
 ],
 "metadata": {
  "kernelspec": {
   "display_name": "env",
   "language": "python",
   "name": "env"
  },
  "language_info": {
   "codemirror_mode": {
    "name": "ipython",
    "version": 3
   },
   "file_extension": ".py",
   "mimetype": "text/x-python",
   "name": "python",
   "nbconvert_exporter": "python",
   "pygments_lexer": "ipython3",
   "version": "3.8.1"
  }
 },
 "nbformat": 4,
 "nbformat_minor": 2
}
