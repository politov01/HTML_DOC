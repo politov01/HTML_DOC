{
 "cells": [
  {
   "cell_type": "markdown",
   "metadata": {},
   "source": [
    "# Essential matrix decomposition into rotation and translation\n",
    "\n",
    "In this recipe, you will learn how to decompose essential matrices into two hypotheses about the relative rotation and translation vectors between two cameras in a stereo rig. This functionality is used when estimating stereo rig parameters.\n",
    "\n",
    "We use the OpenCV `cv2.decomposeEssentialMat` function, which takes an essential matrix as input and returns two candidates for rotation between cameras and one translation vector candidate. Note that since the translation vector can only be recovered up to a scale, it's returned in normalized form —unit length.   "
   ]
  },
  {
   "cell_type": "code",
   "execution_count": 1,
   "metadata": {},
   "outputs": [
    {
     "name": "stdout",
     "output_type": "stream",
     "text": [
      "Using matplotlib backend: TkAgg\n",
      "Populating the interactive namespace from numpy and matplotlib\n",
      "D:\\HTML_DOC\\Program\\opencv\\Packt\\S09\\env\n",
      "C:\\Program Files\\Python38\\python38.zip\n",
      "C:\\Program Files\\Python38\\DLLs\n",
      "C:\\Program Files\\Python38\\lib\n",
      "C:\\Program Files\\Python38\n",
      "d:\\html_doc\\program\\opencv\\packt\\s09\\env\n",
      "\n",
      "d:\\html_doc\\program\\opencv\\packt\\s09\\env\\lib\\site-packages\n",
      "d:\\html_doc\\program\\opencv\\packt\\s09\\env\\lib\\site-packages\\pip-20.1-py3.8.egg\n",
      "d:\\html_doc\\program\\opencv\\packt\\s09\\env\\lib\\site-packages\\win32\n",
      "d:\\html_doc\\program\\opencv\\packt\\s09\\env\\lib\\site-packages\\win32\\lib\n",
      "d:\\html_doc\\program\\opencv\\packt\\s09\\env\\lib\\site-packages\\Pythonwin\n",
      "d:\\html_doc\\program\\opencv\\packt\\s09\\env\\lib\\site-packages\\IPython\\extensions\n",
      "C:\\Users\\polit\\.ipython\n",
      "current folder == D:\\HTML_DOC\\Program\\opencv\\Packt\\S09\\env\n"
     ]
    }
   ],
   "source": [
    "import cv2\n",
    "import matplotlib.pyplot as plt\n",
    "import numpy as np\n",
    "import imutils\n",
    "import os\n",
    "\n",
    "%matplotlib auto\n",
    "%pylab inline\n",
    "\n",
    "def print_image(header,name,np_arr,\n",
    "                start_First=0,end_First=1,start_Second=0,end_Second=2,start_3=0,end_3=5):\n",
    "    print(\"------  {0:-<25}    Shape{1} {2}: {3:}\".format(header, np_arr.shape, name, str(np_arr.dtype)) )\n",
    "    shapes = np_arr.shape #print(shapes)\n",
    "    if shapes[0] < end_First:\n",
    "        end_First = shapes[0]\n",
    "    if shapes[1] < end_Second:\n",
    "        end_Second = shapes[1]\n",
    "    if len(shapes)==3:\n",
    "        if shapes[2] < end_3:\n",
    "            end_3 = shapes[2]\n",
    "    if len(shapes)==3:\n",
    "        for i in range (start_First,end_First):\n",
    "            print(\"[\", sep='',end=\"\")\n",
    "            for j in range (start_Second,end_Second):\n",
    "                print(np_arr[i,j,start_3:end_3], sep=' ', end=\" \")\n",
    "            print(']')\n",
    "    if len(shapes)==2:\n",
    "        for i in range (start_First,end_First):\n",
    "            print(\"[\", end=\" \")\n",
    "            #print(np_arr[i,start_Second:end_Second],sep=' ',end=\" \") cutoff sting by<60\n",
    "            for k in range (start_Second,end_Second):\n",
    "                print(np_arr[i,k], end=\" \")\n",
    "            print(']')\n",
    "\n",
    "def draw_grid(img, pxystep=None,major_color=None, pxstep=None,pystep=None):\n",
    "    #print(\"{0} XY{1} color{2} X{3} Y{4}\".format(img.shape, pxystep,major_color,pxstep,pystep))\n",
    "    pXYstep = None; pXstep=None; pYstep=None; \n",
    "    major_Color=None; minor_Color=None; major_Alpha=None; minor_Alpha=None;\n",
    "    if pxystep != None:\n",
    "        pXYstep = pXstep = pYstep = pxystep;\n",
    "    else:\n",
    "        pXstep = pxstep if pxstep != None else 100\n",
    "        pYstep = pystep if pystep != None else 100\n",
    "    major_Color = major_color if major_color != None else (204, 204, 204) #'#CCCCCC'\n",
    "    if pXstep != None:\n",
    "        x = pXstep\n",
    "        #Draw all lines on X\n",
    "        while x < img.shape[1]:\n",
    "            cv2.line(img, (x, 0), (x, img.shape[0]), color=major_Color, thickness=1)\n",
    "            x += pXstep\n",
    "    if pYstep != None:\n",
    "        y = pYstep\n",
    "        #Draw all lines on Y\n",
    "        while y < img.shape[0]:\n",
    "            cv2.line(img, (0, y), (img.shape[1], y), color=major_Color,thickness=1)\n",
    "            y += pYstep\n",
    "    return img\n",
    "\n",
    "def plt_view_image(plt,list_images,figsize=(15,6), axis=\"off\", cmap='gray'):\n",
    "    plt.figure(figsize=figsize)\n",
    "    n = len(list_images)  #; print(n)\n",
    "    plot_number = 1\n",
    "    for name, img in list_images:\n",
    "        plt.subplot(1,n,plot_number)\n",
    "        plt.axis(axis); plt.title(name)\n",
    "        if cmap =='gray': plt.imshow(img,cmap='gray' )\n",
    "        else: plt.imshow(img)\n",
    "        plot_number = plot_number + 1\n",
    "    plt.show()\n",
    "\n",
    "def plt_view_grid(plt, axis ='off',\n",
    "                  xy_sizeaxis =None,\n",
    "                  xy_measuare =None,\n",
    "                  x_min=-10, x_max=10, y_min=-10, y_max=10,\n",
    "                  x_major_size=1, x_minor_size=0.2, y_major_size=1, y_minor_size=0.2,\n",
    "                  major_color='#CCCCCC', major_alpha=0.5,\n",
    "                  minor_color='#CCCCCC', minor_alpha=0.2\n",
    "                 ):\n",
    "    if xy_sizeaxis is None:  x_min=-10; x_max=10; y_min=-10; y_max=10;\n",
    "    else: x_min, x_max, y_min, y_max = xy_sizeaxis\n",
    "\n",
    "    if xy_measuare is None:  x_major_size=1; x_minor_size=0.2; y_major_size=1; y_minor_size=0.2;\n",
    "    else: x_major_size, x_minor_size, y_major_size, y_minor_size = xy_measuare\n",
    "        \n",
    "    plt.xlim(x_min, x_max); plt.ylim(y_min, y_max);\n",
    "    ax = plt.gca()\n",
    "    x_major_ticks=np.arange(x_min,x_max,x_major_size); x_minor_ticks=np.arange(x_min,x_max,x_minor_size)\n",
    "    y_major_ticks=np.arange(y_min,y_max,y_major_size); y_minor_ticks=np.arange(y_min,y_max,y_minor_size)\n",
    "    ax.set_xticks(x_major_ticks)\n",
    "    ax.xaxis.set_major_locator(MultipleLocator(x_major_size))\n",
    "    ax.set_xticks(x_minor_ticks, minor=True)\n",
    "    ax.set_yticks(y_major_ticks)\n",
    "    ax.yaxis.set_major_locator(MultipleLocator(y_major_size))\n",
    "    ax.set_yticks(y_minor_ticks, minor=True)\n",
    "    plt.grid(which='major', color=major_color, alpha=major_alpha)\n",
    "    plt.grid(which='minor', color=minor_color, alpha=minor_alpha)\n",
    "    #plt.gca().invert_yaxis() plt.gca().invert_xaxis()\n",
    "    \n",
    "#help(\"modules\")   \n",
    "import sys             \n",
    "print('\\n'.join(sys.path))\n",
    "print(\"current folder ==\",os.getcwd())\n",
    "#pip list"
   ]
  },
  {
   "cell_type": "code",
   "execution_count": 2,
   "metadata": {},
   "outputs": [
    {
     "name": "stderr",
     "output_type": "stream",
     "text": [
      "No handles with labels found to put in legend.\n"
     ]
    },
    {
     "name": "stdout",
     "output_type": "stream",
     "text": [
      "------  left_pts[0]--------------    Shape(54, 1, 2) left_pts: float32\n",
      "[[244.40834   94.123985] ]\n",
      "[[274.40363  92.2132 ] ]\n",
      "[[305.502    90.32179] ]\n",
      "[[338.30807  88.80915] ]\n",
      "[[371.71494  87.87463] ]\n",
      "[[406.45355  86.72023] ]\n",
      "[[441.62607  86.25035] ]\n",
      "------  right_pts[0]-------------    Shape(54, 1, 2) right_pts: float32\n",
      "[[127.766815 110.40713 ] ]\n",
      "[[153.83272 107.83741] ]\n",
      "[[181.37804 105.09254] ]\n",
      "[[210.96263  102.410416] ]\n",
      "[[241.4856  100.09745] ]\n",
      "[[274.36615  98.01102] ]\n",
      "[[308.52225  96.07202] ]\n"
     ]
    },
    {
     "data": {
      "image/png": "[encoded data removed]",
      "text/plain": [
       "<Figure size 1152x576 with 1 Axes>"
      ]
     },
     "metadata": {
      "needs_background": "light"
     },
     "output_type": "display_data"
    }
   ],
   "source": [
    "data = np.load('data/stereo/case1/stereo.npy', allow_pickle = True).item()\n",
    "E = data['E']\n",
    "\n",
    "\n",
    "Kl, Kr, Dl, Dr = data['Kl'], data['Kr'], data['Dl'], data['Dr']\n",
    "left_pts, right_pts = data['left_pts'], data['right_pts']\n",
    "E_from_stereo, F_from_stereo = data['E'], data['F']\n",
    "\n",
    "\n",
    "\n",
    "##############################################################\n",
    "print_image('left_pts[0]', 'left_pts',left_pts[0],0,7,0,7)\n",
    "print_image('right_pts[0]','right_pts',right_pts[0],0,7,0,7)\n",
    "\n",
    "plt.figure(figsize=(16,8))\n",
    "plt_view_grid(plt, 'on',(0,600,0,480),(100,10,100,10),major_color='b')\n",
    "plt.gca().invert_yaxis()\n",
    "\n",
    "plt.scatter(left_pts[0][:,:,0], left_pts[0][:,:,1],color='blue')\n",
    "plt.scatter(right_pts[0][:,:,0], right_pts[0][:,:,1],color='red')\n",
    "#plt.xlabel('image_orig.shape[1]=={}'.format(image_orig.shape[1]));\n",
    "#plt.ylabel('image_orig.shape[0]=={}'.format(image_orig.shape[0]))\n",
    "plt.title(\"cv2.findChessboardCorners(image_orig, pattern_size)\");\n",
    "plt.legend(loc='upper left')\n",
    "plt.show()"
   ]
  },
  {
   "cell_type": "code",
   "execution_count": 3,
   "metadata": {},
   "outputs": [],
   "source": [
    "R1, R2, T = cv2.decomposeEssentialMat(E)"
   ]
  },
  {
   "cell_type": "code",
   "execution_count": 4,
   "metadata": {},
   "outputs": [
    {
     "name": "stdout",
     "output_type": "stream",
     "text": [
      "Rotation 1:\n",
      "[[ 0.99981105 -0.01867927  0.00538031]\n",
      " [-0.01870903 -0.99980965  0.00553437]\n",
      " [ 0.00527591 -0.00563399 -0.99997021]]\n",
      "Rotation 2:\n",
      "[[ 0.99998995  0.00355598  0.00273003]\n",
      " [-0.00354058  0.99997791 -0.00562461]\n",
      " [-0.00274997  0.00561489  0.99998046]]\n",
      "Translation:\n",
      "[[ 0.99993732]\n",
      " [-0.01112522]\n",
      " [ 0.00126302]]\n"
     ]
    }
   ],
   "source": [
    "print('Rotation 1:')\n",
    "print(R1)\n",
    "print('Rotation 2:')\n",
    "print(R2)\n",
    "print('Translation:')\n",
    "print(T)"
   ]
  },
  {
   "cell_type": "code",
   "execution_count": null,
   "metadata": {},
   "outputs": [],
   "source": []
  }
 ],
 "metadata": {
  "kernelspec": {
   "display_name": "env",
   "language": "python",
   "name": "env"
  },
  "language_info": {
   "codemirror_mode": {
    "name": "ipython",
    "version": 3
   },
   "file_extension": ".py",
   "mimetype": "text/x-python",
   "name": "python",
   "nbconvert_exporter": "python",
   "pygments_lexer": "ipython3",
   "version": "3.8.1"
  }
 },
 "nbformat": 4,
 "nbformat_minor": 2
}
