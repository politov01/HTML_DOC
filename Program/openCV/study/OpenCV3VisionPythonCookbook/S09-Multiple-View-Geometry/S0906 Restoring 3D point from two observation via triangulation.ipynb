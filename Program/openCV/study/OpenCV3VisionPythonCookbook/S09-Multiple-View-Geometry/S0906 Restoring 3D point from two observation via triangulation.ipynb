{
 "cells": [
  {
   "cell_type": "markdown",
   "metadata": {},
   "source": [
    "# Restoring a 3D point from two observations through triangulation\n",
    "\n",
    "In this recipe, you will learn how to reconstruct 3D point coordinates given observations in two views. This is a building block for many higher level 3D reconstruction algorithms and SLAM systems.\n",
    "\n",
    "We generate random points in the 3D space and project them into two test views. Then, we add noise to those observations and reconstruct points back in 3D using the OpenCV function `cv2.triangulatePoints`. As input, the function takes observations from two cameras and camera projection matrices (projective mapping from the world coordinate frame to a view coordinate frame) for each view. It returns the reconstructed points in the world coordinate frame."
   ]
  },
  {
   "cell_type": "code",
   "execution_count": 1,
   "metadata": {},
   "outputs": [
    {
     "name": "stdout",
     "output_type": "stream",
     "text": [
      "Using matplotlib backend: TkAgg\n",
      "Populating the interactive namespace from numpy and matplotlib\n",
      "D:\\HTML_DOC\\Program\\opencv\\Packt\\S09\\env\n",
      "C:\\Program Files\\Python38\\python38.zip\n",
      "C:\\Program Files\\Python38\\DLLs\n",
      "C:\\Program Files\\Python38\\lib\n",
      "C:\\Program Files\\Python38\n",
      "d:\\html_doc\\program\\opencv\\packt\\s09\\env\n",
      "\n",
      "d:\\html_doc\\program\\opencv\\packt\\s09\\env\\lib\\site-packages\n",
      "d:\\html_doc\\program\\opencv\\packt\\s09\\env\\lib\\site-packages\\pip-20.1-py3.8.egg\n",
      "d:\\html_doc\\program\\opencv\\packt\\s09\\env\\lib\\site-packages\\win32\n",
      "d:\\html_doc\\program\\opencv\\packt\\s09\\env\\lib\\site-packages\\win32\\lib\n",
      "d:\\html_doc\\program\\opencv\\packt\\s09\\env\\lib\\site-packages\\Pythonwin\n",
      "d:\\html_doc\\program\\opencv\\packt\\s09\\env\\lib\\site-packages\\IPython\\extensions\n",
      "C:\\Users\\polit\\.ipython\n",
      "current folder == D:\\HTML_DOC\\Program\\opencv\\Packt\\S09\\env\n"
     ]
    }
   ],
   "source": [
    "import cv2\n",
    "import matplotlib.pyplot as plt\n",
    "import numpy as np\n",
    "import imutils\n",
    "import os\n",
    "\n",
    "%matplotlib auto\n",
    "%pylab inline\n",
    "\n",
    "def print_image(header,name,np_arr,\n",
    "                start_First=0,end_First=1,start_Second=0,end_Second=2,start_3=0,end_3=5):\n",
    "    print(\"------  {0:-<25}    Shape{1} {2}: {3:}\".format(header, np_arr.shape, name, str(np_arr.dtype)) )\n",
    "    shapes = np_arr.shape #print(shapes)\n",
    "    if shapes[0] < end_First:\n",
    "        end_First = shapes[0]\n",
    "    if shapes[1] < end_Second:\n",
    "        end_Second = shapes[1]\n",
    "    if len(shapes)==3:\n",
    "        if shapes[2] < end_3:\n",
    "            end_3 = shapes[2]\n",
    "    if len(shapes)==3:\n",
    "        for i in range (start_First,end_First):\n",
    "            print(\"[\", sep='',end=\"\")\n",
    "            for j in range (start_Second,end_Second):\n",
    "                print(np_arr[i,j,start_3:end_3], sep=' ', end=\" \")\n",
    "            print(']')\n",
    "    if len(shapes)==2:\n",
    "        for i in range (start_First,end_First):\n",
    "            print(\"[\", end=\" \")\n",
    "            #print(np_arr[i,start_Second:end_Second],sep=' ',end=\" \") cutoff sting by<60\n",
    "            for k in range (start_Second,end_Second):\n",
    "                print(np_arr[i,k], end=\" \")\n",
    "            print(']')\n",
    "\n",
    "def draw_grid(img, pxystep=None,major_color=None, pxstep=None,pystep=None):\n",
    "    #print(\"{0} XY{1} color{2} X{3} Y{4}\".format(img.shape, pxystep,major_color,pxstep,pystep))\n",
    "    pXYstep = None; pXstep=None; pYstep=None; \n",
    "    major_Color=None; minor_Color=None; major_Alpha=None; minor_Alpha=None;\n",
    "    if pxystep != None:\n",
    "        pXYstep = pXstep = pYstep = pxystep;\n",
    "    else:\n",
    "        pXstep = pxstep if pxstep != None else 100\n",
    "        pYstep = pystep if pystep != None else 100\n",
    "    major_Color = major_color if major_color != None else (204, 204, 204) #'#CCCCCC'\n",
    "    if pXstep != None:\n",
    "        x = pXstep\n",
    "        #Draw all lines on X\n",
    "        while x < img.shape[1]:\n",
    "            cv2.line(img, (x, 0), (x, img.shape[0]), color=major_Color, thickness=1)\n",
    "            x += pXstep\n",
    "    if pYstep != None:\n",
    "        y = pYstep\n",
    "        #Draw all lines on Y\n",
    "        while y < img.shape[0]:\n",
    "            cv2.line(img, (0, y), (img.shape[1], y), color=major_Color,thickness=1)\n",
    "            y += pYstep\n",
    "    return img\n",
    "\n",
    "def plt_view_image(plt,list_images,figsize=(15,6), axis=\"off\", cmap='gray'):\n",
    "    plt.figure(figsize=figsize)\n",
    "    n = len(list_images)  #; print(n)\n",
    "    plot_number = 1\n",
    "    for name, img in list_images:\n",
    "        plt.subplot(1,n,plot_number)\n",
    "        plt.axis(axis); plt.title(name)\n",
    "        if cmap =='gray': plt.imshow(img,cmap='gray' )\n",
    "        else: plt.imshow(img)\n",
    "        plot_number = plot_number + 1\n",
    "    plt.show()\n",
    "\n",
    "def plt_view_grid(plt, axis ='off',\n",
    "                  xy_sizeaxis =None,\n",
    "                  xy_measuare =None,\n",
    "                  x_min=-10, x_max=10, y_min=-10, y_max=10,\n",
    "                  x_major_size=1, x_minor_size=0.2, y_major_size=1, y_minor_size=0.2,\n",
    "                  major_color='#CCCCCC', major_alpha=0.5,\n",
    "                  minor_color='#CCCCCC', minor_alpha=0.2\n",
    "                 ):\n",
    "    if xy_sizeaxis is None:  x_min=-10; x_max=10; y_min=-10; y_max=10;\n",
    "    else: x_min, x_max, y_min, y_max = xy_sizeaxis\n",
    "\n",
    "    if xy_measuare is None:  x_major_size=1; x_minor_size=0.2; y_major_size=1; y_minor_size=0.2;\n",
    "    else: x_major_size, x_minor_size, y_major_size, y_minor_size = xy_measuare\n",
    "        \n",
    "    plt.xlim(x_min, x_max); plt.ylim(y_min, y_max);\n",
    "    ax = plt.gca()\n",
    "    x_major_ticks=np.arange(x_min,x_max,x_major_size); x_minor_ticks=np.arange(x_min,x_max,x_minor_size)\n",
    "    y_major_ticks=np.arange(y_min,y_max,y_major_size); y_minor_ticks=np.arange(y_min,y_max,y_minor_size)\n",
    "    ax.set_xticks(x_major_ticks)\n",
    "    ax.xaxis.set_major_locator(MultipleLocator(x_major_size))\n",
    "    ax.set_xticks(x_minor_ticks, minor=True)\n",
    "    ax.set_yticks(y_major_ticks)\n",
    "    ax.yaxis.set_major_locator(MultipleLocator(y_major_size))\n",
    "    ax.set_yticks(y_minor_ticks, minor=True)\n",
    "    plt.grid(which='major', color=major_color, alpha=major_alpha)\n",
    "    plt.grid(which='minor', color=minor_color, alpha=minor_alpha)\n",
    "    #plt.gca().invert_yaxis() plt.gca().invert_xaxis()\n",
    "    \n",
    "#help(\"modules\")   \n",
    "import sys             \n",
    "print('\\n'.join(sys.path))\n",
    "print(\"current folder ==\",os.getcwd())\n",
    "#pip list"
   ]
  },
  {
   "cell_type": "code",
   "execution_count": 2,
   "metadata": {},
   "outputs": [
    {
     "name": "stdout",
     "output_type": "stream",
     "text": [
      "------  P1-----------------------    Shape(3, 4) P1: float32\n",
      "[ 1.0 0.0 0.0 0.0 ]\n",
      "[ 0.0 1.0 0.0 0.0 ]\n",
      "[ 0.0 0.0 1.0 0.0 ]\n",
      "------  P2-----------------------    Shape(3, 4) P2: float32\n",
      "[ 1.0 0.0 0.0 -1.0 ]\n",
      "[ 0.0 1.0 0.0 0.0 ]\n",
      "[ 0.0 0.0 1.0 0.0 ]\n"
     ]
    }
   ],
   "source": [
    "P1 = np.eye(3, 4, dtype=np.float32)\n",
    "P2 = np.eye(3, 4, dtype=np.float32)\n",
    "P2[0, 3] = -1\n",
    "\n",
    "\n",
    "#############################################################\n",
    "print_image('P1','P1',P1,0,7,0,7)\n",
    "print_image('P2','P2',P2,0,7,0,7)"
   ]
  },
  {
   "cell_type": "code",
   "execution_count": 3,
   "metadata": {},
   "outputs": [
    {
     "name": "stdout",
     "output_type": "stream",
     "text": [
      "------  points3d-----------------    Shape(4, 5) points3d: float32\n",
      "[ 0.49671414 -0.1382643 0.64768857 1.5230298 -0.23415338 ]\n",
      "[ -0.23413695 1.5792128 0.7674347 -0.46947438 0.54256004 ]\n",
      "[ -0.46341768 -0.46572974 0.24196227 -1.9132802 -1.7249179 ]\n",
      "[ 1.0 1.0 1.0 1.0 1.0 ]\n"
     ]
    }
   ],
   "source": [
    "np.random.seed(42)\n",
    "\n",
    "N = 5\n",
    "points3d = np.empty((4, N), np.float32)\n",
    "points3d[:3, :] = np.random.randn(3, N)\n",
    "points3d[3, :] = 1\n",
    "\n",
    "\n",
    "\n",
    "#############################################################\n",
    "print_image('points3d','points3d',points3d,0,7,0,7)"
   ]
  },
  {
   "cell_type": "code",
   "execution_count": 4,
   "metadata": {},
   "outputs": [
    {
     "name": "stdout",
     "output_type": "stream",
     "text": [
      "------  P1-----------------------    Shape(3, 4) P1: float32\n",
      "[ 1.0 0.0 0.0 0.0 ]\n",
      "[ 0.0 1.0 0.0 0.0 ]\n",
      "[ 0.0 0.0 1.0 0.0 ]\n",
      "------  points3d-----------------    Shape(4, 5) points3d: float32\n",
      "[ 0.49671414 -0.1382643 0.64768857 1.5230298 -0.23415338 ]\n",
      "[ -0.23413695 1.5792128 0.7674347 -0.46947438 0.54256004 ]\n",
      "[ -0.46341768 -0.46572974 0.24196227 -1.9132802 -1.7249179 ]\n",
      "[ 1.0 1.0 1.0 1.0 1.0 ]\n",
      "------  points1------------------    Shape(2, 5) points1: float32\n",
      "[ -1.0668827 0.29549402 2.6832933 -0.7808004 0.13340601 ]\n",
      "[ 0.5028982 -3.375043 3.1793869 0.24068195 -0.30911693 ]\n"
     ]
    }
   ],
   "source": [
    "np.random.seed(42)\n",
    "\n",
    "points1 = P1 @ points3d\n",
    "points1 = points1[:2, :] / points1[2, :]\n",
    "points1[:2, :] += np.random.randn(2, N) * 1e-2\n",
    "\n",
    "\n",
    "\n",
    "#############################################################\n",
    "print_image('P1','P1',P1,0,7,0,7)\n",
    "print_image('points3d','points3d',points3d,0,7,0,7)\n",
    "print_image('points1','points1',points1,0,7,0,7)"
   ]
  },
  {
   "cell_type": "code",
   "execution_count": 5,
   "metadata": {},
   "outputs": [
    {
     "name": "stdout",
     "output_type": "stream",
     "text": [
      "------  P2-----------------------    Shape(3, 4) P2: float32\n",
      "[ 1.0 0.0 0.0 -1.0 ]\n",
      "[ 0.0 1.0 0.0 0.0 ]\n",
      "[ 0.0 0.0 1.0 0.0 ]\n",
      "------  points3d-----------------    Shape(4, 5) points3d: float32\n",
      "[ 0.49671414 -0.1382643 0.64768857 1.5230298 -0.23415338 ]\n",
      "[ -0.23413695 1.5792128 0.7674347 -0.46947438 0.54256004 ]\n",
      "[ -0.46341768 -0.46572974 0.24196227 -1.9132802 -1.7249179 ]\n",
      "[ 1.0 1.0 1.0 1.0 1.0 ]\n",
      "------  points2------------------    Shape(2, 5) points2: float32\n",
      "[ 1.0813967 2.4393873 -1.4536397 -0.2925009 0.6982361 ]\n",
      "[ 0.49961674 -3.4009633 3.1748548 0.23629645 -0.32866555 ]\n"
     ]
    }
   ],
   "source": [
    "points2 = P2 @ points3d\n",
    "points2 = points2[:2, :] / points2[2, :]\n",
    "points2[:2, :] += np.random.randn(2, N) * 1e-2\n",
    "\n",
    "\n",
    "\n",
    "#############################################################\n",
    "print_image('P2','P2',P2,0,7,0,7)\n",
    "print_image('points3d','points3d',points3d,0,7,0,7)\n",
    "print_image('points2','points2',points2,0,7,0,7)"
   ]
  },
  {
   "cell_type": "code",
   "execution_count": 6,
   "metadata": {},
   "outputs": [
    {
     "name": "stdout",
     "output_type": "stream",
     "text": [
      "------  P1-----------------------    Shape(3, 4) P1: float32\n",
      "[ 1.0 0.0 0.0 0.0 ]\n",
      "[ 0.0 1.0 0.0 0.0 ]\n",
      "[ 0.0 0.0 1.0 0.0 ]\n",
      "------  P2-----------------------    Shape(3, 4) P2: float32\n",
      "[ 1.0 0.0 0.0 -1.0 ]\n",
      "[ 0.0 1.0 0.0 0.0 ]\n",
      "[ 0.0 0.0 1.0 0.0 ]\n",
      "------  points1------------------    Shape(2, 5) points1: float32\n",
      "[ -1.0668827 0.29549402 2.6832933 -0.7808004 0.13340601 ]\n",
      "[ 0.5028982 -3.375043 3.1793869 0.24068195 -0.30911693 ]\n",
      "------  points2------------------    Shape(2, 5) points2: float32\n",
      "[ 1.0813967 2.4393873 -1.4536397 -0.2925009 0.6982361 ]\n",
      "[ 0.49961674 -3.4009633 3.1748548 0.23629645 -0.32866555 ]\n"
     ]
    }
   ],
   "source": [
    "points3d_reconstr = cv2.triangulatePoints(P1, P2, points1, points2)\n",
    "points3d_reconstr /= points3d_reconstr[3, :]\n",
    "\n",
    "\n",
    "\n",
    "#############################################################\n",
    "print_image('P1','P1',P1,0,7,0,7)\n",
    "print_image('P2','P2',P2,0,7,0,7)\n",
    "print_image('points1','points1',points1,0,7,0,7)\n",
    "print_image('points2','points2',points2,0,7,0,7)"
   ]
  },
  {
   "cell_type": "code",
   "execution_count": 7,
   "metadata": {},
   "outputs": [
    {
     "name": "stdout",
     "output_type": "stream",
     "text": [
      "Original points\n",
      "[[ 0.49671414 -0.23413695 -0.46341768]\n",
      " [-0.1382643   1.5792128  -0.46572974]\n",
      " [ 0.64768857  0.7674347   0.24196227]\n",
      " [ 1.5230298  -0.46947438 -1.9132802 ]\n",
      " [-0.23415338  0.54256004 -1.7249179 ]]\n",
      "Reconstructed points\n",
      "[[ 0.49662217 -0.23332939 -0.4654879 ]\n",
      " [-0.13780867  1.580262   -0.46642414]\n",
      " [ 0.64861894  0.7679889   0.24172477]\n",
      " [ 1.5990037  -0.48839998 -2.0478864 ]\n",
      " [-0.23603106  0.5644843  -1.7700291 ]]\n"
     ]
    }
   ],
   "source": [
    "print('Original points')\n",
    "print(points3d[:3].T)\n",
    "print('Reconstructed points')\n",
    "print(points3d_reconstr[:3].T)"
   ]
  },
  {
   "cell_type": "code",
   "execution_count": null,
   "metadata": {},
   "outputs": [],
   "source": []
  },
  {
   "cell_type": "code",
   "execution_count": null,
   "metadata": {},
   "outputs": [],
   "source": []
  }
 ],
 "metadata": {
  "kernelspec": {
   "display_name": "env",
   "language": "python",
   "name": "env"
  },
  "language_info": {
   "codemirror_mode": {
    "name": "ipython",
    "version": 3
   },
   "file_extension": ".py",
   "mimetype": "text/x-python",
   "name": "python",
   "nbconvert_exporter": "python",
   "pygments_lexer": "ipython3",
   "version": "3.8.1"
  }
 },
 "nbformat": 4,
 "nbformat_minor": 2
}
