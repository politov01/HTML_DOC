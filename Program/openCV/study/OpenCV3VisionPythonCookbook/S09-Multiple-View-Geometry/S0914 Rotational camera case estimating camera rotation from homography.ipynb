{
 "cells": [
  {
   "cell_type": "markdown",
   "metadata": {},
   "source": [
    "# Rotational camera case estimating camera rotation from homography\n",
    "\n",
    "In this recipe, you will learn how to extract rotation from a homography transformation between two views captured by a camera undergoing only rotation motion with respect to its optical center. This is useful if, for example, you need to estimate  the rotation between two views, assuming that the translation is negligible compared to distances to scene points. That's often the case in landscape photo stitching.\n",
    "\n",
    "In case the camera undergoes rotation only around its optical center, the homography transformation has a really simple form—it's basically a rotation matrix, but is multiplied by camera matrix parameters since homography works in image pixel space. As a first step, we factor out camera parameters from the homography matrix. After that, it must be a rotation matrix (up to scale). Since there might be noise in the homography parameters, the resulting matrix might not be a proper rotation matrix, for example, an orthogonal matrix with a determinant equal to one. That's why we construct the closest (in the Frobenius norm) rotation matrix using a singular value decomposition."
   ]
  },
  {
   "cell_type": "code",
   "execution_count": 1,
   "metadata": {},
   "outputs": [
    {
     "name": "stdout",
     "output_type": "stream",
     "text": [
      "Using matplotlib backend: TkAgg\n",
      "Populating the interactive namespace from numpy and matplotlib\n",
      "D:\\HTML_DOC\\Program\\opencv\\Packt\\S09\\env\n",
      "C:\\Program Files\\Python38\\python38.zip\n",
      "C:\\Program Files\\Python38\\DLLs\n",
      "C:\\Program Files\\Python38\\lib\n",
      "C:\\Program Files\\Python38\n",
      "d:\\html_doc\\program\\opencv\\packt\\s09\\env\n",
      "\n",
      "d:\\html_doc\\program\\opencv\\packt\\s09\\env\\lib\\site-packages\n",
      "d:\\html_doc\\program\\opencv\\packt\\s09\\env\\lib\\site-packages\\pip-20.1-py3.8.egg\n",
      "d:\\html_doc\\program\\opencv\\packt\\s09\\env\\lib\\site-packages\\win32\n",
      "d:\\html_doc\\program\\opencv\\packt\\s09\\env\\lib\\site-packages\\win32\\lib\n",
      "d:\\html_doc\\program\\opencv\\packt\\s09\\env\\lib\\site-packages\\Pythonwin\n",
      "d:\\html_doc\\program\\opencv\\packt\\s09\\env\\lib\\site-packages\\IPython\\extensions\n",
      "C:\\Users\\polit\\.ipython\n",
      "current folder == D:\\HTML_DOC\\Program\\opencv\\Packt\\S09\\env\n"
     ]
    }
   ],
   "source": [
    "import cv2\n",
    "import matplotlib.pyplot as plt\n",
    "import numpy as np\n",
    "import imutils\n",
    "import os\n",
    "\n",
    "%matplotlib auto\n",
    "%pylab inline\n",
    "\n",
    "def print_image(header,name,np_arr,\n",
    "                start_First=0,end_First=1,start_Second=0,end_Second=2,start_3=0,end_3=5):\n",
    "    print(\"------  {0:-<25}    Shape{1} {2}: {3:}\".format(header, np_arr.shape, name, str(np_arr.dtype)) )\n",
    "    shapes = np_arr.shape #print(shapes)\n",
    "    if shapes[0] < end_First:\n",
    "        end_First = shapes[0]\n",
    "    if shapes[1] < end_Second:\n",
    "        end_Second = shapes[1]\n",
    "    if len(shapes)==3:\n",
    "        if shapes[2] < end_3:\n",
    "            end_3 = shapes[2]\n",
    "    if len(shapes)==3:\n",
    "        for i in range (start_First,end_First):\n",
    "            print(\"[\", sep='',end=\"\")\n",
    "            for j in range (start_Second,end_Second):\n",
    "                print(np_arr[i,j,start_3:end_3], sep=' ', end=\" \")\n",
    "            print(']')\n",
    "    if len(shapes)==2:\n",
    "        for i in range (start_First,end_First):\n",
    "            print(\"[\", end=\" \")\n",
    "            #print(np_arr[i,start_Second:end_Second],sep=' ',end=\" \") cutoff sting by<60\n",
    "            for k in range (start_Second,end_Second):\n",
    "                print(np_arr[i,k], end=\" \")\n",
    "            print(']')\n",
    "\n",
    "def draw_grid(img, pxystep=None,major_color=None, pxstep=None,pystep=None):\n",
    "    #print(\"{0} XY{1} color{2} X{3} Y{4}\".format(img.shape, pxystep,major_color,pxstep,pystep))\n",
    "    pXYstep = None; pXstep=None; pYstep=None; \n",
    "    major_Color=None; minor_Color=None; major_Alpha=None; minor_Alpha=None;\n",
    "    if pxystep != None:\n",
    "        pXYstep = pXstep = pYstep = pxystep;\n",
    "    else:\n",
    "        pXstep = pxstep if pxstep != None else 100\n",
    "        pYstep = pystep if pystep != None else 100\n",
    "    major_Color = major_color if major_color != None else (204, 204, 204) #'#CCCCCC'\n",
    "    if pXstep != None:\n",
    "        x = pXstep\n",
    "        #Draw all lines on X\n",
    "        while x < img.shape[1]:\n",
    "            cv2.line(img, (x, 0), (x, img.shape[0]), color=major_Color, thickness=1)\n",
    "            x += pXstep\n",
    "    if pYstep != None:\n",
    "        y = pYstep\n",
    "        #Draw all lines on Y\n",
    "        while y < img.shape[0]:\n",
    "            cv2.line(img, (0, y), (img.shape[1], y), color=major_Color,thickness=1)\n",
    "            y += pYstep\n",
    "    return img\n",
    "\n",
    "def plt_view_image(plt,list_images,figsize=(15,6), axis=\"off\", cmap='gray'):\n",
    "    plt.figure(figsize=figsize)\n",
    "    n = len(list_images)  #; print(n)\n",
    "    plot_number = 1\n",
    "    for name, img in list_images:\n",
    "        plt.subplot(1,n,plot_number)\n",
    "        plt.axis(axis); plt.title(name)\n",
    "        if cmap =='gray': plt.imshow(img,cmap='gray' )\n",
    "        else: plt.imshow(img)\n",
    "        plot_number = plot_number + 1\n",
    "    plt.show()\n",
    "\n",
    "def plt_view_grid(plt, axis ='off',\n",
    "                  xy_sizeaxis =None,\n",
    "                  xy_measuare =None,\n",
    "                  x_min=-10, x_max=10, y_min=-10, y_max=10,\n",
    "                  x_major_size=1, x_minor_size=0.2, y_major_size=1, y_minor_size=0.2,\n",
    "                  major_color='#CCCCCC', major_alpha=0.5,\n",
    "                  minor_color='#CCCCCC', minor_alpha=0.2\n",
    "                 ):\n",
    "    if xy_sizeaxis is None:  x_min=-10; x_max=10; y_min=-10; y_max=10;\n",
    "    else: x_min, x_max, y_min, y_max = xy_sizeaxis\n",
    "\n",
    "    if xy_measuare is None:  x_major_size=1; x_minor_size=0.2; y_major_size=1; y_minor_size=0.2;\n",
    "    else: x_major_size, x_minor_size, y_major_size, y_minor_size = xy_measuare\n",
    "        \n",
    "    plt.xlim(x_min, x_max); plt.ylim(y_min, y_max);\n",
    "    ax = plt.gca()\n",
    "    x_major_ticks=np.arange(x_min,x_max,x_major_size); x_minor_ticks=np.arange(x_min,x_max,x_minor_size)\n",
    "    y_major_ticks=np.arange(y_min,y_max,y_major_size); y_minor_ticks=np.arange(y_min,y_max,y_minor_size)\n",
    "    ax.set_xticks(x_major_ticks)\n",
    "    ax.xaxis.set_major_locator(MultipleLocator(x_major_size))\n",
    "    ax.set_xticks(x_minor_ticks, minor=True)\n",
    "    ax.set_yticks(y_major_ticks)\n",
    "    ax.yaxis.set_major_locator(MultipleLocator(y_major_size))\n",
    "    ax.set_yticks(y_minor_ticks, minor=True)\n",
    "    plt.grid(which='major', color=major_color, alpha=major_alpha)\n",
    "    plt.grid(which='minor', color=minor_color, alpha=minor_alpha)\n",
    "    #plt.gca().invert_yaxis() plt.gca().invert_xaxis()\n",
    "    \n",
    "#help(\"modules\")   \n",
    "import sys             \n",
    "print('\\n'.join(sys.path))\n",
    "print(\"current folder ==\",os.getcwd())\n",
    "#pip list"
   ]
  },
  {
   "cell_type": "code",
   "execution_count": 2,
   "metadata": {},
   "outputs": [
    {
     "name": "stdout",
     "output_type": "stream",
     "text": [
      "[[560.   0. 320.]\n",
      " [  0. 560. 240.]\n",
      " [  0.   0.   1.]]\n"
     ]
    }
   ],
   "source": [
    "K = np.array([[560,0,320],[0,560,240],[0,0,1]],dtype=np.float32)\n",
    "print(K)"
   ]
  },
  {
   "cell_type": "code",
   "execution_count": 3,
   "metadata": {},
   "outputs": [
    {
     "name": "stdout",
     "output_type": "stream",
     "text": [
      "[0.1 0.2 0.3]\n"
     ]
    }
   ],
   "source": [
    "rvec = np.array([0.1, 0.2, 0.3], np.float32)\n",
    "print(rvec)"
   ]
  },
  {
   "cell_type": "code",
   "execution_count": 4,
   "metadata": {},
   "outputs": [
    {
     "name": "stdout",
     "output_type": "stream",
     "text": [
      "[[ 0.9357548  -0.28316498  0.21019171]\n",
      " [ 0.30293274  0.9505806  -0.06803132]\n",
      " [-0.18054008  0.12733458  0.9752903 ]]\n"
     ]
    }
   ],
   "source": [
    "R, _ = cv2.Rodrigues(rvec)\n",
    "print(R)"
   ]
  },
  {
   "cell_type": "code",
   "execution_count": 5,
   "metadata": {},
   "outputs": [
    {
     "name": "stdout",
     "output_type": "stream",
     "text": [
      "[[ 8.3258909e-01 -2.1040237e-01  2.1386830e+02]\n",
      " [ 2.2555842e-01  1.0051526e+00 -1.1744318e+02]\n",
      " [-3.2239300e-04  2.2738318e-04  1.0238841e+00]]\n"
     ]
    }
   ],
   "source": [
    "H = K @ R @ np.linalg.inv(K)\n",
    "print(H)"
   ]
  },
  {
   "cell_type": "code",
   "execution_count": 6,
   "metadata": {},
   "outputs": [
    {
     "name": "stdout",
     "output_type": "stream",
     "text": [
      "[[ 8.1316733e-01 -2.0549433e-01  2.0887941e+02]\n",
      " [ 2.2029683e-01  9.8170549e-01 -1.1470359e+02]\n",
      " [-3.1487257e-04  2.2207903e-04  1.0000000e+00]]\n"
     ]
    }
   ],
   "source": [
    "H /= H[2, 2]\n",
    "print(H)"
   ]
  },
  {
   "cell_type": "code",
   "execution_count": 7,
   "metadata": {},
   "outputs": [
    {
     "name": "stdout",
     "output_type": "stream",
     "text": [
      "[[ 8.1303173e-01 -2.0548607e-01  2.0887955e+02]\n",
      " [ 2.2016945e-01  9.8164731e-01 -1.1470359e+02]\n",
      " [-4.4080516e-04  2.7386568e-04  9.9999982e-01]]\n"
     ]
    }
   ],
   "source": [
    "H += np.random.randn(3,3)*0.0001\n",
    "print(H)"
   ]
  },
  {
   "cell_type": "code",
   "execution_count": 8,
   "metadata": {},
   "outputs": [],
   "source": [
    "np.save('data/rotational_homography.npy', {'H': H, 'K': K})"
   ]
  },
  {
   "cell_type": "code",
   "execution_count": 9,
   "metadata": {
    "scrolled": true
   },
   "outputs": [
    {
     "name": "stdout",
     "output_type": "stream",
     "text": [
      "[[ 8.1303173e-01 -2.0548607e-01  2.0887955e+02]\n",
      " [ 2.2016945e-01  9.8164731e-01 -1.1470359e+02]\n",
      " [-4.4080516e-04  2.7386568e-04  9.9999982e-01]]\n",
      "[[560.   0. 320.]\n",
      " [  0. 560. 240.]\n",
      " [  0.   0.   1.]]\n"
     ]
    }
   ],
   "source": [
    "data = np.load('data/rotational_homography.npy', allow_pickle = True).item()\n",
    "H, K = data['H'], data['K']\n",
    "\n",
    "\n",
    "#######################################\n",
    "print(H)\n",
    "print(K)"
   ]
  },
  {
   "cell_type": "code",
   "execution_count": 10,
   "metadata": {},
   "outputs": [
    {
     "name": "stdout",
     "output_type": "stream",
     "text": [
      "[[ 0.95408934 -0.2931231   0.22114043]\n",
      " [ 0.3259627   0.91591954 -0.05459785]\n",
      " [-0.2468509   0.15336478  0.9246699 ]]\n"
     ]
    }
   ],
   "source": [
    "H_ = np.linalg.inv(K) @ H @ K\n",
    "print(H_)"
   ]
  },
  {
   "cell_type": "code",
   "execution_count": 11,
   "metadata": {},
   "outputs": [
    {
     "name": "stdout",
     "output_type": "stream",
     "text": [
      "[[1.0433289 ]\n",
      " [0.97656494]\n",
      " [0.94366753]] \n",
      " [[ 0.8833266   0.03747171  0.46725798]\n",
      " [ 0.16172671  0.9112331  -0.3788121 ]\n",
      " [-0.4399757   0.41018286  0.7988563 ]] \n",
      " [[ 0.96239805 -0.17086798 -0.21117307]\n",
      " [ 0.23708142  0.90781486  0.34592575]\n",
      " [ 0.13259842 -0.3829835   0.91418886]]\n"
     ]
    }
   ],
   "source": [
    "w, u, vt = cv2.SVDecomp(H_)\n",
    "\n",
    "\n",
    "print(w, \"\\n\", u, \"\\n\", vt)"
   ]
  },
  {
   "cell_type": "code",
   "execution_count": 12,
   "metadata": {},
   "outputs": [
    {
     "name": "stdout",
     "output_type": "stream",
     "text": [
      "[[ 0.9209533  -0.29586694  0.2535897 ]\n",
      " [ 0.32145205  0.94467586 -0.06523912]\n",
      " [-0.22025794  0.14159906  0.9651094 ]]\n"
     ]
    }
   ],
   "source": [
    "R = u @ vt\n",
    "print(R)"
   ]
  },
  {
   "cell_type": "code",
   "execution_count": 13,
   "metadata": {},
   "outputs": [
    {
     "name": "stdout",
     "output_type": "stream",
     "text": [
      "[[ 0.9209533  -0.29586694  0.2535897 ]\n",
      " [ 0.32145205  0.94467586 -0.06523912]\n",
      " [-0.22025794  0.14159906  0.9651094 ]]\n"
     ]
    }
   ],
   "source": [
    "if cv2.determinant(R) < 0:\n",
    "    R *= 1\n",
    "    \n",
    "print(R)"
   ]
  },
  {
   "cell_type": "code",
   "execution_count": 14,
   "metadata": {},
   "outputs": [
    {
     "name": "stdout",
     "output_type": "stream",
     "text": [
      "Rotation vector:\n",
      "[[0.10643905]\n",
      " [0.24384227]\n",
      " [0.31767273]]\n"
     ]
    }
   ],
   "source": [
    "rvec = cv2.Rodrigues(R)[0]\n",
    "\n",
    "\n",
    "print('Rotation vector:')\n",
    "print(rvec)"
   ]
  },
  {
   "cell_type": "code",
   "execution_count": null,
   "metadata": {
    "scrolled": true
   },
   "outputs": [],
   "source": []
  },
  {
   "cell_type": "code",
   "execution_count": null,
   "metadata": {},
   "outputs": [],
   "source": []
  }
 ],
 "metadata": {
  "kernelspec": {
   "display_name": "env",
   "language": "python",
   "name": "env"
  },
  "language_info": {
   "codemirror_mode": {
    "name": "ipython",
    "version": 3
   },
   "file_extension": ".py",
   "mimetype": "text/x-python",
   "name": "python",
   "nbconvert_exporter": "python",
   "pygments_lexer": "ipython3",
   "version": "3.8.1"
  }
 },
 "nbformat": 4,
 "nbformat_minor": 2
}
