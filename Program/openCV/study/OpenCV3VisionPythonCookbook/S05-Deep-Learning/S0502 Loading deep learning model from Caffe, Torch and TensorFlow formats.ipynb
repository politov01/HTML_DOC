{
 "cells": [
  {
   "cell_type": "markdown",
   "metadata": {},
   "source": [
    "# Loading deep learning models from Caffe, Torch, and TensorFlow formats\n",
    "\n",
    "One of the great features of OpenCV's `dnn` module is being able to load trained models from three very popular frameworks: `Caffe`, `Torch`, and `TensorFlow`. Not only does it makes the dnn module very useful, but also it opens up the possibility of combining models from different frameworks into a single pipeline. In this recipe, we will learn how to work with networks from these three frameworks.\n",
    "\n",
    "To load pre-trained models from the frameworks, you need to use the `readNetFromCaffe`, `readNetFromTorch`, or `readNetFromTensorflow` functions for the `Caffe`, `Torch`, and `TensorFlow` networks respectively. All these functions return the cv2.dnn_Net object, which is the parsed version of the graph from the model's file.\n",
    "\n",
    "It's worth mentioning that you may face issues while loading models with complicated architectures or models not having widely spread layers (for example, models with new types of layers, recently added or developed and implemented by you). OpenCV's `dnn` module is still developing and may not include the latest features from Deep Learning frameworks. But despite that fact, the dnn module has a lot of supported layer types to load the models that address complicated tasks, and that's what we'll try in further recipes in this chapter.\n",
    "\n",
    "*Where to find pre-trained deep learning models? There are special webpages where you can find the pre-trained model itself, and also useful information about the process of training. For historical reasons these lists of models are called **Model Zoo**. There is such a list for models created in a Caffe framework: https://github.com/BVLC/caffe/wiki/Model-Zoo; Tensorflow models can be found here: https://github.com/tensorflow/models.*"
   ]
  },
  {
   "cell_type": "code",
   "execution_count": 1,
   "metadata": {},
   "outputs": [],
   "source": [
    "import cv2\n",
    "import numpy as np"
   ]
  },
  {
   "cell_type": "code",
   "execution_count": 2,
   "metadata": {},
   "outputs": [
    {
     "name": "stdout",
     "output_type": "stream",
     "text": [
      "<dnn_Net 0000026B17FD1130>\n"
     ]
    }
   ],
   "source": [
    "net_caffe = cv2.dnn.readNetFromCaffe('../data/bvlc_googlenet.prototxt', \n",
    "                                     '../data/bvlc_googlenet.caffemodel')\n",
    "print(net_caffe)"
   ]
  },
  {
   "cell_type": "code",
   "execution_count": 3,
   "metadata": {},
   "outputs": [
    {
     "name": "stdout",
     "output_type": "stream",
     "text": [
      "<dnn_Net 0000026B2F4B9890>\n"
     ]
    }
   ],
   "source": [
    "net_torch = cv2.dnn.readNetFromTorch('../data/torch_enet_model.net')\n",
    "print(net_torch)"
   ]
  },
  {
   "cell_type": "code",
   "execution_count": 4,
   "metadata": {},
   "outputs": [
    {
     "name": "stdout",
     "output_type": "stream",
     "text": [
      "<dnn_Net 0000026B2F4B9790>\n"
     ]
    }
   ],
   "source": [
    "net_tensorflow = cv2.dnn.readNetFromTensorflow('../data/tensorflow_inception_graph.pb')\n",
    "print(net_tensorflow)"
   ]
  },
  {
   "cell_type": "code",
   "execution_count": null,
   "metadata": {},
   "outputs": [],
   "source": []
  }
 ],
 "metadata": {
  "kernelspec": {
   "display_name": "env",
   "language": "python",
   "name": "env"
  },
  "language_info": {
   "codemirror_mode": {
    "name": "ipython",
    "version": 3
   },
   "file_extension": ".py",
   "mimetype": "text/x-python",
   "name": "python",
   "nbconvert_exporter": "python",
   "pygments_lexer": "ipython3",
   "version": "3.8.1"
  }
 },
 "nbformat": 4,
 "nbformat_minor": 2
}
