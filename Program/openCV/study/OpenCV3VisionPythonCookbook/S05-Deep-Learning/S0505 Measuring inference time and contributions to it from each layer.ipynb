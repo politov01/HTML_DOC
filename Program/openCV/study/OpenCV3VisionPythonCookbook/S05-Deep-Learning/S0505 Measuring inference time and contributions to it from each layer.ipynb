{
 "cells": [
  {
   "cell_type": "markdown",
   "metadata": {},
   "source": [
    "# Measuring inference time and contributions to it from each layer\n",
    "\n",
    "In this recipe, you will learn how to compute the total number of floating point operations in a network performed in forward pass, as well as the amount of memory consumed. This is useful when you want to understand the limitations of your model and reveal where exactly the bottlenecks are so that you can optimize it.\n",
    "\n",
    "You can obtain the model FLOPs count and the amount of memory consumed using the `model.getFLOPs` and `model.getMemoryConsumption` methods. Both methods take as input the specified blob shape. Per-layer inference time statistics are available after the forward pass is performed and can be obtained via the `model.getPerfProfile` method, which returns total inference time and per-layer timings, all in ticks.\n"
   ]
  },
  {
   "cell_type": "code",
   "execution_count": 1,
   "metadata": {},
   "outputs": [
    {
     "name": "stdout",
     "output_type": "stream",
     "text": [
      "Using matplotlib backend: TkAgg\n",
      "Populating the interactive namespace from numpy and matplotlib\n",
      "D:\\HTML_DOC\\Program\\opencv\\Packt\\S05\\env\n",
      "C:\\Program Files\\Python38\\python38.zip\n",
      "C:\\Program Files\\Python38\\DLLs\n",
      "C:\\Program Files\\Python38\\lib\n",
      "C:\\Program Files\\Python38\n",
      "d:\\html_doc\\program\\opencv\\packt\\s05\\env\n",
      "\n",
      "d:\\html_doc\\program\\opencv\\packt\\s05\\env\\lib\\site-packages\n",
      "d:\\html_doc\\program\\opencv\\packt\\s05\\env\\lib\\site-packages\\pip-20.0.2-py3.8.egg\n",
      "d:\\html_doc\\program\\opencv\\packt\\s05\\env\\lib\\site-packages\\win32\n",
      "d:\\html_doc\\program\\opencv\\packt\\s05\\env\\lib\\site-packages\\win32\\lib\n",
      "d:\\html_doc\\program\\opencv\\packt\\s05\\env\\lib\\site-packages\\Pythonwin\n",
      "d:\\html_doc\\program\\opencv\\packt\\s05\\env\\lib\\site-packages\\IPython\\extensions\n",
      "C:\\Users\\polit\\.ipython\n",
      "current folder == D:\\HTML_DOC\\Program\\opencv\\Packt\\S05\\env\n"
     ]
    }
   ],
   "source": [
    "# Import all of the necessary modules\n",
    "import cv2\n",
    "import matplotlib.pyplot as plt\n",
    "import numpy as np\n",
    "import os\n",
    "\n",
    "%matplotlib auto\n",
    "%pylab inline\n",
    "\n",
    "\n",
    "def print_image(header,name,np_arr,start_First=0, end_First=1, start_Second=0, end_Second=2,start_3=0, end_3=5):\n",
    "    print(\"------  {0:-<25}    Shape{1} {2}: {3:}\".format(header, np_arr.shape, name, str(np_arr.dtype)) )\n",
    "    shapes = np_arr.shape #print(shapes)\n",
    "    if shapes[0] < end_First:\n",
    "        end_First = shapes[0]\n",
    "    if shapes[1] < end_Second:\n",
    "        end_Second = shapes[1]\n",
    "    if len(shapes)==3:\n",
    "        if shapes[2] < end_3:\n",
    "            end_3 = shapes[2]\n",
    "    if len(shapes)==3:\n",
    "        for i in range (start_First,end_First):\n",
    "            print(\"[\", sep='',end=\"\")\n",
    "            for j in range (start_Second,end_Second):\n",
    "                print(np_arr[i,j,start_3:end_3], sep=' ', end=\" \")\n",
    "            print(']')\n",
    "    if len(shapes)==2:\n",
    "        for i in range (start_First,end_First):\n",
    "            print(\"[\", end=\" \")\n",
    "            #print(np_arr[i,start_Second:end_Second],sep=' ',end=\" \") cutoff sting by<60\n",
    "            for k in range (start_Second,end_Second):\n",
    "                print(np_arr[i,k], end=\" \")\n",
    "            print(']')\n",
    "def plt_view_image(plt,list_images,figsize=(15,6), axis=\"off\", cmap='gray'):\n",
    "    #%pylab inline\n",
    "    plt.figure(figsize=figsize)\n",
    "    n = len(list_images)  #; print(n)\n",
    "    plot_number = 1\n",
    "    for name, img in list_images:\n",
    "        plt.subplot(1,n,plot_number)\n",
    "        plt.axis(axis)\n",
    "        plt.title(name)\n",
    "        if cmap =='gray':\n",
    "            plt.imshow(img,cmap='gray' )\n",
    "        else:\n",
    "            plt.imshow(img )\n",
    "        plot_number = plot_number + 1\n",
    "    plt.show()\n",
    "#help(\"modules\")   \n",
    "import sys             \n",
    "print('\\n'.join(sys.path))\n",
    "print(\"current folder ==\",os.getcwd())\n",
    "#pip list\""
   ]
  },
  {
   "cell_type": "code",
   "execution_count": 2,
   "metadata": {},
   "outputs": [],
   "source": [
    "model = cv2.dnn.readNetFromCaffe('../data/bvlc_googlenet.prototxt',\n",
    "                                 '../data/bvlc_googlenet.caffemodel')"
   ]
  },
  {
   "cell_type": "code",
   "execution_count": 3,
   "metadata": {},
   "outputs": [
    {
     "name": "stdout",
     "output_type": "stream",
     "text": [
      "gflops: 3.1904431360000003\n"
     ]
    }
   ],
   "source": [
    "print('gflops:', model.getFLOPS((1,3,224,224))*1e-9)"
   ]
  },
  {
   "cell_type": "code",
   "execution_count": 4,
   "metadata": {},
   "outputs": [
    {
     "name": "stdout",
     "output_type": "stream",
     "text": [
      "weights (mb):27.994208, blobs (mb):40.251072     w=27994208   b=40251072\n"
     ]
    }
   ],
   "source": [
    "w,b = model.getMemoryConsumption((1,3,224,224))\n",
    "print('weights (mb):{0}, blobs (mb):{1}     w={2}   b={3}'.format(w*1e-6,b*1e-6, w,b))"
   ]
  },
  {
   "cell_type": "code",
   "execution_count": 5,
   "metadata": {},
   "outputs": [
    {
     "name": "stdout",
     "output_type": "stream",
     "text": [
      "------  tensor[0]----------------    Shape(3, 224, 224) tensor[0]: float32\n",
      "[[0. 0. 0. 0. 0. 0.] [0. 0. 0. 0. 0. 0.] [0. 0. 0. 0. 0. 0.] [0. 0. 0. 0. 0. 0.] ]\n",
      "[[0. 0. 0. 0. 0. 0.] [0. 0. 0. 0. 0. 0.] [0. 0. 0. 0. 0. 0.] [0. 0. 0. 0. 0. 0.] ]\n",
      "[[0. 0. 0. 0. 0. 0.] [0. 0. 0. 0. 0. 0.] [0. 0. 0. 0. 0. 0.] [0. 0. 0. 0. 0. 0.] ]\n"
     ]
    }
   ],
   "source": [
    "tensor = cv2.dnn.blobFromImage(np.zeros((224,224,3), np.uint8), 1, (224,224))\n",
    "model.setInput(tensor)\n",
    "model.forward();\n",
    "\n",
    "\n",
    "\n",
    "###########################################################\n",
    "print_image('tensor[0]','tensor[0]',tensor[0],0,3,0,4,0,6)"
   ]
  },
  {
   "cell_type": "code",
   "execution_count": 6,
   "metadata": {},
   "outputs": [
    {
     "name": "stdout",
     "output_type": "stream",
     "text": [
      "inference (ms): 30.434900\n"
     ]
    }
   ],
   "source": [
    "total, timings = model.getPerfProfile()\n",
    "tick2ms = 1e3/cv2.getTickFrequency()\n",
    "print('inference (ms): {:2f}'.format(total*tick2ms))"
   ]
  },
  {
   "cell_type": "code",
   "execution_count": 7,
   "metadata": {},
   "outputs": [
    {
     "name": "stdout",
     "output_type": "stream",
     "text": [
      "LAYER                          TIME (ms)\n",
      "conv1/7x7_s2                   2.73\n",
      "conv1/relu_7x7                 0.00\n",
      "pool1/3x3_s2                   0.33\n",
      "pool1/norm1                    0.46\n",
      "conv2/3x3_reduce               0.24\n",
      "conv2/relu_3x3_reduce          0.00\n",
      "conv2/3x3                      2.75\n",
      "conv2/relu_3x3                 0.00\n",
      "conv2/norm2                    2.30\n",
      "pool2/3x3_s2                   0.29\n",
      "inception_3a/1x1               0.20\n",
      "inception_3a/relu_1x1          0.00\n",
      "inception_3a/3x3_reduce        0.19\n",
      "inception_3a/relu_3x3_reduce   0.00\n",
      "inception_3a/3x3               1.05\n",
      "inception_3a/relu_3x3          0.00\n",
      "inception_3a/5x5_reduce        0.11\n",
      "inception_3a/relu_5x5_reduce   0.00\n",
      "inception_3a/5x5               0.28\n",
      "inception_3a/relu_5x5          0.00\n",
      "inception_3a/pool              0.21\n",
      "inception_3a/pool_proj         0.09\n",
      "inception_3a/relu_pool_proj    0.00\n",
      "inception_3a/output            0.00\n",
      "inception_3b/1x1               0.34\n",
      "inception_3b/relu_1x1          0.00\n",
      "inception_3b/3x3_reduce        0.36\n",
      "inception_3b/relu_3x3_reduce   0.00\n",
      "inception_3b/3x3               1.68\n",
      "inception_3b/relu_3x3          0.00\n",
      "inception_3b/5x5_reduce        0.16\n",
      "inception_3b/relu_5x5_reduce   0.00\n",
      "inception_3b/5x5               0.71\n",
      "inception_3b/relu_5x5          0.00\n",
      "inception_3b/pool              0.41\n",
      "inception_3b/pool_proj         0.26\n",
      "inception_3b/relu_pool_proj    0.00\n",
      "inception_3b/output            0.00\n",
      "pool3/3x3_s2                   0.27\n",
      "inception_4a/1x1               0.30\n",
      "inception_4a/relu_1x1          0.00\n",
      "inception_4a/3x3_reduce        0.20\n",
      "inception_4a/relu_3x3_reduce   0.00\n",
      "inception_4a/3x3               0.42\n",
      "inception_4a/relu_3x3          0.00\n",
      "inception_4a/5x5_reduce        0.06\n",
      "inception_4a/relu_5x5_reduce   0.00\n",
      "inception_4a/5x5               0.14\n",
      "inception_4a/relu_5x5          0.00\n",
      "inception_4a/pool              0.37\n",
      "inception_4a/pool_proj         0.11\n",
      "inception_4a/relu_pool_proj    0.00\n",
      "inception_4a/output            0.00\n",
      "inception_4b/1x1               0.30\n",
      "inception_4b/relu_1x1          0.00\n",
      "inception_4b/3x3_reduce        0.20\n",
      "inception_4b/relu_3x3_reduce   0.00\n",
      "inception_4b/3x3               0.59\n",
      "inception_4b/relu_3x3          0.00\n",
      "inception_4b/5x5_reduce        0.09\n",
      "inception_4b/relu_5x5_reduce   0.00\n",
      "inception_4b/5x5               0.50\n",
      "inception_4b/relu_5x5          0.00\n",
      "inception_4b/pool              0.30\n",
      "inception_4b/pool_proj         0.20\n",
      "inception_4b/relu_pool_proj    0.00\n",
      "inception_4b/output            0.00\n",
      "inception_4c/1x1               0.20\n",
      "inception_4c/relu_1x1          0.00\n",
      "inception_4c/3x3_reduce        0.21\n",
      "inception_4c/relu_3x3_reduce   0.00\n",
      "inception_4c/3x3               0.62\n",
      "inception_4c/relu_3x3          0.00\n",
      "inception_4c/5x5_reduce        0.05\n",
      "inception_4c/relu_5x5_reduce   0.00\n",
      "inception_4c/5x5               0.42\n",
      "inception_4c/relu_5x5          0.00\n",
      "inception_4c/pool              0.30\n",
      "inception_4c/pool_proj         0.12\n",
      "inception_4c/relu_pool_proj    0.00\n",
      "inception_4c/output            0.00\n",
      "inception_4d/1x1               0.17\n",
      "inception_4d/relu_1x1          0.00\n",
      "inception_4d/3x3_reduce        0.23\n",
      "inception_4d/relu_3x3_reduce   0.00\n",
      "inception_4d/3x3               0.78\n",
      "inception_4d/relu_3x3          0.00\n",
      "inception_4d/5x5_reduce        0.07\n",
      "inception_4d/relu_5x5_reduce   0.00\n",
      "inception_4d/5x5               0.18\n",
      "inception_4d/relu_5x5          0.00\n",
      "inception_4d/pool              0.30\n",
      "inception_4d/pool_proj         0.11\n",
      "inception_4d/relu_pool_proj    0.00\n",
      "inception_4d/output            0.00\n",
      "inception_4e/1x1               0.53\n",
      "inception_4e/relu_1x1          0.00\n",
      "inception_4e/3x3_reduce        0.27\n",
      "inception_4e/relu_3x3_reduce   0.00\n",
      "inception_4e/3x3               1.05\n",
      "inception_4e/relu_3x3          0.00\n",
      "inception_4e/5x5_reduce        0.17\n",
      "inception_4e/relu_5x5_reduce   0.00\n",
      "inception_4e/5x5               0.38\n",
      "inception_4e/relu_5x5          0.00\n",
      "inception_4e/pool              0.32\n",
      "inception_4e/pool_proj         0.22\n",
      "inception_4e/relu_pool_proj    0.00\n",
      "inception_4e/output            0.00\n",
      "pool4/3x3_s2                   0.20\n",
      "inception_5a/1x1               0.33\n",
      "inception_5a/relu_1x1          0.00\n",
      "inception_5a/3x3_reduce        0.28\n",
      "inception_5a/relu_3x3_reduce   0.00\n",
      "inception_5a/3x3               0.53\n",
      "inception_5a/relu_3x3          0.00\n",
      "inception_5a/5x5_reduce        0.05\n",
      "inception_5a/relu_5x5_reduce   0.00\n",
      "inception_5a/5x5               0.16\n",
      "inception_5a/relu_5x5          0.00\n",
      "inception_5a/pool              0.23\n",
      "inception_5a/pool_proj         0.24\n",
      "inception_5a/relu_pool_proj    0.00\n",
      "inception_5a/output            0.00\n",
      "inception_5b/1x1               0.54\n",
      "inception_5b/relu_1x1          0.00\n",
      "inception_5b/3x3_reduce        0.18\n",
      "inception_5b/relu_3x3_reduce   0.00\n",
      "inception_5b/3x3               0.72\n",
      "inception_5b/relu_3x3          0.00\n",
      "inception_5b/5x5_reduce        0.09\n",
      "inception_5b/relu_5x5_reduce   0.00\n",
      "inception_5b/5x5               0.21\n",
      "inception_5b/relu_5x5          0.00\n",
      "inception_5b/pool              0.25\n",
      "inception_5b/pool_proj         0.24\n",
      "inception_5b/relu_pool_proj    0.00\n",
      "inception_5b/output            0.00\n",
      "pool5/7x7_s1                   0.03\n",
      "pool5/drop_7x7_s1              0.00\n",
      "loss3/classifier               0.23\n",
      "prob                           0.03\n"
     ]
    }
   ],
   "source": [
    "layer_names = model.getLayerNames()\n",
    "print('{: <30} {}'.format('LAYER', 'TIME (ms)'))\n",
    "for (i,t) in enumerate(timings):\n",
    "    print('{: <30} {:.2f}'.format(layer_names[i], t[0]*tick2ms))"
   ]
  },
  {
   "cell_type": "code",
   "execution_count": null,
   "metadata": {},
   "outputs": [],
   "source": []
  }
 ],
 "metadata": {
  "kernelspec": {
   "display_name": "env",
   "language": "python",
   "name": "env"
  },
  "language_info": {
   "codemirror_mode": {
    "name": "ipython",
    "version": 3
   },
   "file_extension": ".py",
   "mimetype": "text/x-python",
   "name": "python",
   "nbconvert_exporter": "python",
   "pygments_lexer": "ipython3",
   "version": "3.8.1"
  }
 },
 "nbformat": 4,
 "nbformat_minor": 2
}
