{
 "cells": [
  {
   "cell_type": "markdown",
   "metadata": {},
   "source": [
    "# Face detection using Single Shot Detection (SSD) and the ResNet model\n",
    "\n",
    "In this recipe, you will learn how to detect faces using a convolution neural network model. The ability to accurately detect faces in different conditions is used in various computer vision applications, such as face enhancement.\n",
    "\n",
    "We use the Single Shot Detection approach with the ResNet-10 model. Pay attention to specifying mean color when feeding the input frame."
   ]
  },
  {
   "cell_type": "code",
   "execution_count": 1,
   "metadata": {},
   "outputs": [
    {
     "name": "stdout",
     "output_type": "stream",
     "text": [
      "Using matplotlib backend: TkAgg\n",
      "Populating the interactive namespace from numpy and matplotlib\n",
      "D:\\HTML_DOC\\Program\\opencv\\Packt\\S05\\env\n",
      "C:\\Program Files\\Python38\\python38.zip\n",
      "C:\\Program Files\\Python38\\DLLs\n",
      "C:\\Program Files\\Python38\\lib\n",
      "C:\\Program Files\\Python38\n",
      "d:\\html_doc\\program\\opencv\\packt\\s05\\env\n",
      "\n",
      "d:\\html_doc\\program\\opencv\\packt\\s05\\env\\lib\\site-packages\n",
      "d:\\html_doc\\program\\opencv\\packt\\s05\\env\\lib\\site-packages\\pip-20.0.2-py3.8.egg\n",
      "d:\\html_doc\\program\\opencv\\packt\\s05\\env\\lib\\site-packages\\win32\n",
      "d:\\html_doc\\program\\opencv\\packt\\s05\\env\\lib\\site-packages\\win32\\lib\n",
      "d:\\html_doc\\program\\opencv\\packt\\s05\\env\\lib\\site-packages\\Pythonwin\n",
      "d:\\html_doc\\program\\opencv\\packt\\s05\\env\\lib\\site-packages\\IPython\\extensions\n",
      "C:\\Users\\polit\\.ipython\n",
      "current folder == D:\\HTML_DOC\\Program\\opencv\\Packt\\S05\\env\n"
     ]
    }
   ],
   "source": [
    "# Import all of the necessary modules\n",
    "import cv2\n",
    "import matplotlib.pyplot as plt\n",
    "import numpy as np\n",
    "import os\n",
    "\n",
    "%matplotlib auto\n",
    "%pylab inline\n",
    "\n",
    "\n",
    "def print_image(header,name,np_arr,start_First=0, end_First=1, start_Second=0, end_Second=2,start_3=0, end_3=5):\n",
    "    print(\"------  {0:-<25}    Shape{1} {2}: {3:}\".format(header, np_arr.shape, name, str(np_arr.dtype)) )\n",
    "    shapes = np_arr.shape #print(shapes)\n",
    "    if shapes[0] < end_First:\n",
    "        end_First = shapes[0]\n",
    "    if shapes[1] < end_Second:\n",
    "        end_Second = shapes[1]\n",
    "    if len(shapes)==3:\n",
    "        if shapes[2] < end_3:\n",
    "            end_3 = shapes[2]\n",
    "    if len(shapes)==3:\n",
    "        for i in range (start_First,end_First):\n",
    "            print(\"[\", sep='',end=\"\")\n",
    "            for j in range (start_Second,end_Second):\n",
    "                print(np_arr[i,j,start_3:end_3], sep=' ', end=\" \")\n",
    "            print(']')\n",
    "    if len(shapes)==2:\n",
    "        for i in range (start_First,end_First):\n",
    "            print(\"[\", end=\" \")\n",
    "            #print(np_arr[i,start_Second:end_Second],sep=' ',end=\" \") cutoff sting by<60\n",
    "            for k in range (start_Second,end_Second):\n",
    "                print(np_arr[i,k], end=\" \")\n",
    "            print(']')\n",
    "def plt_view_image(plt,list_images,figsize=(15,6), axis=\"off\", cmap='gray'):\n",
    "    #%pylab inline\n",
    "    plt.figure(figsize=figsize)\n",
    "    n = len(list_images)  #; print(n)\n",
    "    plot_number = 1\n",
    "    for name, img in list_images:\n",
    "        plt.subplot(1,n,plot_number)\n",
    "        plt.axis(axis)\n",
    "        plt.title(name)\n",
    "        if cmap =='gray':\n",
    "            plt.imshow(img,cmap='gray' )\n",
    "        else:\n",
    "            plt.imshow(img )\n",
    "        plot_number = plot_number + 1\n",
    "    plt.show()\n",
    "#help(\"modules\")   \n",
    "import sys             \n",
    "print('\\n'.join(sys.path))\n",
    "print(\"current folder ==\",os.getcwd())\n",
    "#pip list\""
   ]
  },
  {
   "cell_type": "code",
   "execution_count": 2,
   "metadata": {},
   "outputs": [],
   "source": [
    "model = cv2.dnn.readNetFromCaffe('../data/face_detector/deploy.prototxt', \n",
    "                                 '../data/face_detector/res10_300x300_ssd_iter_140000.caffemodel')\n",
    "CONF_THR = 0.5"
   ]
  },
  {
   "cell_type": "code",
   "execution_count": null,
   "metadata": {},
   "outputs": [
    {
     "name": "stdout",
     "output_type": "stream",
     "text": [
      "True\n",
      "Created capture: ../data/shuttle.mp4\n",
      "Frame count: 721\n",
      "Frame width: 1280\n",
      "Frame height: 720\n",
      "Frame rate: 23.976023976023978\n"
     ]
    }
   ],
   "source": [
    "capture = cv2.VideoCapture('../data/faces.mp4')\n",
    "\n",
    "print(capture.isOpened())\n",
    "print('Created capture:', '../data/shuttle.mp4')\n",
    "print('Frame count:', int(capture.get(cv2.CAP_PROP_FRAME_COUNT)))\n",
    "print('Frame width:', int(capture.get(cv2.CAP_PROP_FRAME_WIDTH)))\n",
    "print('Frame height:', int(capture.get(cv2.CAP_PROP_FRAME_HEIGHT)))\n",
    "print('Frame rate:', capture.get(cv2.CAP_PROP_FPS))\n",
    "# capture.get(CV_CAP_PROP_POS_FRAMES); // retrieves the current frame number\n",
    "\n",
    "image_frames = []\n",
    "\n",
    "c = 0\n",
    "while True:\n",
    "    ret, frame = capture.read()\n",
    "    if not ret: \n",
    "        break\n",
    "    \n",
    "    \n",
    "    h, w = frame.shape[0:2]\n",
    "    blob = cv2.dnn.blobFromImage(frame, 1, (300*w//h,300), (104,177,123), False)\n",
    "    model.setInput(blob)\n",
    "    output = model.forward()\n",
    "    \n",
    "    for i in range(output.shape[2]):\n",
    "        conf = output[0,0,i,2]\n",
    "        if conf > CONF_THR:\n",
    "            label = output[0,0,i,1]\n",
    "            x0,y0,x1,y1 = (output[0,0,i,3:7] * [w,h,w,h]).astype(int)\n",
    "            cv2.rectangle(frame, (x0,y0), (x1,y1), (0,255,0), 2)\n",
    "            cv2.putText(frame, 'conf: {:.2f}'.format(conf), (x0,y0),\n",
    "                        cv2.FONT_HERSHEY_SIMPLEX, 1, (0,255,0), 2)\n",
    "    \n",
    "    c += 1\n",
    "    \n",
    "    if c % 20 == 0 or c ==1:\n",
    "        image_frames.append([\"frame:{0}\".format(c),frame[:,:,[2,1,0]]])\n",
    "        #print(\"current frame ==\",current_frame, output.shape)\n",
    "\n",
    "    if c == 60:\n",
    "        cv2.imwrite('ch5_face_detections.png', frame)\n",
    "    \n",
    "    cv2.imshow('frame', frame)\n",
    "    key = cv2.waitKey(3)\n",
    "    if key == 27: \n",
    "        break\n",
    "        \n",
    "cv2.destroyAllWindows()"
   ]
  },
  {
   "cell_type": "code",
   "execution_count": null,
   "metadata": {},
   "outputs": [],
   "source": [
    "#########################################################\n",
    "print(\"len(res10_300x300_ssd_iter_140000) ==\", len(image_frames))\n",
    "k =2\n",
    "for i in range(0,len(image_frames),k):\n",
    "    print(i,i+k-1)\n",
    "    plt_view_image(plt,image_frames[i:i+k], figsize=(15,8), axis='on', cmap='gray')"
   ]
  },
  {
   "cell_type": "code",
   "execution_count": null,
   "metadata": {},
   "outputs": [],
   "source": []
  }
 ],
 "metadata": {
  "kernelspec": {
   "display_name": "env",
   "language": "python",
   "name": "env"
  },
  "language_info": {
   "codemirror_mode": {
    "name": "ipython",
    "version": 3
   },
   "file_extension": ".py",
   "mimetype": "text/x-python",
   "name": "python",
   "nbconvert_exporter": "python",
   "pygments_lexer": "ipython3",
   "version": "3.8.1"
  }
 },
 "nbformat": 4,
 "nbformat_minor": 2
}
